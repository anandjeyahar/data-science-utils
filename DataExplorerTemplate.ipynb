{
 "cells": [
  {
   "cell_type": "code",
   "execution_count": null,
   "metadata": {
    "ExecuteTime": {
     "end_time": "2016-10-29T19:11:03.829073",
     "start_time": "2016-10-29T19:10:53.795548"
    },
    "collapsed": false
   },
   "outputs": [],
   "source": [
    "# Custom libraries\n",
    "from datascienceutils import plotter\n",
    "from datascienceutils import analyze\n",
    "\n",
    "\n",
    "# Standard libraries\n",
    "%load_ext autoreload\n",
    "#import matplotlib as mpl\n",
    "#mpl.use('Agg')\n",
    "#import matplotlib.pyplot as plt\n",
    "import json\n",
    "#fig=plt.figure()\n",
    "%matplotlib inline\n",
    "\n",
    "import numpy as np\n",
    "import pandas as pd\n",
    "from sklearn import cross_validation\n",
    "from sklearn import metrics\n",
    "\n",
    "\n",
    "from bokeh.plotting import figure, show, output_file, output_notebook, ColumnDataSource\n",
    "from bokeh.charts import Histogram\n",
    "import bokeh\n",
    "output_notebook(bokeh.resources.INLINE)\n",
    "\n",
    "from sqlalchemy import create_engine"
   ]
  },
  {
   "cell_type": "code",
   "execution_count": null,
   "metadata": {
    "ExecuteTime": {
     "end_time": "2016-10-29T19:11:03.890466",
     "start_time": "2016-10-29T19:11:03.830896"
    },
    "collapsed": false
   },
   "outputs": [],
   "source": [
    "df = pd.read_csv('./data/Iris.csv')"
   ]
  },
  {
   "cell_type": "code",
   "execution_count": null,
   "metadata": {
    "ExecuteTime": {
     "end_time": "2016-10-29T19:11:04.487650",
     "start_time": "2016-10-29T19:11:03.891852"
    },
    "collapsed": false
   },
   "outputs": [],
   "source": [
    "df.describe()"
   ]
  },
  {
   "cell_type": "code",
   "execution_count": null,
   "metadata": {
    "ExecuteTime": {
     "end_time": "2016-10-29T19:11:04.594639",
     "start_time": "2016-10-29T19:11:04.488966"
    },
    "collapsed": false
   },
   "outputs": [],
   "source": [
    "df.head()"
   ]
  },
  {
   "cell_type": "code",
   "execution_count": null,
   "metadata": {
    "ExecuteTime": {
     "end_time": "2016-10-29T19:11:04.807056",
     "start_time": "2016-10-29T19:11:04.596305"
    },
    "collapsed": false
   },
   "outputs": [],
   "source": [
    "df.corr()"
   ]
  },
  {
   "cell_type": "code",
   "execution_count": null,
   "metadata": {
    "ExecuteTime": {
     "end_time": "2016-10-29T19:11:05.600440",
     "start_time": "2016-10-29T19:11:04.809812"
    },
    "collapsed": false
   },
   "outputs": [],
   "source": [
    "analyze.correlation_analyze(df, exclude_columns='Id')"
   ]
  },
  {
   "cell_type": "code",
   "execution_count": null,
   "metadata": {
    "ExecuteTime": {
     "end_time": "2016-10-29T19:11:05.607362",
     "start_time": "2016-10-29T19:11:05.602374"
    },
    "collapsed": false
   },
   "outputs": [],
   "source": [
    "df.columns\n",
    "target = df.Species\n",
    "df.drop('Species', 1, inplace=True)"
   ]
  },
  {
   "cell_type": "code",
   "execution_count": null,
   "metadata": {
    "ExecuteTime": {
     "end_time": "2016-10-29T19:11:05.777710",
     "start_time": "2016-10-29T19:11:05.608789"
    },
    "collapsed": false,
    "run_control": {
     "marked": true
    }
   },
   "outputs": [],
   "source": [
    "#analyze.time_series_analysis(df, timeCol='date', valueCol='count')"
   ]
  },
  {
   "cell_type": "code",
   "execution_count": null,
   "metadata": {
    "ExecuteTime": {
     "start_time": "2016-10-29T13:40:53.866Z"
    },
    "collapsed": false
   },
   "outputs": [],
   "source": [
    "analyze.silhouette_analyze(df, cluster_type='KMeans', n_clusters=range(2,4))"
   ]
  },
  {
   "cell_type": "code",
   "execution_count": null,
   "metadata": {
    "ExecuteTime": {
     "start_time": "2016-10-29T13:40:53.874Z"
    },
    "collapsed": false
   },
   "outputs": [],
   "source": [
    "analyze.silhouette_analyze(df, cluster_type='spectral', n_clusters=range(2,5))"
   ]
  },
  {
   "cell_type": "code",
   "execution_count": null,
   "metadata": {
    "ExecuteTime": {
     "start_time": "2016-10-29T13:40:53.881Z"
    },
    "collapsed": false
   },
   "outputs": [],
   "source": [
    "analyze.cluster_analyze(df, cluster_type='KMeans', n_clusters=4)"
   ]
  },
  {
   "cell_type": "code",
   "execution_count": null,
   "metadata": {
    "ExecuteTime": {
     "start_time": "2016-10-29T13:40:53.888Z"
    },
    "collapsed": false
   },
   "outputs": [],
   "source": [
    "analyze.cluster_analyze(df, cluster_type='dbscan')"
   ]
  },
  {
   "cell_type": "code",
   "execution_count": null,
   "metadata": {
    "ExecuteTime": {
     "start_time": "2016-10-29T13:40:53.896Z"
    },
    "collapsed": false
   },
   "outputs": [],
   "source": [
    "analyze.som_analyze(df, (30,30), algo_type='som')"
   ]
  },
  {
   "cell_type": "code",
   "execution_count": null,
   "metadata": {
    "ExecuteTime": {
     "start_time": "2016-10-29T13:40:53.906Z"
    },
    "collapsed": false
   },
   "outputs": [],
   "source": [
    "df.columns"
   ]
  },
  {
   "cell_type": "code",
   "execution_count": null,
   "metadata": {
    "ExecuteTime": {
     "start_time": "2016-10-29T13:40:53.915Z"
    },
    "collapsed": false
   },
   "outputs": [],
   "source": [
    "#new_df =df.copy(deep=True)\n",
    "#new_df.drop('Id', 1, inplace=True)\n",
    "analyze.chaid_tree(df, 'y_pred')"
   ]
  }
 ],
 "metadata": {
  "anaconda-cloud": {},
  "kernelspec": {
   "display_name": "Python 3",
   "language": "python",
   "name": "python3"
  },
  "language_info": {
   "codemirror_mode": {
    "name": "ipython",
    "version": 3
   },
   "file_extension": ".py",
   "mimetype": "text/x-python",
   "name": "python",
   "nbconvert_exporter": "python",
   "pygments_lexer": "ipython3",
   "version": "3.5.2"
  },
  "latex_envs": {
   "bibliofile": "biblio.bib",
   "cite_by": "apalike",
   "current_citInitial": 1,
   "eqLabelWithNumbers": true,
   "eqNumInitial": 0
  }
 },
 "nbformat": 4,
 "nbformat_minor": 0
}
