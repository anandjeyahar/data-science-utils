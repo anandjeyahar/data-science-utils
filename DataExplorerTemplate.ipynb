{
 "cells": [
  {
   "cell_type": "code",
   "execution_count": null,
   "metadata": {
    "ExecuteTime": {
     "end_time": "2016-10-05T20:17:54.314406",
     "start_time": "2016-10-05T20:17:52.919401"
    },
    "collapsed": false
   },
   "outputs": [],
   "source": [
    "# Custom libraries\n",
    "import plotter\n",
    "import analyze\n",
    "\n",
    "\n",
    "# Standard libraries\n",
    "%load_ext autoreload\n",
    "#import matplotlib as mpl\n",
    "#mpl.use('Agg')\n",
    "#import matplotlib.pyplot as plt\n",
    "import json\n",
    "#fig=plt.figure()\n",
    "%matplotlib inline\n",
    "\n",
    "import numpy as np\n",
    "import pandas as pd\n",
    "from sklearn import cross_validation\n",
    "from sklearn import metrics\n",
    "\n",
    "\n",
    "from bokeh.plotting import figure, show, output_file, output_notebook, ColumnDataSource\n",
    "from bokeh.charts import Histogram\n",
    "import bokeh\n",
    "output_notebook(bokeh.resources.INLINE)\n",
    "\n",
    "from sqlalchemy import create_engine"
   ]
  },
  {
   "cell_type": "code",
   "execution_count": null,
   "metadata": {
    "ExecuteTime": {
     "end_time": "2016-10-05T20:17:54.320543",
     "start_time": "2016-10-05T20:17:54.316042"
    },
    "collapsed": false
   },
   "outputs": [],
   "source": [
    "df = pd.read_csv('./data/Iris.csv')"
   ]
  },
  {
   "cell_type": "code",
   "execution_count": null,
   "metadata": {
    "ExecuteTime": {
     "end_time": "2016-10-05T20:17:54.583982",
     "start_time": "2016-10-05T20:17:54.322054"
    },
    "collapsed": false
   },
   "outputs": [],
   "source": [
    "df.describe()"
   ]
  },
  {
   "cell_type": "code",
   "execution_count": null,
   "metadata": {
    "ExecuteTime": {
     "end_time": "2016-10-05T20:17:54.716612",
     "start_time": "2016-10-05T20:17:54.585650"
    },
    "collapsed": false
   },
   "outputs": [],
   "source": [
    "df.head()"
   ]
  },
  {
   "cell_type": "code",
   "execution_count": null,
   "metadata": {
    "ExecuteTime": {
     "end_time": "2016-10-05T20:17:54.904417",
     "start_time": "2016-10-05T20:17:54.718167"
    },
    "collapsed": false
   },
   "outputs": [],
   "source": [
    "df.corr()"
   ]
  },
  {
   "cell_type": "code",
   "execution_count": null,
   "metadata": {
    "ExecuteTime": {
     "end_time": "2016-10-05T20:17:55.401688",
     "start_time": "2016-10-05T20:17:54.906089"
    },
    "collapsed": false
   },
   "outputs": [],
   "source": [
    "analyze.correlation_analyze(df, exclude_columns='Id')"
   ]
  },
  {
   "cell_type": "code",
   "execution_count": null,
   "metadata": {
    "ExecuteTime": {
     "end_time": "2016-10-05T20:17:55.420212",
     "start_time": "2016-10-05T20:17:55.403007"
    },
    "collapsed": false
   },
   "outputs": [],
   "source": [
    "df.columns\n",
    "target = df.Species\n",
    "df.drop('Species', 1, inplace=True)"
   ]
  },
  {
   "cell_type": "code",
   "execution_count": null,
   "metadata": {
    "ExecuteTime": {
     "end_time": "2016-10-05T20:17:55.636982",
     "start_time": "2016-10-05T20:17:55.421594"
    },
    "collapsed": false,
    "run_control": {
     "marked": true
    }
   },
   "outputs": [],
   "source": [
    "#analyze.time_series_analysis(df, timeCol='date', valueCol='count')"
   ]
  },
  {
   "cell_type": "code",
   "execution_count": null,
   "metadata": {
    "ExecuteTime": {
     "end_time": "2016-10-05T20:17:57.071026",
     "start_time": "2016-10-05T20:17:55.638493"
    },
    "collapsed": false
   },
   "outputs": [],
   "source": [
    "analyze.silhouette_analyze(df, cluster_type='KMeans', n_clusters=range(2,4))"
   ]
  },
  {
   "cell_type": "code",
   "execution_count": null,
   "metadata": {
    "ExecuteTime": {
     "end_time": "2016-10-05T20:17:58.734016",
     "start_time": "2016-10-05T20:17:57.072861"
    },
    "collapsed": false
   },
   "outputs": [],
   "source": [
    "analyze.silhouette_analyze(df, cluster_type='spectral', n_clusters=range(2,5))"
   ]
  },
  {
   "cell_type": "code",
   "execution_count": null,
   "metadata": {
    "ExecuteTime": {
     "end_time": "2016-10-05T20:17:58.989228",
     "start_time": "2016-10-05T20:17:58.735436"
    },
    "collapsed": false
   },
   "outputs": [],
   "source": [
    "analyze.cluster_analyze(df, cluster_type='KMeans', n_clusters=4)"
   ]
  },
  {
   "cell_type": "code",
   "execution_count": null,
   "metadata": {
    "ExecuteTime": {
     "end_time": "2016-10-05T20:17:59.190792",
     "start_time": "2016-10-05T20:17:58.990658"
    },
    "collapsed": false
   },
   "outputs": [],
   "source": [
    "analyze.cluster_analyze(df, cluster_type='dbscan')"
   ]
  },
  {
   "cell_type": "code",
   "execution_count": null,
   "metadata": {
    "ExecuteTime": {
     "end_time": "2016-10-05T20:19:48.638583",
     "start_time": "2016-10-05T20:17:59.192226"
    },
    "collapsed": false
   },
   "outputs": [],
   "source": [
    "analyze.som_analyze(df, (30,30), algo_type='som')"
   ]
  },
  {
   "cell_type": "code",
   "execution_count": null,
   "metadata": {
    "ExecuteTime": {
     "end_time": "2016-10-05T20:20:34.685628",
     "start_time": "2016-10-05T20:20:34.678867"
    },
    "collapsed": false
   },
   "outputs": [],
   "source": [
    "df.columns"
   ]
  },
  {
   "cell_type": "code",
   "execution_count": null,
   "metadata": {
    "ExecuteTime": {
     "end_time": "2016-10-05T20:20:57.928203",
     "start_time": "2016-10-05T20:20:53.053694"
    },
    "collapsed": false
   },
   "outputs": [],
   "source": [
    "#new_df =df.copy(deep=True)\n",
    "#new_df.drop('Id', 1, inplace=True)\n",
    "analyze.chaid_tree(df, 'y_pred')"
   ]
  }
 ],
 "metadata": {
  "kernelspec": {
   "display_name": "Python 3",
   "language": "python",
   "name": "python3"
  },
  "language_info": {
   "codemirror_mode": {
    "name": "ipython",
    "version": 3
   },
   "file_extension": ".py",
   "mimetype": "text/x-python",
   "name": "python",
   "nbconvert_exporter": "python",
   "pygments_lexer": "ipython3",
   "version": "3.5.2"
  },
  "latex_envs": {
   "bibliofile": "biblio.bib",
   "cite_by": "apalike",
   "current_citInitial": 1,
   "eqLabelWithNumbers": true,
   "eqNumInitial": 0
  }
 },
 "nbformat": 4,
 "nbformat_minor": 0
}
