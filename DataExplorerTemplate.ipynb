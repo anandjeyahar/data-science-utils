{
 "cells": [
  {
   "cell_type": "code",
   "execution_count": null,
   "metadata": {
    "ExecuteTime": {
     "end_time": "2016-11-01T17:28:38.726843",
     "start_time": "2016-11-01T17:28:37.479132"
    },
    "collapsed": false,
    "scrolled": true
   },
   "outputs": [],
   "source": [
    "# Custom libraries\n",
    "from datascienceutils import plotter\n",
    "from datascienceutils import analyze\n",
    "\n",
    "# Standard libraries\n",
    "import json\n",
    "%matplotlib inline\n",
    "import datetime\n",
    "import numpy as np\n",
    "import pandas as pd\n",
    "import random\n",
    "\n",
    "from sklearn import cross_validation\n",
    "from sklearn import metrics\n",
    "\n",
    "from bokeh.plotting import figure, show, output_file, output_notebook, ColumnDataSource\n",
    "from bokeh.charts import Histogram\n",
    "import bokeh\n",
    "output_notebook(bokeh.resources.INLINE)\n",
    "\n",
    "from sqlalchemy import create_engine"
   ]
  },
  {
   "cell_type": "code",
   "execution_count": null,
   "metadata": {
    "ExecuteTime": {
     "end_time": "2016-11-01T17:28:39.017577",
     "start_time": "2016-11-01T17:28:38.728984"
    },
    "collapsed": false,
    "scrolled": true
   },
   "outputs": [],
   "source": [
    "irisDf = pd.read_csv('./data/Iris.csv')\n",
    "# Sample Timeseries  picked from here https://www.backblaze.com/b2/hard-drive-test-data.html\n",
    "hdd2013Df = pd.read_csv('./data/hdd_2013-11-26.csv')"
   ]
  },
  {
   "cell_type": "code",
   "execution_count": null,
   "metadata": {
    "ExecuteTime": {
     "end_time": "2016-11-01T17:28:39.038170",
     "start_time": "2016-11-01T17:28:39.019846"
    },
    "collapsed": false,
    "scrolled": true
   },
   "outputs": [],
   "source": [
    "# Create classes for showing off correlation_analyze's heatmapping ability\n",
    "def createClasses(x):\n",
    "    rdm = random.random()\n",
    "    if rdm < 0.3:\n",
    "        return 'A'\n",
    "    elif rdm > 0.3 and rdm < 0.6:\n",
    "        return 'B' \n",
    "    else:\n",
    "        return 'C'\n",
    "irisDf['Class'] = irisDf['Species'].apply(createClasses)"
   ]
  },
  {
   "cell_type": "code",
   "execution_count": null,
   "metadata": {
    "ExecuteTime": {
     "end_time": "2016-11-01T17:28:39.246820",
     "start_time": "2016-11-01T17:28:39.040492"
    },
    "collapsed": false,
    "scrolled": true
   },
   "outputs": [],
   "source": [
    "irisDf.describe()"
   ]
  },
  {
   "cell_type": "code",
   "execution_count": null,
   "metadata": {
    "ExecuteTime": {
     "end_time": "2016-11-01T17:28:39.804661",
     "start_time": "2016-11-01T17:28:39.249023"
    },
    "collapsed": false,
    "scrolled": true
   },
   "outputs": [],
   "source": [
    "irisDf.head()"
   ]
  },
  {
   "cell_type": "code",
   "execution_count": null,
   "metadata": {
    "ExecuteTime": {
     "end_time": "2016-11-01T17:28:40.036197",
     "start_time": "2016-11-01T17:28:39.807976"
    },
    "collapsed": false,
    "scrolled": true
   },
   "outputs": [],
   "source": [
    "irisDf.corr()"
   ]
  },
  {
   "cell_type": "code",
   "execution_count": null,
   "metadata": {
    "ExecuteTime": {
     "end_time": "2016-11-01T17:28:40.119685",
     "start_time": "2016-11-01T17:28:40.039652"
    },
    "collapsed": false,
    "scrolled": true
   },
   "outputs": [],
   "source": [
    "irisDf['Species'].unique()"
   ]
  },
  {
   "cell_type": "code",
   "execution_count": null,
   "metadata": {
    "ExecuteTime": {
     "end_time": "2016-11-01T17:28:41.783891",
     "start_time": "2016-11-01T17:28:40.122119"
    },
    "collapsed": false,
    "scrolled": true
   },
   "outputs": [],
   "source": [
    "analyze.correlation_analyze(irisDf, exclude_columns='Id', \n",
    "                                categories=['Species', 'Class'], \n",
    "                                measure=['SepalLengthCm','SepalWidthCm',\n",
    "                                           'PetalLengthCm', 'PetalWidthCm'])"
   ]
  },
  {
   "cell_type": "code",
   "execution_count": null,
   "metadata": {
    "ExecuteTime": {
     "end_time": "2016-11-01T17:28:41.796926",
     "start_time": "2016-11-01T17:28:41.788236"
    },
    "collapsed": false,
    "scrolled": true
   },
   "outputs": [],
   "source": [
    "target = irisDf.Species\n",
    "irisDf.drop(['Species', 'Class'], 1, inplace=True)\n"
   ]
  },
  {
   "cell_type": "code",
   "execution_count": null,
   "metadata": {
    "ExecuteTime": {
     "end_time": "2016-11-01T17:28:41.915283",
     "start_time": "2016-11-01T17:28:41.800243"
    },
    "collapsed": false,
    "run_control": {
     "marked": true
    },
    "scrolled": true
   },
   "outputs": [],
   "source": [
    "#analyze.time_series_analysis(df, timeCol='date', valueCol='count')"
   ]
  },
  {
   "cell_type": "code",
   "execution_count": null,
   "metadata": {
    "ExecuteTime": {
     "end_time": "2016-11-01T17:28:42.288217",
     "start_time": "2016-11-01T17:28:41.917729"
    },
    "collapsed": false,
    "scrolled": true
   },
   "outputs": [],
   "source": [
    "analyze.cluster_analyze(irisDf, cluster_type='dbscan')"
   ]
  },
  {
   "cell_type": "code",
   "execution_count": null,
   "metadata": {
    "ExecuteTime": {
     "end_time": "2016-11-01T17:28:42.294907",
     "start_time": "2016-11-01T17:28:42.289942"
    },
    "collapsed": false,
    "scrolled": true
   },
   "outputs": [],
   "source": [
    "#analyze.som_analyze(df, (10,10), algo_type='som')"
   ]
  },
  {
   "cell_type": "code",
   "execution_count": null,
   "metadata": {
    "ExecuteTime": {
     "end_time": "2016-11-01T17:28:42.690659",
     "start_time": "2016-11-01T17:28:42.298110"
    },
    "collapsed": false,
    "scrolled": true
   },
   "outputs": [],
   "source": [
    "hdd2013Df.fillna(value=0, inplace=True)\n",
    "hdd2013Df.describe()"
   ]
  },
  {
   "cell_type": "code",
   "execution_count": null,
   "metadata": {
    "ExecuteTime": {
     "end_time": "2016-11-01T17:28:42.723761",
     "start_time": "2016-11-01T17:28:42.692084"
    },
    "collapsed": false,
    "scrolled": true
   },
   "outputs": [],
   "source": [
    "hdd2013Df.head()"
   ]
  },
  {
   "cell_type": "code",
   "execution_count": null,
   "metadata": {
    "ExecuteTime": {
     "end_time": "2016-11-01T17:28:42.805273",
     "start_time": "2016-11-01T17:28:42.727264"
    },
    "collapsed": false,
    "scrolled": true
   },
   "outputs": [],
   "source": [
    "hdd2013Df['date'] = hdd2013Df['date'].astype('datetime64[ns]')"
   ]
  },
  {
   "cell_type": "code",
   "execution_count": null,
   "metadata": {
    "ExecuteTime": {
     "end_time": "2016-11-01T17:28:43.201562",
     "start_time": "2016-11-01T17:28:42.806611"
    },
    "collapsed": false,
    "scrolled": true
   },
   "outputs": [],
   "source": [
    "hdd2013Df['date'] = [each + datetime.timedelta(0, i*45) for i, each in enumerate(hdd2013Df.date)]"
   ]
  },
  {
   "cell_type": "code",
   "execution_count": null,
   "metadata": {
    "ExecuteTime": {
     "end_time": "2016-11-01T17:30:46.655548",
     "start_time": "2016-11-01T17:30:45.106612"
    },
    "collapsed": false,
    "scrolled": false
   },
   "outputs": [],
   "source": [
    "analyze.time_series_analysis(hdd2013Df, timeCol='date', valueCol='smart_1_raw', seasonal={'freq': '30s'})"
   ]
  },
  {
   "cell_type": "code",
   "execution_count": null,
   "metadata": {
    "collapsed": true,
    "scrolled": true
   },
   "outputs": [],
   "source": []
  }
 ],
 "metadata": {
  "anaconda-cloud": {},
  "kernelspec": {
   "display_name": "Python [default]",
   "language": "python",
   "name": "python3"
  },
  "language_info": {
   "codemirror_mode": {
    "name": "ipython",
    "version": 3
   },
   "file_extension": ".py",
   "mimetype": "text/x-python",
   "name": "python",
   "nbconvert_exporter": "python",
   "pygments_lexer": "ipython3",
   "version": "3.5.2"
  },
  "latex_envs": {
   "bibliofile": "biblio.bib",
   "cite_by": "apalike",
   "current_citInitial": 1,
   "eqLabelWithNumbers": true,
   "eqNumInitial": 0
  }
 },
 "nbformat": 4,
 "nbformat_minor": 0
}
