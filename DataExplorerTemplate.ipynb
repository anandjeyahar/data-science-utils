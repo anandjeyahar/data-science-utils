{
 "cells": [
  {
   "cell_type": "code",
   "execution_count": null,
   "metadata": {
    "ExecuteTime": {
     "end_time": "2016-09-26T14:43:18.927210",
     "start_time": "2016-09-26T14:43:07.807869"
    },
    "collapsed": false
   },
   "outputs": [],
   "source": [
    "# Custom libraries\n",
    "import plotter\n",
    "import analyze\n",
    "\n",
    "\n",
    "# Standard libraries\n",
    "%load_ext autoreload\n",
    "#import matplotlib as mpl\n",
    "#mpl.use('Agg')\n",
    "#import matplotlib.pyplot as plt\n",
    "import json\n",
    "#fig=plt.figure()\n",
    "%matplotlib inline\n",
    "\n",
    "import numpy as np\n",
    "import pandas as pd\n",
    "from sklearn import cross_validation\n",
    "from sklearn import metrics\n",
    "\n",
    "\n",
    "from bokeh.plotting import figure, show, output_file, output_notebook, ColumnDataSource\n",
    "from bokeh.charts import Histogram\n",
    "import bokeh\n",
    "output_notebook(bokeh.resources.INLINE)\n",
    "\n",
    "from sqlalchemy import create_engine"
   ]
  },
  {
   "cell_type": "code",
   "execution_count": null,
   "metadata": {
    "ExecuteTime": {
     "end_time": "2016-09-26T14:43:19.041421",
     "start_time": "2016-09-26T14:43:18.928561"
    },
    "collapsed": false
   },
   "outputs": [],
   "source": [
    "import sompy"
   ]
  },
  {
   "cell_type": "code",
   "execution_count": null,
   "metadata": {
    "ExecuteTime": {
     "end_time": "2016-09-26T14:48:10.280285",
     "start_time": "2016-09-26T14:48:10.174023"
    },
    "collapsed": false
   },
   "outputs": [],
   "source": [
    "df = pd.read_csv('./data/Iris.csv')"
   ]
  },
  {
   "cell_type": "code",
   "execution_count": null,
   "metadata": {
    "ExecuteTime": {
     "end_time": "2016-09-26T14:48:10.471985",
     "start_time": "2016-09-26T14:48:10.281761"
    },
    "collapsed": false
   },
   "outputs": [],
   "source": [
    "df.describe()"
   ]
  },
  {
   "cell_type": "code",
   "execution_count": null,
   "metadata": {
    "ExecuteTime": {
     "end_time": "2016-09-26T14:48:10.562823",
     "start_time": "2016-09-26T14:48:10.474324"
    },
    "collapsed": false
   },
   "outputs": [],
   "source": [
    "df.head()"
   ]
  },
  {
   "cell_type": "code",
   "execution_count": null,
   "metadata": {
    "ExecuteTime": {
     "end_time": "2016-09-26T14:48:10.733700",
     "start_time": "2016-09-26T14:48:10.566213"
    },
    "collapsed": false
   },
   "outputs": [],
   "source": [
    "df.corr()"
   ]
  },
  {
   "cell_type": "code",
   "execution_count": null,
   "metadata": {
    "ExecuteTime": {
     "end_time": "2016-09-26T14:48:11.922412",
     "start_time": "2016-09-26T14:48:10.739387"
    },
    "collapsed": false
   },
   "outputs": [],
   "source": [
    "analyze.correlation_analyze(df, exclude_columns='Id')"
   ]
  },
  {
   "cell_type": "code",
   "execution_count": null,
   "metadata": {
    "ExecuteTime": {
     "end_time": "2016-09-26T14:48:11.930137",
     "start_time": "2016-09-26T14:48:11.925072"
    },
    "collapsed": false
   },
   "outputs": [],
   "source": [
    "df.columns\n",
    "target = df.Species\n",
    "df.drop('Species', 1, inplace=True)"
   ]
  },
  {
   "cell_type": "code",
   "execution_count": null,
   "metadata": {
    "ExecuteTime": {
     "end_time": "2016-09-26T14:48:12.042179",
     "start_time": "2016-09-26T14:48:11.934566"
    },
    "collapsed": false,
    "run_control": {
     "marked": true
    }
   },
   "outputs": [],
   "source": [
    "#analyze.time_series_analysis(df, timeCol='date', valueCol='count')"
   ]
  },
  {
   "cell_type": "code",
   "execution_count": null,
   "metadata": {
    "ExecuteTime": {
     "end_time": "2016-09-26T14:49:07.973389",
     "start_time": "2016-09-26T14:49:06.821849"
    },
    "collapsed": false
   },
   "outputs": [],
   "source": [
    "analyze.silhouette_analyze(df, cluster_type='KMeans', n_clusters=range(2,4))"
   ]
  },
  {
   "cell_type": "code",
   "execution_count": null,
   "metadata": {
    "ExecuteTime": {
     "end_time": "2016-09-26T14:49:40.783272",
     "start_time": "2016-09-26T14:49:38.819486"
    },
    "collapsed": false
   },
   "outputs": [],
   "source": [
    "analyze.silhouette_analyze(df, cluster_type='spectral', n_clusters=range(2,5))"
   ]
  },
  {
   "cell_type": "code",
   "execution_count": null,
   "metadata": {
    "ExecuteTime": {
     "end_time": "2016-09-26T14:48:18.114223",
     "start_time": "2016-09-26T14:48:17.787890"
    },
    "collapsed": false
   },
   "outputs": [],
   "source": [
    "analyze.cluster_analyze(df, cluster_type='KMeans', n_clusters=4)"
   ]
  },
  {
   "cell_type": "code",
   "execution_count": null,
   "metadata": {
    "ExecuteTime": {
     "end_time": "2016-09-26T14:48:18.370725",
     "start_time": "2016-09-26T14:48:18.121737"
    },
    "collapsed": false
   },
   "outputs": [],
   "source": [
    "analyze.cluster_analyze(df, cluster_type='dbscan')"
   ]
  },
  {
   "cell_type": "code",
   "execution_count": null,
   "metadata": {
    "ExecuteTime": {
     "end_time": "2016-09-26T14:48:18.416567",
     "start_time": "2016-09-26T14:48:18.373908"
    },
    "collapsed": false
   },
   "outputs": [],
   "source": [
    "analyze.som_analyze(df, (30,30), algo_type='som')"
   ]
  }
 ],
 "metadata": {
  "kernelspec": {
   "display_name": "Python 3",
   "language": "python",
   "name": "python3"
  },
  "language_info": {
   "codemirror_mode": {
    "name": "ipython",
    "version": 3
   },
   "file_extension": ".py",
   "mimetype": "text/x-python",
   "name": "python",
   "nbconvert_exporter": "python",
   "pygments_lexer": "ipython3",
   "version": "3.5.1"
  },
  "latex_envs": {
   "bibliofile": "biblio.bib",
   "cite_by": "apalike",
   "current_citInitial": 1,
   "eqLabelWithNumbers": true,
   "eqNumInitial": 0
  }
 },
 "nbformat": 4,
 "nbformat_minor": 0
}
