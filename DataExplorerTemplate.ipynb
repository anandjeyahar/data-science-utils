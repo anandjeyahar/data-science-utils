{
 "cells": [
  {
   "cell_type": "code",
   "execution_count": null,
   "metadata": {
    "ExecuteTime": {
     "end_time": "2016-10-18T11:50:01.495901",
     "start_time": "2016-10-18T11:50:01.441852"
    },
    "collapsed": false
   },
   "outputs": [],
   "source": [
    "# Custom libraries\n",
    "from datascienceutils import plotter\n",
    "from datascienceutils import analyze\n",
    "\n",
    "\n",
    "# Standard libraries\n",
    "%load_ext autoreload\n",
    "#import matplotlib as mpl\n",
    "#mpl.use('Agg')\n",
    "#import matplotlib.pyplot as plt\n",
    "import json\n",
    "#fig=plt.figure()\n",
    "%matplotlib inline\n",
    "\n",
    "import numpy as np\n",
    "import pandas as pd\n",
    "from sklearn import cross_validation\n",
    "from sklearn import metrics\n",
    "\n",
    "\n",
    "from bokeh.plotting import figure, show, output_file, output_notebook, ColumnDataSource\n",
    "from bokeh.charts import Histogram\n",
    "import bokeh\n",
    "output_notebook(bokeh.resources.INLINE)\n",
    "\n",
    "from sqlalchemy import create_engine"
   ]
  },
  {
   "cell_type": "code",
   "execution_count": null,
   "metadata": {
    "ExecuteTime": {
     "end_time": "2016-10-18T11:50:10.985519",
     "start_time": "2016-10-18T11:50:10.966414"
    },
    "collapsed": false
   },
   "outputs": [],
   "source": [
    "df = pd.read_csv('./data/Iris.csv')"
   ]
  },
  {
   "cell_type": "code",
   "execution_count": null,
   "metadata": {
    "ExecuteTime": {
     "end_time": "2016-10-18T11:50:11.130678",
     "start_time": "2016-10-18T11:50:10.989527"
    },
    "collapsed": false
   },
   "outputs": [],
   "source": [
    "df.describe()"
   ]
  },
  {
   "cell_type": "code",
   "execution_count": null,
   "metadata": {
    "ExecuteTime": {
     "end_time": "2016-10-18T11:50:11.278658",
     "start_time": "2016-10-18T11:50:11.132347"
    },
    "collapsed": false
   },
   "outputs": [],
   "source": [
    "df.head()"
   ]
  },
  {
   "cell_type": "code",
   "execution_count": null,
   "metadata": {
    "ExecuteTime": {
     "start_time": "2016-10-18T06:20:10.988Z"
    },
    "collapsed": false
   },
   "outputs": [],
   "source": [
    "df.corr()"
   ]
  },
  {
   "cell_type": "code",
   "execution_count": null,
   "metadata": {
    "collapsed": true
   },
   "outputs": [],
   "source": []
  },
  {
   "cell_type": "code",
   "execution_count": null,
   "metadata": {
    "ExecuteTime": {
     "start_time": "2016-10-18T06:20:10.992Z"
    },
    "collapsed": false
   },
   "outputs": [],
   "source": [
    "analyze.correlation_analyze(df, exclude_columns='Id')"
   ]
  },
  {
   "cell_type": "code",
   "execution_count": null,
   "metadata": {
    "ExecuteTime": {
     "start_time": "2016-10-18T06:20:10.994Z"
    },
    "collapsed": false
   },
   "outputs": [],
   "source": [
    "df.columns\n",
    "target = df.Species\n",
    "df.drop('Species', 1, inplace=True)"
   ]
  },
  {
   "cell_type": "code",
   "execution_count": null,
   "metadata": {
    "ExecuteTime": {
     "start_time": "2016-10-18T06:20:10.996Z"
    },
    "collapsed": false,
    "run_control": {
     "marked": true
    }
   },
   "outputs": [],
   "source": [
    "#analyze.time_series_analysis(df, timeCol='date', valueCol='count')"
   ]
  },
  {
   "cell_type": "code",
   "execution_count": null,
   "metadata": {
    "ExecuteTime": {
     "start_time": "2016-10-18T06:20:10.999Z"
    },
    "collapsed": false
   },
   "outputs": [],
   "source": [
    "analyze.silhouette_analyze(df, cluster_type='KMeans', n_clusters=range(2,4))"
   ]
  },
  {
   "cell_type": "code",
   "execution_count": null,
   "metadata": {
    "ExecuteTime": {
     "start_time": "2016-10-18T06:20:11.003Z"
    },
    "collapsed": false
   },
   "outputs": [],
   "source": [
    "analyze.silhouette_analyze(df, cluster_type='spectral', n_clusters=range(2,5))"
   ]
  },
  {
   "cell_type": "code",
   "execution_count": null,
   "metadata": {
    "ExecuteTime": {
     "start_time": "2016-10-18T06:20:11.005Z"
    },
    "collapsed": false
   },
   "outputs": [],
   "source": [
    "analyze.cluster_analyze(df, cluster_type='KMeans', n_clusters=4)"
   ]
  },
  {
   "cell_type": "code",
   "execution_count": null,
   "metadata": {
    "ExecuteTime": {
     "start_time": "2016-10-18T06:20:11.006Z"
    },
    "collapsed": false
   },
   "outputs": [],
   "source": [
    "analyze.cluster_analyze(df, cluster_type='dbscan')"
   ]
  },
  {
   "cell_type": "code",
   "execution_count": null,
   "metadata": {
    "ExecuteTime": {
     "start_time": "2016-10-18T06:20:11.009Z"
    },
    "collapsed": false
   },
   "outputs": [],
   "source": [
    "analyze.som_analyze(df, (30,30), algo_type='som')"
   ]
  },
  {
   "cell_type": "code",
   "execution_count": null,
   "metadata": {
    "ExecuteTime": {
     "start_time": "2016-10-18T06:20:11.011Z"
    },
    "collapsed": false
   },
   "outputs": [],
   "source": [
    "df.columns"
   ]
  },
  {
   "cell_type": "code",
   "execution_count": null,
   "metadata": {
    "ExecuteTime": {
     "start_time": "2016-10-18T06:20:11.012Z"
    },
    "collapsed": false
   },
   "outputs": [],
   "source": [
    "#new_df =df.copy(deep=True)\n",
    "#new_df.drop('Id', 1, inplace=True)\n",
    "analyze.chaid_tree(df, 'y_pred')"
   ]
  }
 ],
 "metadata": {
  "anaconda-cloud": {},
  "kernelspec": {
   "display_name": "Python [default]",
   "language": "python",
   "name": "python3"
  },
  "language_info": {
   "codemirror_mode": {
    "name": "ipython",
    "version": 3
   },
   "file_extension": ".py",
   "mimetype": "text/x-python",
   "name": "python",
   "nbconvert_exporter": "python",
   "pygments_lexer": "ipython3",
   "version": "3.5.2"
  },
  "latex_envs": {
   "bibliofile": "biblio.bib",
   "cite_by": "apalike",
   "current_citInitial": 1,
   "eqLabelWithNumbers": true,
   "eqNumInitial": 0
  }
 },
 "nbformat": 4,
 "nbformat_minor": 0
}
