{
 "cells": [
  {
   "cell_type": "code",
   "execution_count": null,
   "metadata": {
    "ExecuteTime": {
     "end_time": "2016-11-04T22:27:55.299269",
     "start_time": "2016-11-04T22:27:54.107153"
    },
    "collapsed": false,
    "scrolled": false
   },
   "outputs": [],
   "source": [
    "# Custom libraries\n",
    "from datascienceutils import plotter\n",
    "from datascienceutils import analyze\n",
    "\n",
    "# Standard libraries\n",
    "import json\n",
    "%matplotlib inline\n",
    "import datetime\n",
    "import numpy as np\n",
    "import pandas as pd\n",
    "import random\n",
    "\n",
    "from sklearn import cross_validation\n",
    "from sklearn import metrics\n",
    "\n",
    "from bokeh.plotting import figure, show, output_file, output_notebook, ColumnDataSource\n",
    "from bokeh.charts import Histogram\n",
    "import bokeh\n",
    "output_notebook(bokeh.resources.INLINE)\n",
    "\n",
    "from sqlalchemy import create_engine"
   ]
  },
  {
   "cell_type": "code",
   "execution_count": null,
   "metadata": {
    "ExecuteTime": {
     "end_time": "2016-11-04T22:27:55.447549",
     "start_time": "2016-11-04T22:27:55.301095"
    },
    "collapsed": false,
    "scrolled": false
   },
   "outputs": [],
   "source": [
    "irisDf = pd.read_csv('./data/Iris.csv')\n",
    "# Sample Timeseries  picked from here https://www.backblaze.com/b2/hard-drive-test-data.html\n",
    "hdd2013Df = pd.read_csv('./data/hdd_2013-11-26.csv')"
   ]
  },
  {
   "cell_type": "code",
   "execution_count": null,
   "metadata": {
    "ExecuteTime": {
     "end_time": "2016-11-04T22:27:55.698989",
     "start_time": "2016-11-04T22:27:55.449000"
    },
    "collapsed": false,
    "scrolled": false
   },
   "outputs": [],
   "source": [
    "# Create classes for showing off correlation_analyze's heatmapping ability\n",
    "def createClasses(x):\n",
    "    rdm = random.random()\n",
    "    if rdm < 0.3:\n",
    "        return 'A'\n",
    "    elif rdm > 0.3 and rdm < 0.6:\n",
    "        return 'B' \n",
    "    else:\n",
    "        return 'C'\n",
    "irisDf['Class'] = irisDf['Species'].apply(createClasses)"
   ]
  },
  {
   "cell_type": "code",
   "execution_count": null,
   "metadata": {
    "ExecuteTime": {
     "end_time": "2016-11-04T22:27:55.916522",
     "start_time": "2016-11-04T22:27:55.700661"
    },
    "collapsed": false,
    "scrolled": false
   },
   "outputs": [],
   "source": [
    "irisDf.describe()"
   ]
  },
  {
   "cell_type": "code",
   "execution_count": null,
   "metadata": {
    "ExecuteTime": {
     "end_time": "2016-11-04T22:27:56.149811",
     "start_time": "2016-11-04T22:27:55.917844"
    },
    "collapsed": false,
    "scrolled": false
   },
   "outputs": [],
   "source": [
    "irisDf.head()"
   ]
  },
  {
   "cell_type": "code",
   "execution_count": null,
   "metadata": {
    "ExecuteTime": {
     "end_time": "2016-11-04T22:27:56.991319",
     "start_time": "2016-11-04T22:27:56.152340"
    },
    "collapsed": false,
    "scrolled": false
   },
   "outputs": [],
   "source": [
    "irisDf.corr()"
   ]
  },
  {
   "cell_type": "code",
   "execution_count": null,
   "metadata": {
    "ExecuteTime": {
     "end_time": "2016-11-04T22:27:57.127721",
     "start_time": "2016-11-04T22:27:56.994185"
    },
    "collapsed": false
   },
   "outputs": [],
   "source": [
    "irisDf.select_dtypes(include=[np.number]).columns"
   ]
  },
  {
   "cell_type": "code",
   "execution_count": null,
   "metadata": {
    "ExecuteTime": {
     "end_time": "2016-11-04T22:27:57.895269",
     "start_time": "2016-11-04T22:27:57.129654"
    },
    "collapsed": false,
    "scrolled": false
   },
   "outputs": [],
   "source": [
    "analyze.correlation_analyze(irisDf, exclude_columns='Id', \n",
    "                                categories=['Species', 'Class'], \n",
    "                                measure=['SepalLengthCm','SepalWidthCm',\n",
    "                                           'PetalLengthCm', 'PetalWidthCm'])"
   ]
  },
  {
   "cell_type": "code",
   "execution_count": null,
   "metadata": {
    "ExecuteTime": {
     "start_time": "2016-11-04T16:58:03.084Z"
    },
    "collapsed": false,
    "scrolled": true
   },
   "outputs": [],
   "source": [
    "analyze.regression_analyze(irisDf, 'SepalLengthCm', 'SepalWidthCm')"
   ]
  },
  {
   "cell_type": "code",
   "execution_count": null,
   "metadata": {
    "ExecuteTime": {
     "end_time": "2016-11-04T22:27:57.896641",
     "start_time": "2016-11-04T16:57:54.191Z"
    },
    "collapsed": false,
    "scrolled": false
   },
   "outputs": [],
   "source": [
    "target = irisDf.Species\n",
    "irisDf.drop(['Species', 'Class'], 1, inplace=True)\n"
   ]
  },
  {
   "cell_type": "code",
   "execution_count": null,
   "metadata": {
    "ExecuteTime": {
     "end_time": "2016-11-04T22:27:57.897031",
     "start_time": "2016-11-04T16:57:54.198Z"
    },
    "collapsed": false,
    "scrolled": false
   },
   "outputs": [],
   "source": [
    "analyze.cluster_analyze(irisDf, cluster_type='dbscan')"
   ]
  },
  {
   "cell_type": "code",
   "execution_count": null,
   "metadata": {
    "ExecuteTime": {
     "end_time": "2016-11-04T22:27:57.897424",
     "start_time": "2016-11-04T16:57:54.212Z"
    },
    "collapsed": false,
    "scrolled": false
   },
   "outputs": [],
   "source": [
    "#analyze.som_analyze(df, (10,10), algo_type='som')"
   ]
  },
  {
   "cell_type": "code",
   "execution_count": null,
   "metadata": {
    "ExecuteTime": {
     "end_time": "2016-11-04T22:27:57.897812",
     "start_time": "2016-11-04T16:57:54.222Z"
    },
    "collapsed": false,
    "scrolled": false
   },
   "outputs": [],
   "source": [
    "hdd2013Df.fillna(value=0, inplace=True)\n",
    "hdd2013Df.describe()"
   ]
  },
  {
   "cell_type": "code",
   "execution_count": null,
   "metadata": {
    "ExecuteTime": {
     "end_time": "2016-11-04T22:27:57.898194",
     "start_time": "2016-11-04T16:57:54.228Z"
    },
    "collapsed": false,
    "scrolled": false
   },
   "outputs": [],
   "source": [
    "hdd2013Df.head()"
   ]
  },
  {
   "cell_type": "code",
   "execution_count": null,
   "metadata": {
    "ExecuteTime": {
     "end_time": "2016-11-04T22:27:57.898574",
     "start_time": "2016-11-04T16:57:54.235Z"
    },
    "collapsed": false,
    "scrolled": false
   },
   "outputs": [],
   "source": [
    "hdd2013Df['date'] = hdd2013Df['date'].astype('datetime64[ns]')"
   ]
  },
  {
   "cell_type": "code",
   "execution_count": null,
   "metadata": {
    "ExecuteTime": {
     "end_time": "2016-11-04T22:27:57.898976",
     "start_time": "2016-11-04T16:57:54.242Z"
    },
    "collapsed": false,
    "scrolled": false
   },
   "outputs": [],
   "source": [
    "hdd2013Df['date'] = [each + datetime.timedelta(0, i*45) for i, each in enumerate(hdd2013Df.date)]"
   ]
  },
  {
   "cell_type": "code",
   "execution_count": null,
   "metadata": {
    "ExecuteTime": {
     "end_time": "2016-11-04T22:27:57.899356",
     "start_time": "2016-11-04T16:57:54.249Z"
    },
    "collapsed": false,
    "scrolled": true
   },
   "outputs": [],
   "source": [
    "analyze.time_series_analysis(hdd2013Df, timeCol='date', valueCol='smart_1_raw', seasonal={'freq': '30s'})"
   ]
  },
  {
   "cell_type": "code",
   "execution_count": null,
   "metadata": {
    "collapsed": true,
    "scrolled": false
   },
   "outputs": [],
   "source": []
  }
 ],
 "metadata": {
  "anaconda-cloud": {},
  "kernelspec": {
   "display_name": "Python 3",
   "language": "python",
   "name": "python3"
  },
  "language_info": {
   "codemirror_mode": {
    "name": "ipython",
    "version": 3
   },
   "file_extension": ".py",
   "mimetype": "text/x-python",
   "name": "python",
   "nbconvert_exporter": "python",
   "pygments_lexer": "ipython3",
   "version": "3.5.2"
  },
  "latex_envs": {
   "bibliofile": "biblio.bib",
   "cite_by": "apalike",
   "current_citInitial": 1,
   "eqLabelWithNumbers": true,
   "eqNumInitial": 0
  }
 },
 "nbformat": 4,
 "nbformat_minor": 0
}
