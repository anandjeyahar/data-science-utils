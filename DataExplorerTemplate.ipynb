{
 "cells": [
  {
   "cell_type": "code",
   "execution_count": null,
   "metadata": {
    "ExecuteTime": {
     "end_time": "2016-10-16T18:54:43.397147",
     "start_time": "2016-10-16T18:54:33.244292"
    },
    "collapsed": false
   },
   "outputs": [],
   "source": [
    "# Custom libraries\n",
    "import plotter\n",
    "import analyze\n",
    "\n",
    "\n",
    "# Standard libraries\n",
    "%load_ext autoreload\n",
    "#import matplotlib as mpl\n",
    "#mpl.use('Agg')\n",
    "#import matplotlib.pyplot as plt\n",
    "import json\n",
    "#fig=plt.figure()\n",
    "%matplotlib inline\n",
    "\n",
    "import numpy as np\n",
    "import pandas as pd\n",
    "from sklearn import cross_validation\n",
    "from sklearn import metrics\n",
    "\n",
    "\n",
    "from bokeh.plotting import figure, show, output_file, output_notebook, ColumnDataSource\n",
    "from bokeh.charts import Histogram\n",
    "import bokeh\n",
    "output_notebook(bokeh.resources.INLINE)\n",
    "\n",
    "from sqlalchemy import create_engine"
   ]
  },
  {
   "cell_type": "code",
   "execution_count": null,
   "metadata": {
    "ExecuteTime": {
     "end_time": "2016-10-16T18:54:43.608334",
     "start_time": "2016-10-16T18:54:43.399872"
    },
    "collapsed": false
   },
   "outputs": [],
   "source": [
    "df = pd.read_csv('./data/Iris.csv')"
   ]
  },
  {
   "cell_type": "code",
   "execution_count": null,
   "metadata": {
    "ExecuteTime": {
     "end_time": "2016-10-16T18:54:43.987125",
     "start_time": "2016-10-16T18:54:43.610690"
    },
    "collapsed": false
   },
   "outputs": [],
   "source": [
    "df.describe()"
   ]
  },
  {
   "cell_type": "code",
   "execution_count": null,
   "metadata": {
    "ExecuteTime": {
     "end_time": "2016-10-16T18:54:44.012147",
     "start_time": "2016-10-16T18:54:43.988702"
    },
    "collapsed": false
   },
   "outputs": [],
   "source": [
    "df.head()"
   ]
  },
  {
   "cell_type": "code",
   "execution_count": null,
   "metadata": {
    "ExecuteTime": {
     "end_time": "2016-10-16T18:54:44.287735",
     "start_time": "2016-10-16T18:54:44.013571"
    },
    "collapsed": false
   },
   "outputs": [],
   "source": [
    "df.corr()"
   ]
  },
  {
   "cell_type": "code",
   "execution_count": null,
   "metadata": {
    "collapsed": true
   },
   "outputs": [],
   "source": []
  },
  {
   "cell_type": "code",
   "execution_count": null,
   "metadata": {
    "ExecuteTime": {
     "end_time": "2016-10-16T18:54:45.830537",
     "start_time": "2016-10-16T18:54:44.290902"
    },
    "collapsed": false
   },
   "outputs": [],
   "source": [
    "analyze.correlation_analyze(df, exclude_columns='Id')"
   ]
  },
  {
   "cell_type": "code",
   "execution_count": null,
   "metadata": {
    "ExecuteTime": {
     "end_time": "2016-10-16T18:54:45.836007",
     "start_time": "2016-10-16T18:54:45.832003"
    },
    "collapsed": false
   },
   "outputs": [],
   "source": [
    "df.columns\n",
    "target = df.Species\n",
    "df.drop('Species', 1, inplace=True)"
   ]
  },
  {
   "cell_type": "code",
   "execution_count": null,
   "metadata": {
    "ExecuteTime": {
     "end_time": "2016-10-16T18:54:46.020972",
     "start_time": "2016-10-16T18:54:45.837498"
    },
    "collapsed": false,
    "run_control": {
     "marked": true
    }
   },
   "outputs": [],
   "source": [
    "#analyze.time_series_analysis(df, timeCol='date', valueCol='count')"
   ]
  },
  {
   "cell_type": "code",
   "execution_count": null,
   "metadata": {
    "ExecuteTime": {
     "end_time": "2016-10-16T18:54:48.645940",
     "start_time": "2016-10-16T18:54:46.023678"
    },
    "collapsed": false
   },
   "outputs": [],
   "source": [
    "analyze.silhouette_analyze(df, cluster_type='KMeans', n_clusters=range(2,4))"
   ]
  },
  {
   "cell_type": "code",
   "execution_count": null,
   "metadata": {
    "ExecuteTime": {
     "end_time": "2016-10-16T18:54:50.778774",
     "start_time": "2016-10-16T18:54:48.648635"
    },
    "collapsed": false
   },
   "outputs": [],
   "source": [
    "analyze.silhouette_analyze(df, cluster_type='spectral', n_clusters=range(2,5))"
   ]
  },
  {
   "cell_type": "code",
   "execution_count": null,
   "metadata": {
    "ExecuteTime": {
     "end_time": "2016-10-16T18:54:51.008415",
     "start_time": "2016-10-16T18:54:50.780200"
    },
    "collapsed": false
   },
   "outputs": [],
   "source": [
    "analyze.cluster_analyze(df, cluster_type='KMeans', n_clusters=4)"
   ]
  },
  {
   "cell_type": "code",
   "execution_count": null,
   "metadata": {
    "ExecuteTime": {
     "end_time": "2016-10-16T18:54:51.207284",
     "start_time": "2016-10-16T18:54:51.009993"
    },
    "collapsed": false
   },
   "outputs": [],
   "source": [
    "analyze.cluster_analyze(df, cluster_type='dbscan')"
   ]
  },
  {
   "cell_type": "code",
   "execution_count": null,
   "metadata": {
    "ExecuteTime": {
     "end_time": "2016-10-16T18:56:38.568145",
     "start_time": "2016-10-16T18:54:51.209619"
    },
    "collapsed": false
   },
   "outputs": [],
   "source": [
    "analyze.som_analyze(df, (30,30), algo_type='som')"
   ]
  },
  {
   "cell_type": "code",
   "execution_count": null,
   "metadata": {
    "ExecuteTime": {
     "end_time": "2016-10-16T18:56:38.572935",
     "start_time": "2016-10-16T18:56:38.569556"
    },
    "collapsed": false
   },
   "outputs": [],
   "source": [
    "df.columns"
   ]
  },
  {
   "cell_type": "code",
   "execution_count": null,
   "metadata": {
    "ExecuteTime": {
     "end_time": "2016-10-16T18:58:28.692467",
     "start_time": "2016-10-16T18:56:38.574244"
    },
    "collapsed": false
   },
   "outputs": [],
   "source": [
    "#new_df =df.copy(deep=True)\n",
    "#new_df.drop('Id', 1, inplace=True)\n",
    "analyze.chaid_tree(df, 'y_pred')"
   ]
  }
 ],
 "metadata": {
  "kernelspec": {
   "display_name": "Python 3",
   "language": "python",
   "name": "python3"
  },
  "language_info": {
   "codemirror_mode": {
    "name": "ipython",
    "version": 3
   },
   "file_extension": ".py",
   "mimetype": "text/x-python",
   "name": "python",
   "nbconvert_exporter": "python",
   "pygments_lexer": "ipython3",
   "version": "3.5.2"
  },
  "latex_envs": {
   "bibliofile": "biblio.bib",
   "cite_by": "apalike",
   "current_citInitial": 1,
   "eqLabelWithNumbers": true,
   "eqNumInitial": 0
  }
 },
 "nbformat": 4,
 "nbformat_minor": 0
}
