{
 "cells": [
  {
   "cell_type": "code",
   "execution_count": null,
   "metadata": {
    "ExecuteTime": {
     "end_time": "2016-11-04T22:41:58.933591",
     "start_time": "2016-11-04T22:41:57.768903"
    },
    "collapsed": false,
    "scrolled": false
   },
   "outputs": [],
   "source": [
    "# Custom libraries\n",
    "from datascienceutils import plotter\n",
    "from datascienceutils import analyze\n",
    "\n",
    "# Standard libraries\n",
    "import json\n",
    "%matplotlib inline\n",
    "import datetime\n",
    "import numpy as np\n",
    "import pandas as pd\n",
    "import random\n",
    "\n",
    "from sklearn import cross_validation\n",
    "from sklearn import metrics\n",
    "\n",
    "from bokeh.plotting import figure, show, output_file, output_notebook, ColumnDataSource\n",
    "from bokeh.charts import Histogram\n",
    "import bokeh\n",
    "output_notebook(bokeh.resources.INLINE)\n",
    "\n",
    "from sqlalchemy import create_engine"
   ]
  },
  {
   "cell_type": "code",
   "execution_count": null,
   "metadata": {
    "ExecuteTime": {
     "end_time": "2016-11-04T22:41:59.078049",
     "start_time": "2016-11-04T22:41:58.935157"
    },
    "collapsed": false,
    "scrolled": false
   },
   "outputs": [],
   "source": [
    "irisDf = pd.read_csv('./data/Iris.csv')\n",
    "# Sample Timeseries  picked from here https://www.backblaze.com/b2/hard-drive-test-data.html\n",
    "hdd2013Df = pd.read_csv('./data/hdd_2013-11-26.csv')"
   ]
  },
  {
   "cell_type": "code",
   "execution_count": null,
   "metadata": {
    "ExecuteTime": {
     "end_time": "2016-11-04T22:41:59.168567",
     "start_time": "2016-11-04T22:41:59.079716"
    },
    "collapsed": false,
    "scrolled": false
   },
   "outputs": [],
   "source": [
    "# Create classes for showing off correlation_analyze's heatmapping ability\n",
    "def createClasses(x):\n",
    "    rdm = random.random()\n",
    "    if rdm < 0.3:\n",
    "        return 'A'\n",
    "    elif rdm > 0.3 and rdm < 0.6:\n",
    "        return 'B' \n",
    "    else:\n",
    "        return 'C'\n",
    "irisDf['Class'] = irisDf['Species'].apply(createClasses)"
   ]
  },
  {
   "cell_type": "code",
   "execution_count": null,
   "metadata": {
    "ExecuteTime": {
     "end_time": "2016-11-04T22:41:59.326138",
     "start_time": "2016-11-04T22:41:59.170013"
    },
    "collapsed": false,
    "scrolled": false
   },
   "outputs": [],
   "source": [
    "irisDf.describe()"
   ]
  },
  {
   "cell_type": "code",
   "execution_count": null,
   "metadata": {
    "ExecuteTime": {
     "end_time": "2016-11-04T22:41:59.582506",
     "start_time": "2016-11-04T22:41:59.327458"
    },
    "collapsed": false,
    "scrolled": false
   },
   "outputs": [],
   "source": [
    "irisDf.head()"
   ]
  },
  {
   "cell_type": "code",
   "execution_count": null,
   "metadata": {
    "ExecuteTime": {
     "end_time": "2016-11-04T22:41:59.748954",
     "start_time": "2016-11-04T22:41:59.583905"
    },
    "collapsed": false,
    "scrolled": false
   },
   "outputs": [],
   "source": [
    "irisDf.corr()"
   ]
  },
  {
   "cell_type": "code",
   "execution_count": null,
   "metadata": {
    "ExecuteTime": {
     "end_time": "2016-11-04T22:41:59.940022",
     "start_time": "2016-11-04T22:41:59.750947"
    },
    "collapsed": false
   },
   "outputs": [],
   "source": [
    "irisDf.select_dtypes(include=[np.number]).columns"
   ]
  },
  {
   "cell_type": "code",
   "execution_count": null,
   "metadata": {
    "ExecuteTime": {
     "end_time": "2016-11-04T22:42:00.742223",
     "start_time": "2016-11-04T22:41:59.942649"
    },
    "collapsed": false,
    "scrolled": false
   },
   "outputs": [],
   "source": [
    "analyze.correlation_analyze(irisDf, exclude_columns='Id', \n",
    "                                categories=['Species', 'Class'], \n",
    "                                measure=['SepalLengthCm','SepalWidthCm',\n",
    "                                           'PetalLengthCm', 'PetalWidthCm'])"
   ]
  },
  {
   "cell_type": "code",
   "execution_count": null,
   "metadata": {
    "ExecuteTime": {
     "end_time": "2016-11-04T22:42:00.743165",
     "start_time": "2016-11-04T17:11:57.844Z"
    },
    "collapsed": false,
    "scrolled": true
   },
   "outputs": [],
   "source": [
    "analyze.regression_analyze(irisDf, 'SepalLengthCm', 'SepalWidthCm')"
   ]
  },
  {
   "cell_type": "code",
   "execution_count": null,
   "metadata": {
    "ExecuteTime": {
     "start_time": "2016-11-04T17:14:32.821Z"
    },
    "collapsed": false
   },
   "outputs": [],
   "source": [
    "from sklearn import linear_model\n",
    "l_reg = linear_model.LinearRegression()\n",
    "target = irisDf['SepalWidthCm']\n",
    "source = irisDf['SepalLengthCm'].reshape((len(target),1))\n",
    "l_reg.fit(source, target)\n"
   ]
  },
  {
   "cell_type": "code",
   "execution_count": null,
   "metadata": {
    "ExecuteTime": {
     "end_time": "2016-11-04T22:42:00.743986",
     "start_time": "2016-11-04T17:11:57.860Z"
    },
    "collapsed": false,
    "scrolled": false
   },
   "outputs": [],
   "source": [
    "target = irisDf.Species\n",
    "irisDf.drop(['Species', 'Class'], 1, inplace=True)\n"
   ]
  },
  {
   "cell_type": "code",
   "execution_count": null,
   "metadata": {
    "ExecuteTime": {
     "end_time": "2016-11-04T22:42:00.744530",
     "start_time": "2016-11-04T17:11:57.868Z"
    },
    "collapsed": false,
    "scrolled": false
   },
   "outputs": [],
   "source": [
    "analyze.cluster_analyze(irisDf, cluster_type='dbscan')"
   ]
  },
  {
   "cell_type": "code",
   "execution_count": null,
   "metadata": {
    "ExecuteTime": {
     "end_time": "2016-11-04T22:42:00.744923",
     "start_time": "2016-11-04T17:11:57.875Z"
    },
    "collapsed": false,
    "scrolled": false
   },
   "outputs": [],
   "source": [
    "#analyze.som_analyze(df, (10,10), algo_type='som')"
   ]
  },
  {
   "cell_type": "code",
   "execution_count": null,
   "metadata": {
    "ExecuteTime": {
     "end_time": "2016-11-04T22:42:00.745309",
     "start_time": "2016-11-04T17:11:57.882Z"
    },
    "collapsed": false,
    "scrolled": false
   },
   "outputs": [],
   "source": [
    "hdd2013Df.fillna(value=0, inplace=True)\n",
    "hdd2013Df.describe()"
   ]
  },
  {
   "cell_type": "code",
   "execution_count": null,
   "metadata": {
    "ExecuteTime": {
     "end_time": "2016-11-04T22:42:00.745766",
     "start_time": "2016-11-04T17:11:57.889Z"
    },
    "collapsed": false,
    "scrolled": false
   },
   "outputs": [],
   "source": [
    "hdd2013Df.head()"
   ]
  },
  {
   "cell_type": "code",
   "execution_count": null,
   "metadata": {
    "ExecuteTime": {
     "end_time": "2016-11-04T22:42:00.746151",
     "start_time": "2016-11-04T17:11:57.897Z"
    },
    "collapsed": false,
    "scrolled": false
   },
   "outputs": [],
   "source": [
    "hdd2013Df['date'] = hdd2013Df['date'].astype('datetime64[ns]')"
   ]
  },
  {
   "cell_type": "code",
   "execution_count": null,
   "metadata": {
    "ExecuteTime": {
     "end_time": "2016-11-04T22:42:00.746531",
     "start_time": "2016-11-04T17:11:57.904Z"
    },
    "collapsed": false,
    "scrolled": false
   },
   "outputs": [],
   "source": [
    "hdd2013Df['date'] = [each + datetime.timedelta(0, i*45) for i, each in enumerate(hdd2013Df.date)]"
   ]
  },
  {
   "cell_type": "code",
   "execution_count": null,
   "metadata": {
    "ExecuteTime": {
     "end_time": "2016-11-04T22:42:00.746919",
     "start_time": "2016-11-04T17:11:57.911Z"
    },
    "collapsed": false,
    "scrolled": true
   },
   "outputs": [],
   "source": [
    "analyze.time_series_analysis(hdd2013Df, timeCol='date', valueCol='smart_1_raw', seasonal={'freq': '30s'})"
   ]
  },
  {
   "cell_type": "code",
   "execution_count": null,
   "metadata": {
    "collapsed": true,
    "scrolled": false
   },
   "outputs": [],
   "source": []
  }
 ],
 "metadata": {
  "anaconda-cloud": {},
  "kernelspec": {
   "display_name": "Python 3",
   "language": "python",
   "name": "python3"
  },
  "language_info": {
   "codemirror_mode": {
    "name": "ipython",
    "version": 3
   },
   "file_extension": ".py",
   "mimetype": "text/x-python",
   "name": "python",
   "nbconvert_exporter": "python",
   "pygments_lexer": "ipython3",
   "version": "3.5.2"
  },
  "latex_envs": {
   "bibliofile": "biblio.bib",
   "cite_by": "apalike",
   "current_citInitial": 1,
   "eqLabelWithNumbers": true,
   "eqNumInitial": 0
  }
 },
 "nbformat": 4,
 "nbformat_minor": 0
}
