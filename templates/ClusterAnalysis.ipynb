{
 "cells": [
  {
   "cell_type": "code",
   "execution_count": null,
   "metadata": {
    "ExecuteTime": {
     "start_time": "2017-08-10T11:17:57.589Z"
    }
   },
   "outputs": [],
   "source": [
    "# Custom libraries\n",
    "from datascienceutils import clusteringModels as cm\n",
    "from datascienceutils import analyze\n",
    "from datascienceutils import plotter\n",
    "# Standard libraries\n",
    "import json\n",
    "%matplotlib inline\n",
    "import datetime\n",
    "import numpy as np\n",
    "import pandas as pd\n",
    "\n",
    "from bokeh.plotting import figure, show, output_file, output_notebook, ColumnDataSource\n",
    "from bokeh.charts import Histogram\n",
    "import bokeh\n",
    "output_notebook(bokeh.resources.INLINE)\n"
   ]
  },
  {
   "cell_type": "code",
   "execution_count": null,
   "metadata": {
    "ExecuteTime": {
     "start_time": "2017-08-10T11:18:03.606Z"
    }
   },
   "outputs": [],
   "source": [
    "irisDf = pd.read_csv('../data/Iris.csv')"
   ]
  },
  {
   "cell_type": "code",
   "execution_count": null,
   "metadata": {
    "ExecuteTime": {
     "start_time": "2017-08-10T11:18:03.607Z"
    }
   },
   "outputs": [],
   "source": [
    "target = irisDf.Species\n",
    "#irisDf.drop('Species', 1, inplace=True)\n",
    "analyze.dimension_analyze(irisDf,group='Species', animate=True, chemTrails=True)"
   ]
  },
  {
   "cell_type": "code",
   "execution_count": null,
   "metadata": {
    "ExecuteTime": {
     "start_time": "2017-08-10T11:18:03.608Z"
    }
   },
   "outputs": [],
   "source": [
    "plotter.hyper_plot(irisDf, cluster=True, n_clusters=3)"
   ]
  },
  {
   "cell_type": "code",
   "execution_count": null,
   "metadata": {
    "ExecuteTime": {
     "start_time": "2017-08-10T11:18:03.609Z"
    }
   },
   "outputs": [],
   "source": [
    "plotter.hyper_plot(irisDf, pca_plot=True)"
   ]
  },
  {
   "cell_type": "code",
   "execution_count": null,
   "metadata": {
    "ExecuteTime": {
     "start_time": "2017-08-10T11:18:03.609Z"
    }
   },
   "outputs": [],
   "source": [
    "\n",
    "cm.cluster_analyze(irisDf)"
   ]
  },
  {
   "cell_type": "code",
   "execution_count": null,
   "metadata": {
    "ExecuteTime": {
     "start_time": "2017-08-10T11:18:03.610Z"
    }
   },
   "outputs": [],
   "source": [
    "cm.silhouette_analyze(irisDf, cluster_type='KMeans')"
   ]
  },
  {
   "cell_type": "code",
   "execution_count": null,
   "metadata": {
    "ExecuteTime": {
     "start_time": "2017-08-10T11:18:03.611Z"
    }
   },
   "outputs": [],
   "source": [
    "cm.silhouette_analyze(irisDf, cluster_type='dbscan')"
   ]
  },
  {
   "cell_type": "code",
   "execution_count": null,
   "metadata": {
    "ExecuteTime": {
     "start_time": "2017-08-10T11:18:03.612Z"
    }
   },
   "outputs": [],
   "source": [
    "cm.silhouette_analyze(irisDf, cluster_type='spectral')"
   ]
  },
  {
   "cell_type": "code",
   "execution_count": null,
   "metadata": {
    "ExecuteTime": {
     "start_time": "2017-08-10T11:18:03.612Z"
    }
   },
   "outputs": [],
   "source": [
    "cm.silhouette_analyze(irisDf, cluster_type='birch')"
   ]
  },
  {
   "cell_type": "code",
   "execution_count": null,
   "metadata": {
    "ExecuteTime": {
     "start_time": "2017-08-10T11:18:03.613Z"
    }
   },
   "outputs": [],
   "source": [
    "cm.som_analyze(irisDf, (10,10), algo_type='som')"
   ]
  },
  {
   "cell_type": "code",
   "execution_count": null,
   "metadata": {
    "ExecuteTime": {
     "start_time": "2017-08-10T11:18:03.614Z"
    }
   },
   "outputs": [],
   "source": [
    "cm.silhouette_analyze(irisDf, cluster_type='bgmm')"
   ]
  }
 ],
 "metadata": {
  "kernelspec": {
   "display_name": "Python [default]",
   "language": "python",
   "name": "python3"
  }
 },
 "nbformat": 4,
 "nbformat_minor": 1
}
