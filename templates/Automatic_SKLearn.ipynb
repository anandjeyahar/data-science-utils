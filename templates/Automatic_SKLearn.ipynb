{
 "cells": [
  {
   "cell_type": "code",
   "execution_count": 1,
   "metadata": {
    "ExecuteTime": {
     "end_time": "2017-02-25T20:06:56.848377",
     "start_time": "2017-02-25T19:06:52.251393"
    },
    "collapsed": false
   },
   "outputs": [
    {
     "name": "stdout",
     "output_type": "stream",
     "text": [
      "n_components is too large: it will be set to 4\n"
     ]
    },
    {
     "name": "stderr",
     "output_type": "stream",
     "text": [
      "You are already timing task: index_run3\n",
      "You are already timing task: index_run3\n",
      "You are already timing task: index_run4\n",
      "You are already timing task: index_run4\n",
      "You are already timing task: index_run4\n",
      "You are already timing task: index_run5\n",
      "You are already timing task: index_run5\n",
      "You are already timing task: index_run5\n",
      "You are already timing task: index_run5\n",
      "You are already timing task: index_run5\n",
      "You are already timing task: index_run6\n",
      "You are already timing task: index_run6\n",
      "You are already timing task: index_run6\n",
      "You are already timing task: index_run6\n",
      "You are already timing task: index_run6\n",
      "You are already timing task: index_run6\n",
      "You are already timing task: index_run6\n",
      "You are already timing task: index_run6\n",
      "You are already timing task: index_run6\n",
      "You are already timing task: index_run6\n",
      "You are already timing task: index_run6\n",
      "You are already timing task: index_run6\n",
      "You are already timing task: index_run6\n",
      "You are already timing task: index_run6\n",
      "You are already timing task: index_run6\n"
     ]
    },
    {
     "name": "stdout",
     "output_type": "stream",
     "text": [
      "n_components is too large: it will be set to 4\n"
     ]
    },
    {
     "name": "stderr",
     "output_type": "stream",
     "text": [
      "You are already timing task: index_run6\n",
      "You are already timing task: index_run6\n",
      "You are already timing task: index_run6\n",
      "You are already timing task: index_run6\n"
     ]
    },
    {
     "name": "stdout",
     "output_type": "stream",
     "text": [
      "[WARNING] [2017-02-25 19:08:58,781:intensifier] Challenger was the same as the current incumbent; Skipping challenger\n",
      "[WARNING] [2017-02-25 19:08:58,781:intensifier] Challenger was the same as the current incumbent; Skipping challenger\n"
     ]
    },
    {
     "name": "stderr",
     "output_type": "stream",
     "text": [
      "You are already timing task: index_run6\n",
      "You are already timing task: index_run6\n",
      "You are already timing task: index_run6\n",
      "You are already timing task: index_run6\n",
      "Process pynisher function call:\n",
      "Traceback (most recent call last):\n",
      "  File \"/home/anand/anaconda3/lib/python3.5/multiprocessing/process.py\", line 249, in _bootstrap\n",
      "    self.run()\n",
      "  File \"/home/anand/anaconda3/lib/python3.5/multiprocessing/process.py\", line 93, in run\n",
      "    self._target(*self._args, **self._kwargs)\n",
      "  File \"/home/anand/anaconda3/lib/python3.5/site-packages/pynisher/limit_function_call.py\", line 83, in subprocess_func\n",
      "    return_value = ((func(*args, **kwargs), 0))\n",
      "  File \"/home/anand/anaconda3/lib/python3.5/site-packages/auto_sklearn-0.1.3-py3.5-linux-x86_64.egg/autosklearn/evaluation/train_evaluator.py\", line 284, in eval_holdout\n",
      "    evaluator.fit_predict_and_loss(iterative=iterative)\n",
      "  File \"/home/anand/anaconda3/lib/python3.5/site-packages/auto_sklearn-0.1.3-py3.5-linux-x86_64.egg/autosklearn/evaluation/train_evaluator.py\", line 77, in fit_predict_and_loss\n",
      "    i, train_indices=train_split, test_indices=test_split)\n",
      "  File \"/home/anand/anaconda3/lib/python3.5/site-packages/auto_sklearn-0.1.3-py3.5-linux-x86_64.egg/autosklearn/evaluation/train_evaluator.py\", line 211, in _partial_fit_and_predict\n",
      "    self.Y_train[train_indices])\n",
      "  File \"/home/anand/anaconda3/lib/python3.5/site-packages/auto_sklearn-0.1.3-py3.5-linux-x86_64.egg/autosklearn/evaluation/abstract_evaluator.py\", line 340, in _fit_and_suppress_warnings\n",
      "    model.fit(X, y)\n",
      "  File \"/home/anand/anaconda3/lib/python3.5/site-packages/auto_sklearn-0.1.3-py3.5-linux-x86_64.egg/autosklearn/pipeline/base.py\", line 89, in fit\n",
      "    self.fit_estimator(X, y, **fit_params)\n",
      "  File \"/home/anand/anaconda3/lib/python3.5/site-packages/auto_sklearn-0.1.3-py3.5-linux-x86_64.egg/autosklearn/pipeline/base.py\", line 104, in fit_estimator\n",
      "    self.steps[-1][-1].fit(X, y, **fit_params)\n",
      "  File \"/home/anand/anaconda3/lib/python3.5/site-packages/auto_sklearn-0.1.3-py3.5-linux-x86_64.egg/autosklearn/pipeline/components/base.py\", line 379, in fit\n",
      "    return self.choice.fit(X, y, **kwargs)\n",
      "  File \"/home/anand/anaconda3/lib/python3.5/site-packages/auto_sklearn-0.1.3-py3.5-linux-x86_64.egg/autosklearn/pipeline/components/classification/qda.py\", line 41, in fit\n",
      "    raise ValueError('Numerical problems in QDA. QDA.scalings_ '\n",
      "ValueError: Numerical problems in QDA. QDA.scalings_ contains values <= 0.0\n",
      "You are already timing task: index_run6\n",
      "You are already timing task: index_run6\n",
      "You are already timing task: index_run6\n",
      "You are already timing task: index_run6\n",
      "You are already timing task: index_run6\n",
      "You are already timing task: index_run6\n",
      "You are already timing task: index_run6\n",
      "You are already timing task: index_run6\n",
      "You are already timing task: index_run6\n",
      "You are already timing task: index_run6\n"
     ]
    },
    {
     "name": "stdout",
     "output_type": "stream",
     "text": [
      "n_components is too large: it will be set to 4\n"
     ]
    },
    {
     "name": "stderr",
     "output_type": "stream",
     "text": [
      "You are already timing task: index_run6\n",
      "You are already timing task: index_run6\n",
      "You are already timing task: index_run6\n",
      "You are already timing task: index_run6\n",
      "You are already timing task: index_run6\n",
      "You are already timing task: index_run6\n",
      "You are already timing task: index_run6\n"
     ]
    },
    {
     "name": "stdout",
     "output_type": "stream",
     "text": [
      "n_components is too large: it will be set to 4\n"
     ]
    },
    {
     "name": "stderr",
     "output_type": "stream",
     "text": [
      "You are already timing task: index_run6\n",
      "You are already timing task: index_run6\n",
      "You are already timing task: index_run7\n"
     ]
    },
    {
     "name": "stdout",
     "output_type": "stream",
     "text": [
      "n_components is too large: it will be set to 4\n"
     ]
    },
    {
     "name": "stderr",
     "output_type": "stream",
     "text": [
      "You are already timing task: index_run7\n",
      "You are already timing task: index_run7\n",
      "You are already timing task: index_run7\n",
      "You are already timing task: index_run7\n",
      "You are already timing task: index_run7\n",
      "You are already timing task: index_run7\n",
      "You are already timing task: index_run7\n",
      "You are already timing task: index_run7\n",
      "You are already timing task: index_run7\n",
      "You are already timing task: index_run7\n",
      "You are already timing task: index_run7\n",
      "You are already timing task: index_run7\n",
      "You are already timing task: index_run7\n",
      "You are already timing task: index_run7\n",
      "You are already timing task: index_run7\n",
      "You are already timing task: index_run7\n",
      "You are already timing task: index_run7\n",
      "You are already timing task: index_run7\n",
      "You are already timing task: index_run8\n",
      "You are already timing task: index_run8\n",
      "You are already timing task: index_run8\n",
      "You are already timing task: index_run8\n",
      "You are already timing task: index_run8\n",
      "You are already timing task: index_run8\n",
      "You are already timing task: index_run8\n",
      "You are already timing task: index_run8\n",
      "You are already timing task: index_run8\n",
      "You are already timing task: index_run8\n",
      "You are already timing task: index_run8\n",
      "You are already timing task: index_run8\n",
      "You are already timing task: index_run8\n",
      "You are already timing task: index_run8\n",
      "You are already timing task: index_run8\n",
      "You are already timing task: index_run9\n",
      "You are already timing task: index_run9\n"
     ]
    },
    {
     "name": "stdout",
     "output_type": "stream",
     "text": [
      "n_components is too large: it will be set to 4\n"
     ]
    },
    {
     "name": "stderr",
     "output_type": "stream",
     "text": [
      "You are already timing task: index_run10\n",
      "You are already timing task: index_run10\n",
      "You are already timing task: index_run10\n",
      "You are already timing task: index_run10\n",
      "You are already timing task: index_run10\n"
     ]
    },
    {
     "name": "stdout",
     "output_type": "stream",
     "text": [
      "n_components is too large: it will be set to 4\n"
     ]
    },
    {
     "name": "stderr",
     "output_type": "stream",
     "text": [
      "You are already timing task: index_run10\n",
      "You are already timing task: index_run10\n",
      "You are already timing task: index_run10\n",
      "You are already timing task: index_run10\n",
      "You are already timing task: index_run10\n",
      "You are already timing task: index_run10\n",
      "You are already timing task: index_run10\n",
      "You are already timing task: index_run10\n",
      "You are already timing task: index_run10\n",
      "You are already timing task: index_run10\n",
      "You are already timing task: index_run10\n",
      "You are already timing task: index_run10\n",
      "You are already timing task: index_run10\n"
     ]
    },
    {
     "name": "stdout",
     "output_type": "stream",
     "text": [
      "n_components is too large: it will be set to 4\n"
     ]
    },
    {
     "name": "stderr",
     "output_type": "stream",
     "text": [
      "You are already timing task: index_run10\n",
      "You are already timing task: index_run10\n",
      "You are already timing task: index_run10\n",
      "You are already timing task: index_run10\n",
      "You are already timing task: index_run10\n"
     ]
    },
    {
     "name": "stdout",
     "output_type": "stream",
     "text": [
      "n_components is too large: it will be set to 4\n"
     ]
    },
    {
     "name": "stderr",
     "output_type": "stream",
     "text": [
      "You are already timing task: index_run10\n",
      "You are already timing task: index_run10\n"
     ]
    },
    {
     "name": "stdout",
     "output_type": "stream",
     "text": [
      "n_components is too large: it will be set to 4\n"
     ]
    },
    {
     "name": "stderr",
     "output_type": "stream",
     "text": [
      "You are already timing task: index_run10\n",
      "You are already timing task: index_run10\n",
      "You are already timing task: index_run10\n",
      "You are already timing task: index_run10\n",
      "You are already timing task: index_run10\n",
      "You are already timing task: index_run10\n",
      "You are already timing task: index_run10\n"
     ]
    },
    {
     "name": "stdout",
     "output_type": "stream",
     "text": [
      "n_components is too large: it will be set to 4\n"
     ]
    },
    {
     "name": "stderr",
     "output_type": "stream",
     "text": [
      "You are already timing task: index_run10\n",
      "You are already timing task: index_run10\n",
      "You are already timing task: index_run10\n",
      "You are already timing task: index_run10\n",
      "You are already timing task: index_run10\n",
      "You are already timing task: index_run10\n"
     ]
    },
    {
     "name": "stdout",
     "output_type": "stream",
     "text": [
      "n_components is too large: it will be set to 4\n"
     ]
    },
    {
     "name": "stderr",
     "output_type": "stream",
     "text": [
      "You are already timing task: index_run10\n",
      "You are already timing task: index_run10\n"
     ]
    },
    {
     "name": "stdout",
     "output_type": "stream",
     "text": [
      "n_components is too large: it will be set to 4\n"
     ]
    },
    {
     "name": "stderr",
     "output_type": "stream",
     "text": [
      "You are already timing task: index_run10\n",
      "You are already timing task: index_run10\n",
      "You are already timing task: index_run10\n",
      "You are already timing task: index_run10\n",
      "You are already timing task: index_run10\n",
      "You are already timing task: index_run10\n"
     ]
    },
    {
     "name": "stdout",
     "output_type": "stream",
     "text": [
      "n_components is too large: it will be set to 4\n"
     ]
    },
    {
     "name": "stderr",
     "output_type": "stream",
     "text": [
      "You are already timing task: index_run10\n",
      "You are already timing task: index_run10\n",
      "You are already timing task: index_run10\n",
      "You are already timing task: index_run10\n",
      "You are already timing task: index_run10\n"
     ]
    },
    {
     "name": "stdout",
     "output_type": "stream",
     "text": [
      "n_components is too large: it will be set to 4\n"
     ]
    },
    {
     "name": "stderr",
     "output_type": "stream",
     "text": [
      "You are already timing task: index_run10\n",
      "You are already timing task: index_run10\n",
      "You are already timing task: index_run10\n",
      "Process pynisher function call:\n",
      "Traceback (most recent call last):\n",
      "  File \"/home/anand/anaconda3/lib/python3.5/multiprocessing/process.py\", line 249, in _bootstrap\n",
      "    self.run()\n",
      "  File \"/home/anand/anaconda3/lib/python3.5/multiprocessing/process.py\", line 93, in run\n",
      "    self._target(*self._args, **self._kwargs)\n",
      "  File \"/home/anand/anaconda3/lib/python3.5/site-packages/pynisher/limit_function_call.py\", line 83, in subprocess_func\n",
      "    return_value = ((func(*args, **kwargs), 0))\n",
      "  File \"/home/anand/anaconda3/lib/python3.5/site-packages/auto_sklearn-0.1.3-py3.5-linux-x86_64.egg/autosklearn/evaluation/train_evaluator.py\", line 284, in eval_holdout\n",
      "    evaluator.fit_predict_and_loss(iterative=iterative)\n",
      "  File \"/home/anand/anaconda3/lib/python3.5/site-packages/auto_sklearn-0.1.3-py3.5-linux-x86_64.egg/autosklearn/evaluation/train_evaluator.py\", line 77, in fit_predict_and_loss\n",
      "    i, train_indices=train_split, test_indices=test_split)\n",
      "  File \"/home/anand/anaconda3/lib/python3.5/site-packages/auto_sklearn-0.1.3-py3.5-linux-x86_64.egg/autosklearn/evaluation/train_evaluator.py\", line 211, in _partial_fit_and_predict\n",
      "    self.Y_train[train_indices])\n",
      "  File \"/home/anand/anaconda3/lib/python3.5/site-packages/auto_sklearn-0.1.3-py3.5-linux-x86_64.egg/autosklearn/evaluation/abstract_evaluator.py\", line 340, in _fit_and_suppress_warnings\n",
      "    model.fit(X, y)\n",
      "  File \"/home/anand/anaconda3/lib/python3.5/site-packages/auto_sklearn-0.1.3-py3.5-linux-x86_64.egg/autosklearn/pipeline/base.py\", line 89, in fit\n",
      "    self.fit_estimator(X, y, **fit_params)\n",
      "  File \"/home/anand/anaconda3/lib/python3.5/site-packages/auto_sklearn-0.1.3-py3.5-linux-x86_64.egg/autosklearn/pipeline/base.py\", line 104, in fit_estimator\n",
      "    self.steps[-1][-1].fit(X, y, **fit_params)\n",
      "  File \"/home/anand/anaconda3/lib/python3.5/site-packages/auto_sklearn-0.1.3-py3.5-linux-x86_64.egg/autosklearn/pipeline/components/base.py\", line 379, in fit\n",
      "    return self.choice.fit(X, y, **kwargs)\n",
      "  File \"/home/anand/anaconda3/lib/python3.5/site-packages/auto_sklearn-0.1.3-py3.5-linux-x86_64.egg/autosklearn/pipeline/components/classification/qda.py\", line 41, in fit\n",
      "    raise ValueError('Numerical problems in QDA. QDA.scalings_ '\n",
      "ValueError: Numerical problems in QDA. QDA.scalings_ contains values <= 0.0\n",
      "You are already timing task: index_run10\n",
      "You are already timing task: index_run10\n"
     ]
    },
    {
     "name": "stdout",
     "output_type": "stream",
     "text": [
      "n_components is too large: it will be set to 4\n"
     ]
    },
    {
     "name": "stderr",
     "output_type": "stream",
     "text": [
      "You are already timing task: index_run10\n",
      "You are already timing task: index_run10\n",
      "You are already timing task: index_run10\n",
      "You are already timing task: index_run10\n",
      "You are already timing task: index_run10\n",
      "You are already timing task: index_run10\n",
      "You are already timing task: index_run10\n"
     ]
    },
    {
     "name": "stdout",
     "output_type": "stream",
     "text": [
      "n_components is too large: it will be set to 4\n"
     ]
    },
    {
     "name": "stderr",
     "output_type": "stream",
     "text": [
      "You are already timing task: index_run10\n",
      "You are already timing task: index_run10\n",
      "You are already timing task: index_run10\n",
      "Process pynisher function call:\n",
      "Traceback (most recent call last):\n",
      "  File \"/home/anand/anaconda3/lib/python3.5/multiprocessing/process.py\", line 249, in _bootstrap\n",
      "    self.run()\n",
      "  File \"/home/anand/anaconda3/lib/python3.5/multiprocessing/process.py\", line 93, in run\n",
      "    self._target(*self._args, **self._kwargs)\n",
      "  File \"/home/anand/anaconda3/lib/python3.5/site-packages/pynisher/limit_function_call.py\", line 83, in subprocess_func\n",
      "    return_value = ((func(*args, **kwargs), 0))\n",
      "  File \"/home/anand/anaconda3/lib/python3.5/site-packages/auto_sklearn-0.1.3-py3.5-linux-x86_64.egg/autosklearn/evaluation/train_evaluator.py\", line 284, in eval_holdout\n",
      "    evaluator.fit_predict_and_loss(iterative=iterative)\n",
      "  File \"/home/anand/anaconda3/lib/python3.5/site-packages/auto_sklearn-0.1.3-py3.5-linux-x86_64.egg/autosklearn/evaluation/train_evaluator.py\", line 77, in fit_predict_and_loss\n",
      "    i, train_indices=train_split, test_indices=test_split)\n",
      "  File \"/home/anand/anaconda3/lib/python3.5/site-packages/auto_sklearn-0.1.3-py3.5-linux-x86_64.egg/autosklearn/evaluation/train_evaluator.py\", line 211, in _partial_fit_and_predict\n",
      "    self.Y_train[train_indices])\n",
      "  File \"/home/anand/anaconda3/lib/python3.5/site-packages/auto_sklearn-0.1.3-py3.5-linux-x86_64.egg/autosklearn/evaluation/abstract_evaluator.py\", line 340, in _fit_and_suppress_warnings\n",
      "    model.fit(X, y)\n",
      "  File \"/home/anand/anaconda3/lib/python3.5/site-packages/auto_sklearn-0.1.3-py3.5-linux-x86_64.egg/autosklearn/pipeline/base.py\", line 88, in fit\n",
      "    X, fit_params = self.pre_transform(X, y, fit_params=fit_params)\n",
      "  File \"/home/anand/anaconda3/lib/python3.5/site-packages/auto_sklearn-0.1.3-py3.5-linux-x86_64.egg/autosklearn/pipeline/classification.py\", line 102, in pre_transform\n",
      "    X, y, fit_params=fit_params)\n",
      "  File \"/home/anand/anaconda3/lib/python3.5/site-packages/auto_sklearn-0.1.3-py3.5-linux-x86_64.egg/autosklearn/pipeline/base.py\", line 98, in pre_transform\n",
      "    X, fit_params = self._pre_transform(X, y, **fit_params)\n",
      "  File \"/home/anand/anaconda3/lib/python3.5/site-packages/sklearn/pipeline.py\", line 148, in _pre_transform\n",
      "    .transform(Xt)\n",
      "  File \"/home/anand/anaconda3/lib/python3.5/site-packages/auto_sklearn-0.1.3-py3.5-linux-x86_64.egg/autosklearn/pipeline/components/feature_preprocessing/select_rates.py\", line 72, in transform\n",
      "    \"%s removed all features.\" % self.__class__.__name__)\n",
      "ValueError: SelectRates removed all features.\n",
      "You are already timing task: index_run10\n",
      "You are already timing task: index_run10\n",
      "You are already timing task: index_run10\n",
      "You are already timing task: index_run10\n",
      "You are already timing task: index_run10\n"
     ]
    },
    {
     "name": "stdout",
     "output_type": "stream",
     "text": [
      "[WARNING] [2017-02-25 19:19:22,681:intensifier] Challenger was the same as the current incumbent; Skipping challenger\n",
      "[WARNING] [2017-02-25 19:19:22,681:intensifier] Challenger was the same as the current incumbent; Skipping challenger\n"
     ]
    },
    {
     "name": "stderr",
     "output_type": "stream",
     "text": [
      "You are already timing task: index_run10\n",
      "You are already timing task: index_run10\n",
      "You are already timing task: index_run10\n"
     ]
    },
    {
     "name": "stdout",
     "output_type": "stream",
     "text": [
      "n_components is too large: it will be set to 4\n"
     ]
    },
    {
     "name": "stderr",
     "output_type": "stream",
     "text": [
      "You are already timing task: index_run10\n"
     ]
    },
    {
     "name": "stdout",
     "output_type": "stream",
     "text": [
      "n_components is too large: it will be set to 4\n"
     ]
    },
    {
     "name": "stderr",
     "output_type": "stream",
     "text": [
      "You are already timing task: index_run10\n"
     ]
    },
    {
     "name": "stdout",
     "output_type": "stream",
     "text": [
      "n_components is too large: it will be set to 4\n"
     ]
    },
    {
     "name": "stderr",
     "output_type": "stream",
     "text": [
      "You are already timing task: index_run10\n",
      "You are already timing task: index_run10\n",
      "You are already timing task: index_run10\n",
      "You are already timing task: index_run10\n",
      "You are already timing task: index_run10\n",
      "You are already timing task: index_run10\n",
      "You are already timing task: index_run10\n",
      "You are already timing task: index_run10\n",
      "You are already timing task: index_run10\n",
      "You are already timing task: index_run10\n",
      "You are already timing task: index_run10\n",
      "You are already timing task: index_run11\n",
      "You are already timing task: index_run11\n",
      "You are already timing task: index_run11\n",
      "You are already timing task: index_run12\n",
      "Process pynisher function call:\n",
      "Traceback (most recent call last):\n",
      "  File \"/home/anand/anaconda3/lib/python3.5/multiprocessing/process.py\", line 249, in _bootstrap\n",
      "    self.run()\n",
      "  File \"/home/anand/anaconda3/lib/python3.5/multiprocessing/process.py\", line 93, in run\n",
      "    self._target(*self._args, **self._kwargs)\n",
      "  File \"/home/anand/anaconda3/lib/python3.5/site-packages/pynisher/limit_function_call.py\", line 83, in subprocess_func\n",
      "    return_value = ((func(*args, **kwargs), 0))\n",
      "  File \"/home/anand/anaconda3/lib/python3.5/site-packages/auto_sklearn-0.1.3-py3.5-linux-x86_64.egg/autosklearn/evaluation/train_evaluator.py\", line 284, in eval_holdout\n",
      "    evaluator.fit_predict_and_loss(iterative=iterative)\n",
      "  File \"/home/anand/anaconda3/lib/python3.5/site-packages/auto_sklearn-0.1.3-py3.5-linux-x86_64.egg/autosklearn/evaluation/train_evaluator.py\", line 77, in fit_predict_and_loss\n",
      "    i, train_indices=train_split, test_indices=test_split)\n",
      "  File \"/home/anand/anaconda3/lib/python3.5/site-packages/auto_sklearn-0.1.3-py3.5-linux-x86_64.egg/autosklearn/evaluation/train_evaluator.py\", line 211, in _partial_fit_and_predict\n",
      "    self.Y_train[train_indices])\n",
      "  File \"/home/anand/anaconda3/lib/python3.5/site-packages/auto_sklearn-0.1.3-py3.5-linux-x86_64.egg/autosklearn/evaluation/abstract_evaluator.py\", line 340, in _fit_and_suppress_warnings\n",
      "    model.fit(X, y)\n",
      "  File \"/home/anand/anaconda3/lib/python3.5/site-packages/auto_sklearn-0.1.3-py3.5-linux-x86_64.egg/autosklearn/pipeline/base.py\", line 88, in fit\n",
      "    X, fit_params = self.pre_transform(X, y, fit_params=fit_params)\n",
      "  File \"/home/anand/anaconda3/lib/python3.5/site-packages/auto_sklearn-0.1.3-py3.5-linux-x86_64.egg/autosklearn/pipeline/classification.py\", line 102, in pre_transform\n",
      "    X, y, fit_params=fit_params)\n",
      "  File \"/home/anand/anaconda3/lib/python3.5/site-packages/auto_sklearn-0.1.3-py3.5-linux-x86_64.egg/autosklearn/pipeline/base.py\", line 98, in pre_transform\n",
      "    X, fit_params = self._pre_transform(X, y, **fit_params)\n",
      "  File \"/home/anand/anaconda3/lib/python3.5/site-packages/sklearn/pipeline.py\", line 148, in _pre_transform\n",
      "    .transform(Xt)\n",
      "  File \"/home/anand/anaconda3/lib/python3.5/site-packages/auto_sklearn-0.1.3-py3.5-linux-x86_64.egg/autosklearn/pipeline/components/feature_preprocessing/select_rates.py\", line 72, in transform\n",
      "    \"%s removed all features.\" % self.__class__.__name__)\n",
      "ValueError: SelectRates removed all features.\n",
      "You are already timing task: index_run12\n",
      "You are already timing task: index_run12\n",
      "Process pynisher function call:\n",
      "Traceback (most recent call last):\n",
      "  File \"/home/anand/anaconda3/lib/python3.5/multiprocessing/process.py\", line 249, in _bootstrap\n",
      "    self.run()\n",
      "  File \"/home/anand/anaconda3/lib/python3.5/multiprocessing/process.py\", line 93, in run\n",
      "    self._target(*self._args, **self._kwargs)\n",
      "  File \"/home/anand/anaconda3/lib/python3.5/site-packages/pynisher/limit_function_call.py\", line 83, in subprocess_func\n",
      "    return_value = ((func(*args, **kwargs), 0))\n",
      "  File \"/home/anand/anaconda3/lib/python3.5/site-packages/auto_sklearn-0.1.3-py3.5-linux-x86_64.egg/autosklearn/evaluation/train_evaluator.py\", line 284, in eval_holdout\n",
      "    evaluator.fit_predict_and_loss(iterative=iterative)\n",
      "  File \"/home/anand/anaconda3/lib/python3.5/site-packages/auto_sklearn-0.1.3-py3.5-linux-x86_64.egg/autosklearn/evaluation/train_evaluator.py\", line 77, in fit_predict_and_loss\n",
      "    i, train_indices=train_split, test_indices=test_split)\n",
      "  File \"/home/anand/anaconda3/lib/python3.5/site-packages/auto_sklearn-0.1.3-py3.5-linux-x86_64.egg/autosklearn/evaluation/train_evaluator.py\", line 211, in _partial_fit_and_predict\n",
      "    self.Y_train[train_indices])\n",
      "  File \"/home/anand/anaconda3/lib/python3.5/site-packages/auto_sklearn-0.1.3-py3.5-linux-x86_64.egg/autosklearn/evaluation/abstract_evaluator.py\", line 340, in _fit_and_suppress_warnings\n",
      "    model.fit(X, y)\n",
      "  File \"/home/anand/anaconda3/lib/python3.5/site-packages/auto_sklearn-0.1.3-py3.5-linux-x86_64.egg/autosklearn/pipeline/base.py\", line 88, in fit\n",
      "    X, fit_params = self.pre_transform(X, y, fit_params=fit_params)\n",
      "  File \"/home/anand/anaconda3/lib/python3.5/site-packages/auto_sklearn-0.1.3-py3.5-linux-x86_64.egg/autosklearn/pipeline/classification.py\", line 102, in pre_transform\n",
      "    X, y, fit_params=fit_params)\n",
      "  File \"/home/anand/anaconda3/lib/python3.5/site-packages/auto_sklearn-0.1.3-py3.5-linux-x86_64.egg/autosklearn/pipeline/base.py\", line 98, in pre_transform\n",
      "    X, fit_params = self._pre_transform(X, y, **fit_params)\n",
      "  File \"/home/anand/anaconda3/lib/python3.5/site-packages/sklearn/pipeline.py\", line 148, in _pre_transform\n",
      "    .transform(Xt)\n",
      "  File \"/home/anand/anaconda3/lib/python3.5/site-packages/auto_sklearn-0.1.3-py3.5-linux-x86_64.egg/autosklearn/pipeline/components/feature_preprocessing/select_rates.py\", line 72, in transform\n",
      "    \"%s removed all features.\" % self.__class__.__name__)\n",
      "ValueError: SelectRates removed all features.\n",
      "You are already timing task: index_run12\n"
     ]
    },
    {
     "name": "stdout",
     "output_type": "stream",
     "text": [
      "n_components is too large: it will be set to 4\n"
     ]
    },
    {
     "name": "stderr",
     "output_type": "stream",
     "text": [
      "You are already timing task: index_run12\n",
      "You are already timing task: index_run12\n",
      "You are already timing task: index_run12\n",
      "You are already timing task: index_run12\n",
      "You are already timing task: index_run12\n",
      "You are already timing task: index_run12\n",
      "Process pynisher function call:\n",
      "Traceback (most recent call last):\n",
      "  File \"/home/anand/anaconda3/lib/python3.5/multiprocessing/process.py\", line 249, in _bootstrap\n",
      "    self.run()\n",
      "  File \"/home/anand/anaconda3/lib/python3.5/multiprocessing/process.py\", line 93, in run\n",
      "    self._target(*self._args, **self._kwargs)\n",
      "  File \"/home/anand/anaconda3/lib/python3.5/site-packages/pynisher/limit_function_call.py\", line 83, in subprocess_func\n",
      "    return_value = ((func(*args, **kwargs), 0))\n",
      "  File \"/home/anand/anaconda3/lib/python3.5/site-packages/auto_sklearn-0.1.3-py3.5-linux-x86_64.egg/autosklearn/evaluation/train_evaluator.py\", line 284, in eval_holdout\n",
      "    evaluator.fit_predict_and_loss(iterative=iterative)\n",
      "  File \"/home/anand/anaconda3/lib/python3.5/site-packages/auto_sklearn-0.1.3-py3.5-linux-x86_64.egg/autosklearn/evaluation/train_evaluator.py\", line 77, in fit_predict_and_loss\n",
      "    i, train_indices=train_split, test_indices=test_split)\n",
      "  File \"/home/anand/anaconda3/lib/python3.5/site-packages/auto_sklearn-0.1.3-py3.5-linux-x86_64.egg/autosklearn/evaluation/train_evaluator.py\", line 211, in _partial_fit_and_predict\n",
      "    self.Y_train[train_indices])\n",
      "  File \"/home/anand/anaconda3/lib/python3.5/site-packages/auto_sklearn-0.1.3-py3.5-linux-x86_64.egg/autosklearn/evaluation/abstract_evaluator.py\", line 340, in _fit_and_suppress_warnings\n",
      "    model.fit(X, y)\n",
      "  File \"/home/anand/anaconda3/lib/python3.5/site-packages/auto_sklearn-0.1.3-py3.5-linux-x86_64.egg/autosklearn/pipeline/base.py\", line 88, in fit\n",
      "    X, fit_params = self.pre_transform(X, y, fit_params=fit_params)\n",
      "  File \"/home/anand/anaconda3/lib/python3.5/site-packages/auto_sklearn-0.1.3-py3.5-linux-x86_64.egg/autosklearn/pipeline/classification.py\", line 102, in pre_transform\n",
      "    X, y, fit_params=fit_params)\n",
      "  File \"/home/anand/anaconda3/lib/python3.5/site-packages/auto_sklearn-0.1.3-py3.5-linux-x86_64.egg/autosklearn/pipeline/base.py\", line 98, in pre_transform\n",
      "    X, fit_params = self._pre_transform(X, y, **fit_params)\n",
      "  File \"/home/anand/anaconda3/lib/python3.5/site-packages/sklearn/pipeline.py\", line 148, in _pre_transform\n",
      "    .transform(Xt)\n",
      "  File \"/home/anand/anaconda3/lib/python3.5/site-packages/auto_sklearn-0.1.3-py3.5-linux-x86_64.egg/autosklearn/pipeline/components/feature_preprocessing/select_rates.py\", line 72, in transform\n",
      "    \"%s removed all features.\" % self.__class__.__name__)\n",
      "ValueError: SelectRates removed all features.\n",
      "You are already timing task: index_run12\n",
      "You are already timing task: index_run12\n",
      "You are already timing task: index_run13\n",
      "You are already timing task: index_run13\n",
      "You are already timing task: index_run13\n",
      "You are already timing task: index_run13\n",
      "You are already timing task: index_run13\n",
      "You are already timing task: index_run13\n",
      "You are already timing task: index_run13\n",
      "You are already timing task: index_run13\n",
      "You are already timing task: index_run13\n",
      "You are already timing task: index_run13\n"
     ]
    },
    {
     "name": "stdout",
     "output_type": "stream",
     "text": [
      "n_components is too large: it will be set to 4\n"
     ]
    },
    {
     "name": "stderr",
     "output_type": "stream",
     "text": [
      "You are already timing task: index_run13\n",
      "You are already timing task: index_run13\n",
      "You are already timing task: index_run13\n",
      "Process pynisher function call:\n",
      "Traceback (most recent call last):\n",
      "  File \"/home/anand/anaconda3/lib/python3.5/multiprocessing/process.py\", line 249, in _bootstrap\n",
      "    self.run()\n",
      "  File \"/home/anand/anaconda3/lib/python3.5/multiprocessing/process.py\", line 93, in run\n",
      "    self._target(*self._args, **self._kwargs)\n",
      "  File \"/home/anand/anaconda3/lib/python3.5/site-packages/pynisher/limit_function_call.py\", line 83, in subprocess_func\n",
      "    return_value = ((func(*args, **kwargs), 0))\n",
      "  File \"/home/anand/anaconda3/lib/python3.5/site-packages/auto_sklearn-0.1.3-py3.5-linux-x86_64.egg/autosklearn/evaluation/train_evaluator.py\", line 284, in eval_holdout\n",
      "    evaluator.fit_predict_and_loss(iterative=iterative)\n",
      "  File \"/home/anand/anaconda3/lib/python3.5/site-packages/auto_sklearn-0.1.3-py3.5-linux-x86_64.egg/autosklearn/evaluation/train_evaluator.py\", line 77, in fit_predict_and_loss\n",
      "    i, train_indices=train_split, test_indices=test_split)\n",
      "  File \"/home/anand/anaconda3/lib/python3.5/site-packages/auto_sklearn-0.1.3-py3.5-linux-x86_64.egg/autosklearn/evaluation/train_evaluator.py\", line 211, in _partial_fit_and_predict\n",
      "    self.Y_train[train_indices])\n",
      "  File \"/home/anand/anaconda3/lib/python3.5/site-packages/auto_sklearn-0.1.3-py3.5-linux-x86_64.egg/autosklearn/evaluation/abstract_evaluator.py\", line 340, in _fit_and_suppress_warnings\n",
      "    model.fit(X, y)\n",
      "  File \"/home/anand/anaconda3/lib/python3.5/site-packages/auto_sklearn-0.1.3-py3.5-linux-x86_64.egg/autosklearn/pipeline/base.py\", line 88, in fit\n",
      "    X, fit_params = self.pre_transform(X, y, fit_params=fit_params)\n",
      "  File \"/home/anand/anaconda3/lib/python3.5/site-packages/auto_sklearn-0.1.3-py3.5-linux-x86_64.egg/autosklearn/pipeline/classification.py\", line 102, in pre_transform\n",
      "    X, y, fit_params=fit_params)\n",
      "  File \"/home/anand/anaconda3/lib/python3.5/site-packages/auto_sklearn-0.1.3-py3.5-linux-x86_64.egg/autosklearn/pipeline/base.py\", line 98, in pre_transform\n",
      "    X, fit_params = self._pre_transform(X, y, **fit_params)\n",
      "  File \"/home/anand/anaconda3/lib/python3.5/site-packages/sklearn/pipeline.py\", line 148, in _pre_transform\n",
      "    .transform(Xt)\n",
      "  File \"/home/anand/anaconda3/lib/python3.5/site-packages/auto_sklearn-0.1.3-py3.5-linux-x86_64.egg/autosklearn/pipeline/components/feature_preprocessing/select_rates.py\", line 72, in transform\n",
      "    \"%s removed all features.\" % self.__class__.__name__)\n",
      "ValueError: SelectRates removed all features.\n",
      "You are already timing task: index_run13\n",
      "You are already timing task: index_run13\n",
      "You are already timing task: index_run14\n",
      "You are already timing task: index_run14\n",
      "You are already timing task: index_run14\n"
     ]
    },
    {
     "name": "stdout",
     "output_type": "stream",
     "text": [
      "n_components is too large: it will be set to 4\n"
     ]
    },
    {
     "name": "stderr",
     "output_type": "stream",
     "text": [
      "You are already timing task: index_run14\n",
      "You are already timing task: index_run14\n"
     ]
    },
    {
     "name": "stdout",
     "output_type": "stream",
     "text": [
      "n_components is too large: it will be set to 4\n"
     ]
    },
    {
     "name": "stderr",
     "output_type": "stream",
     "text": [
      "You are already timing task: index_run14\n"
     ]
    },
    {
     "name": "stdout",
     "output_type": "stream",
     "text": [
      "n_components is too large: it will be set to 4\n"
     ]
    },
    {
     "name": "stderr",
     "output_type": "stream",
     "text": [
      "You are already timing task: index_run14\n",
      "You are already timing task: index_run14\n",
      "You are already timing task: index_run14\n",
      "You are already timing task: index_run14\n",
      "You are already timing task: index_run14\n",
      "You are already timing task: index_run14\n",
      "You are already timing task: index_run14\n",
      "You are already timing task: index_run14\n",
      "You are already timing task: index_run14\n"
     ]
    },
    {
     "name": "stdout",
     "output_type": "stream",
     "text": [
      "n_components is too large: it will be set to 4\n"
     ]
    },
    {
     "name": "stderr",
     "output_type": "stream",
     "text": [
      "You are already timing task: index_run14\n",
      "You are already timing task: index_run14\n"
     ]
    },
    {
     "name": "stdout",
     "output_type": "stream",
     "text": [
      "n_components is too large: it will be set to 4\n"
     ]
    },
    {
     "name": "stderr",
     "output_type": "stream",
     "text": [
      "You are already timing task: index_run14\n",
      "You are already timing task: index_run14\n",
      "You are already timing task: index_run14\n",
      "You are already timing task: index_run14\n",
      "You are already timing task: index_run14\n",
      "You are already timing task: index_run14\n",
      "You are already timing task: index_run14\n",
      "You are already timing task: index_run14\n",
      "You are already timing task: index_run14\n",
      "You are already timing task: index_run14\n",
      "Process pynisher function call:\n",
      "You are already timing task: index_run14\n",
      "Traceback (most recent call last):\n",
      "  File \"/home/anand/anaconda3/lib/python3.5/multiprocessing/process.py\", line 249, in _bootstrap\n",
      "    self.run()\n",
      "  File \"/home/anand/anaconda3/lib/python3.5/multiprocessing/process.py\", line 93, in run\n",
      "    self._target(*self._args, **self._kwargs)\n",
      "  File \"/home/anand/anaconda3/lib/python3.5/site-packages/pynisher/limit_function_call.py\", line 83, in subprocess_func\n",
      "    return_value = ((func(*args, **kwargs), 0))\n",
      "  File \"/home/anand/anaconda3/lib/python3.5/site-packages/auto_sklearn-0.1.3-py3.5-linux-x86_64.egg/autosklearn/evaluation/train_evaluator.py\", line 284, in eval_holdout\n",
      "    evaluator.fit_predict_and_loss(iterative=iterative)\n",
      "  File \"/home/anand/anaconda3/lib/python3.5/site-packages/auto_sklearn-0.1.3-py3.5-linux-x86_64.egg/autosklearn/evaluation/train_evaluator.py\", line 77, in fit_predict_and_loss\n",
      "    i, train_indices=train_split, test_indices=test_split)\n",
      "  File \"/home/anand/anaconda3/lib/python3.5/site-packages/auto_sklearn-0.1.3-py3.5-linux-x86_64.egg/autosklearn/evaluation/train_evaluator.py\", line 211, in _partial_fit_and_predict\n",
      "    self.Y_train[train_indices])\n",
      "  File \"/home/anand/anaconda3/lib/python3.5/site-packages/auto_sklearn-0.1.3-py3.5-linux-x86_64.egg/autosklearn/evaluation/abstract_evaluator.py\", line 340, in _fit_and_suppress_warnings\n",
      "    model.fit(X, y)\n",
      "  File \"/home/anand/anaconda3/lib/python3.5/site-packages/auto_sklearn-0.1.3-py3.5-linux-x86_64.egg/autosklearn/pipeline/base.py\", line 88, in fit\n",
      "    X, fit_params = self.pre_transform(X, y, fit_params=fit_params)\n",
      "  File \"/home/anand/anaconda3/lib/python3.5/site-packages/auto_sklearn-0.1.3-py3.5-linux-x86_64.egg/autosklearn/pipeline/classification.py\", line 102, in pre_transform\n",
      "    X, y, fit_params=fit_params)\n",
      "  File \"/home/anand/anaconda3/lib/python3.5/site-packages/auto_sklearn-0.1.3-py3.5-linux-x86_64.egg/autosklearn/pipeline/base.py\", line 98, in pre_transform\n",
      "    X, fit_params = self._pre_transform(X, y, **fit_params)\n",
      "  File \"/home/anand/anaconda3/lib/python3.5/site-packages/sklearn/pipeline.py\", line 148, in _pre_transform\n",
      "    .transform(Xt)\n",
      "  File \"/home/anand/anaconda3/lib/python3.5/site-packages/auto_sklearn-0.1.3-py3.5-linux-x86_64.egg/autosklearn/pipeline/components/feature_preprocessing/select_rates.py\", line 72, in transform\n",
      "    \"%s removed all features.\" % self.__class__.__name__)\n",
      "ValueError: SelectRates removed all features.\n",
      "You are already timing task: index_run14\n",
      "Process pynisher function call:\n",
      "You are already timing task: index_run14\n",
      "Traceback (most recent call last):\n",
      "  File \"/home/anand/anaconda3/lib/python3.5/multiprocessing/process.py\", line 249, in _bootstrap\n",
      "    self.run()\n",
      "  File \"/home/anand/anaconda3/lib/python3.5/multiprocessing/process.py\", line 93, in run\n",
      "    self._target(*self._args, **self._kwargs)\n",
      "  File \"/home/anand/anaconda3/lib/python3.5/site-packages/pynisher/limit_function_call.py\", line 83, in subprocess_func\n",
      "    return_value = ((func(*args, **kwargs), 0))\n",
      "  File \"/home/anand/anaconda3/lib/python3.5/site-packages/auto_sklearn-0.1.3-py3.5-linux-x86_64.egg/autosklearn/evaluation/train_evaluator.py\", line 284, in eval_holdout\n",
      "    evaluator.fit_predict_and_loss(iterative=iterative)\n",
      "  File \"/home/anand/anaconda3/lib/python3.5/site-packages/auto_sklearn-0.1.3-py3.5-linux-x86_64.egg/autosklearn/evaluation/train_evaluator.py\", line 77, in fit_predict_and_loss\n",
      "    i, train_indices=train_split, test_indices=test_split)\n",
      "  File \"/home/anand/anaconda3/lib/python3.5/site-packages/auto_sklearn-0.1.3-py3.5-linux-x86_64.egg/autosklearn/evaluation/train_evaluator.py\", line 211, in _partial_fit_and_predict\n",
      "    self.Y_train[train_indices])\n",
      "  File \"/home/anand/anaconda3/lib/python3.5/site-packages/auto_sklearn-0.1.3-py3.5-linux-x86_64.egg/autosklearn/evaluation/abstract_evaluator.py\", line 340, in _fit_and_suppress_warnings\n",
      "    model.fit(X, y)\n",
      "  File \"/home/anand/anaconda3/lib/python3.5/site-packages/auto_sklearn-0.1.3-py3.5-linux-x86_64.egg/autosklearn/pipeline/base.py\", line 88, in fit\n",
      "    X, fit_params = self.pre_transform(X, y, fit_params=fit_params)\n",
      "  File \"/home/anand/anaconda3/lib/python3.5/site-packages/auto_sklearn-0.1.3-py3.5-linux-x86_64.egg/autosklearn/pipeline/classification.py\", line 102, in pre_transform\n",
      "    X, y, fit_params=fit_params)\n",
      "  File \"/home/anand/anaconda3/lib/python3.5/site-packages/auto_sklearn-0.1.3-py3.5-linux-x86_64.egg/autosklearn/pipeline/base.py\", line 98, in pre_transform\n",
      "    X, fit_params = self._pre_transform(X, y, **fit_params)\n",
      "  File \"/home/anand/anaconda3/lib/python3.5/site-packages/sklearn/pipeline.py\", line 148, in _pre_transform\n",
      "    .transform(Xt)\n",
      "  File \"/home/anand/anaconda3/lib/python3.5/site-packages/auto_sklearn-0.1.3-py3.5-linux-x86_64.egg/autosklearn/pipeline/components/feature_preprocessing/select_rates.py\", line 72, in transform\n",
      "    \"%s removed all features.\" % self.__class__.__name__)\n",
      "ValueError: SelectRates removed all features.\n",
      "You are already timing task: index_run14\n",
      "You are already timing task: index_run14\n",
      "You are already timing task: index_run14\n",
      "You are already timing task: index_run14\n",
      "You are already timing task: index_run14\n"
     ]
    },
    {
     "name": "stdout",
     "output_type": "stream",
     "text": [
      "n_components is too large: it will be set to 4\n"
     ]
    },
    {
     "name": "stderr",
     "output_type": "stream",
     "text": [
      "You are already timing task: index_run14\n",
      "You are already timing task: index_run14\n",
      "You are already timing task: index_run14\n",
      "You are already timing task: index_run14\n"
     ]
    },
    {
     "name": "stdout",
     "output_type": "stream",
     "text": [
      "n_components is too large: it will be set to 4\n"
     ]
    },
    {
     "name": "stderr",
     "output_type": "stream",
     "text": [
      "You are already timing task: index_run14\n",
      "You are already timing task: index_run14\n",
      "You are already timing task: index_run14\n",
      "You are already timing task: index_run14\n"
     ]
    },
    {
     "name": "stdout",
     "output_type": "stream",
     "text": [
      "n_components is too large: it will be set to 4\n"
     ]
    },
    {
     "name": "stderr",
     "output_type": "stream",
     "text": [
      "You are already timing task: index_run14\n"
     ]
    },
    {
     "name": "stdout",
     "output_type": "stream",
     "text": [
      "n_components is too large: it will be set to 4\n"
     ]
    },
    {
     "name": "stderr",
     "output_type": "stream",
     "text": [
      "You are already timing task: index_run14\n",
      "You are already timing task: index_run14\n",
      "You are already timing task: index_run14\n",
      "You are already timing task: index_run14\n",
      "You are already timing task: index_run14\n",
      "You are already timing task: index_run14\n",
      "You are already timing task: index_run14\n"
     ]
    },
    {
     "name": "stdout",
     "output_type": "stream",
     "text": [
      "n_components is too large: it will be set to 4\n"
     ]
    },
    {
     "name": "stderr",
     "output_type": "stream",
     "text": [
      "You are already timing task: index_run14\n",
      "You are already timing task: index_run14\n",
      "You are already timing task: index_run14\n"
     ]
    },
    {
     "name": "stdout",
     "output_type": "stream",
     "text": [
      "n_components is too large: it will be set to 4\n"
     ]
    },
    {
     "name": "stderr",
     "output_type": "stream",
     "text": [
      "You are already timing task: index_run14\n"
     ]
    },
    {
     "name": "stdout",
     "output_type": "stream",
     "text": [
      "n_components is too large: it will be set to 4\n"
     ]
    },
    {
     "name": "stderr",
     "output_type": "stream",
     "text": [
      "You are already timing task: index_run14\n"
     ]
    },
    {
     "name": "stdout",
     "output_type": "stream",
     "text": [
      "n_components is too large: it will be set to 4\n"
     ]
    },
    {
     "name": "stderr",
     "output_type": "stream",
     "text": [
      "You are already timing task: index_run14\n",
      "You are already timing task: index_run14\n"
     ]
    },
    {
     "name": "stdout",
     "output_type": "stream",
     "text": [
      "n_components is too large: it will be set to 4\n"
     ]
    },
    {
     "name": "stderr",
     "output_type": "stream",
     "text": [
      "You are already timing task: index_run14\n",
      "You are already timing task: index_run14\n"
     ]
    },
    {
     "name": "stdout",
     "output_type": "stream",
     "text": [
      "n_components is too large: it will be set to 4\n"
     ]
    },
    {
     "name": "stderr",
     "output_type": "stream",
     "text": [
      "You are already timing task: index_run14\n"
     ]
    },
    {
     "name": "stdout",
     "output_type": "stream",
     "text": [
      "n_components is too large: it will be set to 4\n"
     ]
    },
    {
     "name": "stderr",
     "output_type": "stream",
     "text": [
      "You are already timing task: index_run14\n",
      "Process pynisher function call:\n",
      "Traceback (most recent call last):\n",
      "  File \"/home/anand/anaconda3/lib/python3.5/multiprocessing/process.py\", line 249, in _bootstrap\n",
      "    self.run()\n",
      "  File \"/home/anand/anaconda3/lib/python3.5/multiprocessing/process.py\", line 93, in run\n",
      "    self._target(*self._args, **self._kwargs)\n",
      "  File \"/home/anand/anaconda3/lib/python3.5/site-packages/pynisher/limit_function_call.py\", line 83, in subprocess_func\n",
      "    return_value = ((func(*args, **kwargs), 0))\n",
      "  File \"/home/anand/anaconda3/lib/python3.5/site-packages/auto_sklearn-0.1.3-py3.5-linux-x86_64.egg/autosklearn/evaluation/train_evaluator.py\", line 284, in eval_holdout\n",
      "    evaluator.fit_predict_and_loss(iterative=iterative)\n",
      "  File \"/home/anand/anaconda3/lib/python3.5/site-packages/auto_sklearn-0.1.3-py3.5-linux-x86_64.egg/autosklearn/evaluation/train_evaluator.py\", line 77, in fit_predict_and_loss\n",
      "    i, train_indices=train_split, test_indices=test_split)\n",
      "  File \"/home/anand/anaconda3/lib/python3.5/site-packages/auto_sklearn-0.1.3-py3.5-linux-x86_64.egg/autosklearn/evaluation/train_evaluator.py\", line 211, in _partial_fit_and_predict\n",
      "    self.Y_train[train_indices])\n",
      "  File \"/home/anand/anaconda3/lib/python3.5/site-packages/auto_sklearn-0.1.3-py3.5-linux-x86_64.egg/autosklearn/evaluation/abstract_evaluator.py\", line 340, in _fit_and_suppress_warnings\n",
      "    model.fit(X, y)\n",
      "  File \"/home/anand/anaconda3/lib/python3.5/site-packages/auto_sklearn-0.1.3-py3.5-linux-x86_64.egg/autosklearn/pipeline/base.py\", line 88, in fit\n",
      "    X, fit_params = self.pre_transform(X, y, fit_params=fit_params)\n",
      "  File \"/home/anand/anaconda3/lib/python3.5/site-packages/auto_sklearn-0.1.3-py3.5-linux-x86_64.egg/autosklearn/pipeline/classification.py\", line 102, in pre_transform\n",
      "    X, y, fit_params=fit_params)\n",
      "  File \"/home/anand/anaconda3/lib/python3.5/site-packages/auto_sklearn-0.1.3-py3.5-linux-x86_64.egg/autosklearn/pipeline/base.py\", line 98, in pre_transform\n",
      "    X, fit_params = self._pre_transform(X, y, **fit_params)\n",
      "  File \"/home/anand/anaconda3/lib/python3.5/site-packages/sklearn/pipeline.py\", line 148, in _pre_transform\n",
      "    .transform(Xt)\n",
      "  File \"/home/anand/anaconda3/lib/python3.5/site-packages/auto_sklearn-0.1.3-py3.5-linux-x86_64.egg/autosklearn/pipeline/components/feature_preprocessing/select_rates.py\", line 72, in transform\n",
      "    \"%s removed all features.\" % self.__class__.__name__)\n",
      "ValueError: SelectRates removed all features.\n",
      "You are already timing task: index_run14\n"
     ]
    },
    {
     "name": "stdout",
     "output_type": "stream",
     "text": [
      "n_components is too large: it will be set to 4\n"
     ]
    },
    {
     "name": "stderr",
     "output_type": "stream",
     "text": [
      "You are already timing task: index_run14\n",
      "You are already timing task: index_run14\n",
      "You are already timing task: index_run14\n"
     ]
    },
    {
     "name": "stdout",
     "output_type": "stream",
     "text": [
      "n_components is too large: it will be set to 4\n"
     ]
    },
    {
     "name": "stderr",
     "output_type": "stream",
     "text": [
      "You are already timing task: index_run14\n"
     ]
    },
    {
     "name": "stdout",
     "output_type": "stream",
     "text": [
      "n_components is too large: it will be set to 4\n"
     ]
    },
    {
     "name": "stderr",
     "output_type": "stream",
     "text": [
      "You are already timing task: index_run14\n",
      "You are already timing task: index_run14\n",
      "You are already timing task: index_run14\n",
      "You are already timing task: index_run14\n"
     ]
    },
    {
     "name": "stdout",
     "output_type": "stream",
     "text": [
      "n_components is too large: it will be set to 4\n"
     ]
    },
    {
     "name": "stderr",
     "output_type": "stream",
     "text": [
      "You are already timing task: index_run14\n",
      "You are already timing task: index_run14\n",
      "You are already timing task: index_run14\n",
      "You are already timing task: index_run14\n"
     ]
    },
    {
     "name": "stdout",
     "output_type": "stream",
     "text": [
      "n_components is too large: it will be set to 4\n"
     ]
    },
    {
     "name": "stderr",
     "output_type": "stream",
     "text": [
      "You are already timing task: index_run14\n",
      "You are already timing task: index_run14\n",
      "You are already timing task: index_run14\n",
      "You are already timing task: index_run14\n",
      "You are already timing task: index_run14\n",
      "You are already timing task: index_run14\n",
      "Process pynisher function call:\n",
      "You are already timing task: index_run14\n",
      "Traceback (most recent call last):\n",
      "  File \"/home/anand/anaconda3/lib/python3.5/multiprocessing/process.py\", line 249, in _bootstrap\n",
      "    self.run()\n",
      "  File \"/home/anand/anaconda3/lib/python3.5/multiprocessing/process.py\", line 93, in run\n",
      "    self._target(*self._args, **self._kwargs)\n",
      "  File \"/home/anand/anaconda3/lib/python3.5/site-packages/pynisher/limit_function_call.py\", line 83, in subprocess_func\n",
      "    return_value = ((func(*args, **kwargs), 0))\n",
      "  File \"/home/anand/anaconda3/lib/python3.5/site-packages/auto_sklearn-0.1.3-py3.5-linux-x86_64.egg/autosklearn/evaluation/train_evaluator.py\", line 284, in eval_holdout\n",
      "    evaluator.fit_predict_and_loss(iterative=iterative)\n",
      "  File \"/home/anand/anaconda3/lib/python3.5/site-packages/auto_sklearn-0.1.3-py3.5-linux-x86_64.egg/autosklearn/evaluation/train_evaluator.py\", line 77, in fit_predict_and_loss\n",
      "    i, train_indices=train_split, test_indices=test_split)\n",
      "  File \"/home/anand/anaconda3/lib/python3.5/site-packages/auto_sklearn-0.1.3-py3.5-linux-x86_64.egg/autosklearn/evaluation/train_evaluator.py\", line 211, in _partial_fit_and_predict\n",
      "    self.Y_train[train_indices])\n",
      "  File \"/home/anand/anaconda3/lib/python3.5/site-packages/auto_sklearn-0.1.3-py3.5-linux-x86_64.egg/autosklearn/evaluation/abstract_evaluator.py\", line 340, in _fit_and_suppress_warnings\n",
      "    model.fit(X, y)\n",
      "  File \"/home/anand/anaconda3/lib/python3.5/site-packages/auto_sklearn-0.1.3-py3.5-linux-x86_64.egg/autosklearn/pipeline/base.py\", line 88, in fit\n",
      "    X, fit_params = self.pre_transform(X, y, fit_params=fit_params)\n",
      "  File \"/home/anand/anaconda3/lib/python3.5/site-packages/auto_sklearn-0.1.3-py3.5-linux-x86_64.egg/autosklearn/pipeline/classification.py\", line 102, in pre_transform\n",
      "    X, y, fit_params=fit_params)\n",
      "  File \"/home/anand/anaconda3/lib/python3.5/site-packages/auto_sklearn-0.1.3-py3.5-linux-x86_64.egg/autosklearn/pipeline/base.py\", line 98, in pre_transform\n",
      "    X, fit_params = self._pre_transform(X, y, **fit_params)\n",
      "  File \"/home/anand/anaconda3/lib/python3.5/site-packages/sklearn/pipeline.py\", line 148, in _pre_transform\n",
      "    .transform(Xt)\n",
      "  File \"/home/anand/anaconda3/lib/python3.5/site-packages/auto_sklearn-0.1.3-py3.5-linux-x86_64.egg/autosklearn/pipeline/components/feature_preprocessing/select_rates.py\", line 72, in transform\n",
      "    \"%s removed all features.\" % self.__class__.__name__)\n",
      "ValueError: SelectRates removed all features.\n",
      "You are already timing task: index_run14\n",
      "You are already timing task: index_run14\n",
      "You are already timing task: index_run14\n",
      "You are already timing task: index_run14\n",
      "You are already timing task: index_run14\n"
     ]
    },
    {
     "name": "stdout",
     "output_type": "stream",
     "text": [
      "n_components is too large: it will be set to 4\n"
     ]
    },
    {
     "name": "stderr",
     "output_type": "stream",
     "text": [
      "You are already timing task: index_run14\n",
      "You are already timing task: index_run14\n",
      "You are already timing task: index_run14\n",
      "You are already timing task: index_run14\n",
      "You are already timing task: index_run14\n",
      "You are already timing task: index_run14\n",
      "You are already timing task: index_run14\n",
      "You are already timing task: index_run14\n",
      "You are already timing task: index_run14\n",
      "You are already timing task: index_run14\n"
     ]
    },
    {
     "name": "stdout",
     "output_type": "stream",
     "text": [
      "n_components is too large: it will be set to 4\n"
     ]
    },
    {
     "name": "stderr",
     "output_type": "stream",
     "text": [
      "You are already timing task: index_run14\n",
      "You are already timing task: index_run14\n",
      "Process pynisher function call:\n",
      "You are already timing task: index_run14\n",
      "Traceback (most recent call last):\n",
      "  File \"/home/anand/anaconda3/lib/python3.5/multiprocessing/process.py\", line 249, in _bootstrap\n",
      "    self.run()\n",
      "  File \"/home/anand/anaconda3/lib/python3.5/multiprocessing/process.py\", line 93, in run\n",
      "    self._target(*self._args, **self._kwargs)\n",
      "  File \"/home/anand/anaconda3/lib/python3.5/site-packages/pynisher/limit_function_call.py\", line 83, in subprocess_func\n",
      "    return_value = ((func(*args, **kwargs), 0))\n",
      "  File \"/home/anand/anaconda3/lib/python3.5/site-packages/auto_sklearn-0.1.3-py3.5-linux-x86_64.egg/autosklearn/evaluation/train_evaluator.py\", line 284, in eval_holdout\n",
      "    evaluator.fit_predict_and_loss(iterative=iterative)\n",
      "  File \"/home/anand/anaconda3/lib/python3.5/site-packages/auto_sklearn-0.1.3-py3.5-linux-x86_64.egg/autosklearn/evaluation/train_evaluator.py\", line 77, in fit_predict_and_loss\n",
      "    i, train_indices=train_split, test_indices=test_split)\n",
      "  File \"/home/anand/anaconda3/lib/python3.5/site-packages/auto_sklearn-0.1.3-py3.5-linux-x86_64.egg/autosklearn/evaluation/train_evaluator.py\", line 211, in _partial_fit_and_predict\n",
      "    self.Y_train[train_indices])\n",
      "  File \"/home/anand/anaconda3/lib/python3.5/site-packages/auto_sklearn-0.1.3-py3.5-linux-x86_64.egg/autosklearn/evaluation/abstract_evaluator.py\", line 340, in _fit_and_suppress_warnings\n",
      "    model.fit(X, y)\n",
      "  File \"/home/anand/anaconda3/lib/python3.5/site-packages/auto_sklearn-0.1.3-py3.5-linux-x86_64.egg/autosklearn/pipeline/base.py\", line 89, in fit\n",
      "    self.fit_estimator(X, y, **fit_params)\n",
      "  File \"/home/anand/anaconda3/lib/python3.5/site-packages/auto_sklearn-0.1.3-py3.5-linux-x86_64.egg/autosklearn/pipeline/base.py\", line 104, in fit_estimator\n",
      "    self.steps[-1][-1].fit(X, y, **fit_params)\n",
      "  File \"/home/anand/anaconda3/lib/python3.5/site-packages/auto_sklearn-0.1.3-py3.5-linux-x86_64.egg/autosklearn/pipeline/components/base.py\", line 379, in fit\n",
      "    return self.choice.fit(X, y, **kwargs)\n",
      "  File \"/home/anand/anaconda3/lib/python3.5/site-packages/auto_sklearn-0.1.3-py3.5-linux-x86_64.egg/autosklearn/pipeline/components/classification/qda.py\", line 41, in fit\n",
      "    raise ValueError('Numerical problems in QDA. QDA.scalings_ '\n",
      "ValueError: Numerical problems in QDA. QDA.scalings_ contains values <= 0.0\n",
      "You are already timing task: index_run14\n",
      "You are already timing task: index_run14\n",
      "You are already timing task: index_run14\n",
      "You are already timing task: index_run14\n",
      "You are already timing task: index_run14\n",
      "You are already timing task: index_run14\n"
     ]
    },
    {
     "name": "stdout",
     "output_type": "stream",
     "text": [
      "n_components is too large: it will be set to 4\n"
     ]
    },
    {
     "name": "stderr",
     "output_type": "stream",
     "text": [
      "You are already timing task: index_run14\n",
      "You are already timing task: index_run14\n",
      "You are already timing task: index_run14\n",
      "You are already timing task: index_run14\n",
      "You are already timing task: index_run14\n",
      "You are already timing task: index_run14\n"
     ]
    },
    {
     "name": "stdout",
     "output_type": "stream",
     "text": [
      "n_components is too large: it will be set to 4\n"
     ]
    },
    {
     "name": "stderr",
     "output_type": "stream",
     "text": [
      "You are already timing task: index_run14\n"
     ]
    },
    {
     "name": "stdout",
     "output_type": "stream",
     "text": [
      "n_components is too large: it will be set to 4\n"
     ]
    },
    {
     "name": "stderr",
     "output_type": "stream",
     "text": [
      "You are already timing task: index_run14\n",
      "You are already timing task: index_run14\n",
      "You are already timing task: index_run14\n",
      "You are already timing task: index_run14\n",
      "You are already timing task: index_run14\n"
     ]
    },
    {
     "name": "stdout",
     "output_type": "stream",
     "text": [
      "n_components is too large: it will be set to 4\n"
     ]
    },
    {
     "name": "stderr",
     "output_type": "stream",
     "text": [
      "You are already timing task: index_run14\n",
      "You are already timing task: index_run14\n",
      "You are already timing task: index_run14\n",
      "You are already timing task: index_run14\n",
      "You are already timing task: index_run14\n",
      "You are already timing task: index_run14\n",
      "You are already timing task: index_run14\n"
     ]
    },
    {
     "name": "stdout",
     "output_type": "stream",
     "text": [
      "n_components is too large: it will be set to 4\n"
     ]
    },
    {
     "name": "stderr",
     "output_type": "stream",
     "text": [
      "You are already timing task: index_run14\n",
      "You are already timing task: index_run14\n"
     ]
    },
    {
     "name": "stdout",
     "output_type": "stream",
     "text": [
      "n_components is too large: it will be set to 4\n"
     ]
    },
    {
     "name": "stderr",
     "output_type": "stream",
     "text": [
      "You are already timing task: index_run14\n",
      "You are already timing task: index_run14\n",
      "You are already timing task: index_run14\n",
      "You are already timing task: index_run14\n",
      "You are already timing task: index_run14\n",
      "You are already timing task: index_run14\n",
      "You are already timing task: index_run14\n",
      "You are already timing task: index_run14\n",
      "You are already timing task: index_run14\n",
      "You are already timing task: index_run14\n",
      "You are already timing task: index_run14\n"
     ]
    },
    {
     "name": "stdout",
     "output_type": "stream",
     "text": [
      "n_components is too large: it will be set to 4\n"
     ]
    },
    {
     "name": "stderr",
     "output_type": "stream",
     "text": [
      "You are already timing task: index_run14\n",
      "You are already timing task: index_run14\n",
      "You are already timing task: index_run14\n",
      "You are already timing task: index_run14\n",
      "You are already timing task: index_run14\n",
      "You are already timing task: index_run14\n",
      "You are already timing task: index_run14\n",
      "You are already timing task: index_run14\n",
      "You are already timing task: index_run14\n",
      "You are already timing task: index_run14\n",
      "You are already timing task: index_run14\n"
     ]
    },
    {
     "name": "stdout",
     "output_type": "stream",
     "text": [
      "n_components is too large: it will be set to 4\n"
     ]
    },
    {
     "name": "stderr",
     "output_type": "stream",
     "text": [
      "You are already timing task: index_run14\n",
      "You are already timing task: index_run14\n",
      "You are already timing task: index_run14\n",
      "Process pynisher function call:\n",
      "You are already timing task: index_run14\n",
      "Traceback (most recent call last):\n",
      "  File \"/home/anand/anaconda3/lib/python3.5/multiprocessing/process.py\", line 249, in _bootstrap\n",
      "    self.run()\n",
      "  File \"/home/anand/anaconda3/lib/python3.5/multiprocessing/process.py\", line 93, in run\n",
      "    self._target(*self._args, **self._kwargs)\n",
      "  File \"/home/anand/anaconda3/lib/python3.5/site-packages/pynisher/limit_function_call.py\", line 83, in subprocess_func\n",
      "    return_value = ((func(*args, **kwargs), 0))\n",
      "  File \"/home/anand/anaconda3/lib/python3.5/site-packages/auto_sklearn-0.1.3-py3.5-linux-x86_64.egg/autosklearn/evaluation/train_evaluator.py\", line 284, in eval_holdout\n",
      "    evaluator.fit_predict_and_loss(iterative=iterative)\n",
      "  File \"/home/anand/anaconda3/lib/python3.5/site-packages/auto_sklearn-0.1.3-py3.5-linux-x86_64.egg/autosklearn/evaluation/train_evaluator.py\", line 77, in fit_predict_and_loss\n",
      "    i, train_indices=train_split, test_indices=test_split)\n",
      "  File \"/home/anand/anaconda3/lib/python3.5/site-packages/auto_sklearn-0.1.3-py3.5-linux-x86_64.egg/autosklearn/evaluation/train_evaluator.py\", line 211, in _partial_fit_and_predict\n",
      "    self.Y_train[train_indices])\n",
      "  File \"/home/anand/anaconda3/lib/python3.5/site-packages/auto_sklearn-0.1.3-py3.5-linux-x86_64.egg/autosklearn/evaluation/abstract_evaluator.py\", line 340, in _fit_and_suppress_warnings\n",
      "    model.fit(X, y)\n",
      "  File \"/home/anand/anaconda3/lib/python3.5/site-packages/auto_sklearn-0.1.3-py3.5-linux-x86_64.egg/autosklearn/pipeline/base.py\", line 89, in fit\n",
      "    self.fit_estimator(X, y, **fit_params)\n",
      "  File \"/home/anand/anaconda3/lib/python3.5/site-packages/auto_sklearn-0.1.3-py3.5-linux-x86_64.egg/autosklearn/pipeline/base.py\", line 104, in fit_estimator\n",
      "    self.steps[-1][-1].fit(X, y, **fit_params)\n",
      "  File \"/home/anand/anaconda3/lib/python3.5/site-packages/auto_sklearn-0.1.3-py3.5-linux-x86_64.egg/autosklearn/pipeline/components/base.py\", line 379, in fit\n",
      "    return self.choice.fit(X, y, **kwargs)\n",
      "  File \"/home/anand/anaconda3/lib/python3.5/site-packages/auto_sklearn-0.1.3-py3.5-linux-x86_64.egg/autosklearn/pipeline/components/classification/qda.py\", line 41, in fit\n",
      "    raise ValueError('Numerical problems in QDA. QDA.scalings_ '\n",
      "ValueError: Numerical problems in QDA. QDA.scalings_ contains values <= 0.0\n",
      "You are already timing task: index_run14\n",
      "You are already timing task: index_run14\n",
      "You are already timing task: index_run14\n",
      "You are already timing task: index_run14\n"
     ]
    },
    {
     "name": "stdout",
     "output_type": "stream",
     "text": [
      "[WARNING] [2017-02-25 19:36:00,830:intensifier] Challenger was the same as the current incumbent; Skipping challenger\n",
      "[WARNING] [2017-02-25 19:36:00,830:intensifier] Challenger was the same as the current incumbent; Skipping challenger\n"
     ]
    },
    {
     "name": "stderr",
     "output_type": "stream",
     "text": [
      "You are already timing task: index_run14\n",
      "You are already timing task: index_run14\n",
      "You are already timing task: index_run14\n",
      "You are already timing task: index_run14\n",
      "You are already timing task: index_run14\n",
      "You are already timing task: index_run14\n",
      "You are already timing task: index_run14\n",
      "You are already timing task: index_run14\n",
      "You are already timing task: index_run14\n",
      "You are already timing task: index_run14\n",
      "You are already timing task: index_run14\n",
      "You are already timing task: index_run14\n",
      "You are already timing task: index_run14\n",
      "You are already timing task: index_run14\n"
     ]
    },
    {
     "name": "stdout",
     "output_type": "stream",
     "text": [
      "n_components is too large: it will be set to 4\n"
     ]
    },
    {
     "name": "stderr",
     "output_type": "stream",
     "text": [
      "You are already timing task: index_run14\n",
      "You are already timing task: index_run14\n",
      "You are already timing task: index_run14\n",
      "You are already timing task: index_run14\n",
      "You are already timing task: index_run14\n",
      "You are already timing task: index_run14\n",
      "You are already timing task: index_run14\n",
      "You are already timing task: index_run14\n",
      "You are already timing task: index_run14\n",
      "You are already timing task: index_run14\n",
      "You are already timing task: index_run14\n",
      "You are already timing task: index_run14\n",
      "You are already timing task: index_run14\n",
      "You are already timing task: index_run14\n",
      "You are already timing task: index_run14\n",
      "You are already timing task: index_run14\n",
      "You are already timing task: index_run14\n",
      "You are already timing task: index_run14\n",
      "You are already timing task: index_run14\n",
      "You are already timing task: index_run14\n",
      "You are already timing task: index_run14\n"
     ]
    },
    {
     "name": "stdout",
     "output_type": "stream",
     "text": [
      "n_components is too large: it will be set to 4\n"
     ]
    },
    {
     "name": "stderr",
     "output_type": "stream",
     "text": [
      "You are already timing task: index_run14\n",
      "You are already timing task: index_run14\n",
      "Process pynisher function call:\n",
      "Traceback (most recent call last):\n",
      "  File \"/home/anand/anaconda3/lib/python3.5/multiprocessing/process.py\", line 249, in _bootstrap\n",
      "    self.run()\n",
      "  File \"/home/anand/anaconda3/lib/python3.5/multiprocessing/process.py\", line 93, in run\n",
      "    self._target(*self._args, **self._kwargs)\n",
      "  File \"/home/anand/anaconda3/lib/python3.5/site-packages/pynisher/limit_function_call.py\", line 83, in subprocess_func\n",
      "    return_value = ((func(*args, **kwargs), 0))\n",
      "  File \"/home/anand/anaconda3/lib/python3.5/site-packages/auto_sklearn-0.1.3-py3.5-linux-x86_64.egg/autosklearn/evaluation/train_evaluator.py\", line 284, in eval_holdout\n",
      "    evaluator.fit_predict_and_loss(iterative=iterative)\n",
      "  File \"/home/anand/anaconda3/lib/python3.5/site-packages/auto_sklearn-0.1.3-py3.5-linux-x86_64.egg/autosklearn/evaluation/train_evaluator.py\", line 77, in fit_predict_and_loss\n",
      "    i, train_indices=train_split, test_indices=test_split)\n",
      "  File \"/home/anand/anaconda3/lib/python3.5/site-packages/auto_sklearn-0.1.3-py3.5-linux-x86_64.egg/autosklearn/evaluation/train_evaluator.py\", line 211, in _partial_fit_and_predict\n",
      "    self.Y_train[train_indices])\n",
      "  File \"/home/anand/anaconda3/lib/python3.5/site-packages/auto_sklearn-0.1.3-py3.5-linux-x86_64.egg/autosklearn/evaluation/abstract_evaluator.py\", line 340, in _fit_and_suppress_warnings\n",
      "    model.fit(X, y)\n",
      "  File \"/home/anand/anaconda3/lib/python3.5/site-packages/auto_sklearn-0.1.3-py3.5-linux-x86_64.egg/autosklearn/pipeline/base.py\", line 88, in fit\n",
      "    X, fit_params = self.pre_transform(X, y, fit_params=fit_params)\n",
      "  File \"/home/anand/anaconda3/lib/python3.5/site-packages/auto_sklearn-0.1.3-py3.5-linux-x86_64.egg/autosklearn/pipeline/classification.py\", line 102, in pre_transform\n",
      "    X, y, fit_params=fit_params)\n",
      "  File \"/home/anand/anaconda3/lib/python3.5/site-packages/auto_sklearn-0.1.3-py3.5-linux-x86_64.egg/autosklearn/pipeline/base.py\", line 98, in pre_transform\n",
      "    X, fit_params = self._pre_transform(X, y, **fit_params)\n",
      "  File \"/home/anand/anaconda3/lib/python3.5/site-packages/sklearn/pipeline.py\", line 148, in _pre_transform\n",
      "    .transform(Xt)\n",
      "  File \"/home/anand/anaconda3/lib/python3.5/site-packages/auto_sklearn-0.1.3-py3.5-linux-x86_64.egg/autosklearn/pipeline/components/feature_preprocessing/select_rates.py\", line 72, in transform\n",
      "    \"%s removed all features.\" % self.__class__.__name__)\n",
      "ValueError: SelectRates removed all features.\n",
      "Process pynisher function call:\n",
      "Traceback (most recent call last):\n",
      "  File \"/home/anand/anaconda3/lib/python3.5/multiprocessing/process.py\", line 249, in _bootstrap\n",
      "    self.run()\n",
      "  File \"/home/anand/anaconda3/lib/python3.5/multiprocessing/process.py\", line 93, in run\n",
      "    self._target(*self._args, **self._kwargs)\n",
      "  File \"/home/anand/anaconda3/lib/python3.5/site-packages/pynisher/limit_function_call.py\", line 83, in subprocess_func\n",
      "    return_value = ((func(*args, **kwargs), 0))\n",
      "  File \"/home/anand/anaconda3/lib/python3.5/site-packages/auto_sklearn-0.1.3-py3.5-linux-x86_64.egg/autosklearn/evaluation/train_evaluator.py\", line 284, in eval_holdout\n",
      "    evaluator.fit_predict_and_loss(iterative=iterative)\n",
      "  File \"/home/anand/anaconda3/lib/python3.5/site-packages/auto_sklearn-0.1.3-py3.5-linux-x86_64.egg/autosklearn/evaluation/train_evaluator.py\", line 77, in fit_predict_and_loss\n",
      "    i, train_indices=train_split, test_indices=test_split)\n",
      "  File \"/home/anand/anaconda3/lib/python3.5/site-packages/auto_sklearn-0.1.3-py3.5-linux-x86_64.egg/autosklearn/evaluation/train_evaluator.py\", line 211, in _partial_fit_and_predict\n",
      "    self.Y_train[train_indices])\n",
      "  File \"/home/anand/anaconda3/lib/python3.5/site-packages/auto_sklearn-0.1.3-py3.5-linux-x86_64.egg/autosklearn/evaluation/abstract_evaluator.py\", line 340, in _fit_and_suppress_warnings\n",
      "    model.fit(X, y)\n",
      "  File \"/home/anand/anaconda3/lib/python3.5/site-packages/auto_sklearn-0.1.3-py3.5-linux-x86_64.egg/autosklearn/pipeline/base.py\", line 88, in fit\n",
      "    X, fit_params = self.pre_transform(X, y, fit_params=fit_params)\n",
      "  File \"/home/anand/anaconda3/lib/python3.5/site-packages/auto_sklearn-0.1.3-py3.5-linux-x86_64.egg/autosklearn/pipeline/classification.py\", line 102, in pre_transform\n",
      "    X, y, fit_params=fit_params)\n",
      "  File \"/home/anand/anaconda3/lib/python3.5/site-packages/auto_sklearn-0.1.3-py3.5-linux-x86_64.egg/autosklearn/pipeline/base.py\", line 98, in pre_transform\n",
      "    X, fit_params = self._pre_transform(X, y, **fit_params)\n",
      "  File \"/home/anand/anaconda3/lib/python3.5/site-packages/sklearn/pipeline.py\", line 148, in _pre_transform\n",
      "    .transform(Xt)\n",
      "  File \"/home/anand/anaconda3/lib/python3.5/site-packages/auto_sklearn-0.1.3-py3.5-linux-x86_64.egg/autosklearn/pipeline/components/feature_preprocessing/select_rates.py\", line 72, in transform\n",
      "    \"%s removed all features.\" % self.__class__.__name__)\n",
      "ValueError: SelectRates removed all features.\n",
      "You are already timing task: index_run14\n",
      "Process pynisher function call:\n",
      "Traceback (most recent call last):\n",
      "  File \"/home/anand/anaconda3/lib/python3.5/multiprocessing/process.py\", line 249, in _bootstrap\n",
      "    self.run()\n",
      "  File \"/home/anand/anaconda3/lib/python3.5/multiprocessing/process.py\", line 93, in run\n",
      "    self._target(*self._args, **self._kwargs)\n",
      "  File \"/home/anand/anaconda3/lib/python3.5/site-packages/pynisher/limit_function_call.py\", line 83, in subprocess_func\n",
      "    return_value = ((func(*args, **kwargs), 0))\n",
      "  File \"/home/anand/anaconda3/lib/python3.5/site-packages/auto_sklearn-0.1.3-py3.5-linux-x86_64.egg/autosklearn/evaluation/train_evaluator.py\", line 284, in eval_holdout\n",
      "    evaluator.fit_predict_and_loss(iterative=iterative)\n",
      "  File \"/home/anand/anaconda3/lib/python3.5/site-packages/auto_sklearn-0.1.3-py3.5-linux-x86_64.egg/autosklearn/evaluation/train_evaluator.py\", line 77, in fit_predict_and_loss\n",
      "    i, train_indices=train_split, test_indices=test_split)\n",
      "  File \"/home/anand/anaconda3/lib/python3.5/site-packages/auto_sklearn-0.1.3-py3.5-linux-x86_64.egg/autosklearn/evaluation/train_evaluator.py\", line 211, in _partial_fit_and_predict\n",
      "    self.Y_train[train_indices])\n",
      "  File \"/home/anand/anaconda3/lib/python3.5/site-packages/auto_sklearn-0.1.3-py3.5-linux-x86_64.egg/autosklearn/evaluation/abstract_evaluator.py\", line 340, in _fit_and_suppress_warnings\n",
      "    model.fit(X, y)\n",
      "  File \"/home/anand/anaconda3/lib/python3.5/site-packages/auto_sklearn-0.1.3-py3.5-linux-x86_64.egg/autosklearn/pipeline/base.py\", line 88, in fit\n",
      "    X, fit_params = self.pre_transform(X, y, fit_params=fit_params)\n",
      "  File \"/home/anand/anaconda3/lib/python3.5/site-packages/auto_sklearn-0.1.3-py3.5-linux-x86_64.egg/autosklearn/pipeline/classification.py\", line 102, in pre_transform\n",
      "    X, y, fit_params=fit_params)\n",
      "  File \"/home/anand/anaconda3/lib/python3.5/site-packages/auto_sklearn-0.1.3-py3.5-linux-x86_64.egg/autosklearn/pipeline/base.py\", line 98, in pre_transform\n",
      "    X, fit_params = self._pre_transform(X, y, **fit_params)\n",
      "  File \"/home/anand/anaconda3/lib/python3.5/site-packages/sklearn/pipeline.py\", line 148, in _pre_transform\n",
      "    .transform(Xt)\n",
      "  File \"/home/anand/anaconda3/lib/python3.5/site-packages/auto_sklearn-0.1.3-py3.5-linux-x86_64.egg/autosklearn/pipeline/components/feature_preprocessing/select_rates.py\", line 72, in transform\n",
      "    \"%s removed all features.\" % self.__class__.__name__)\n",
      "ValueError: SelectRates removed all features.\n",
      "You are already timing task: index_run14\n",
      "Process pynisher function call:\n",
      "Traceback (most recent call last):\n",
      "  File \"/home/anand/anaconda3/lib/python3.5/multiprocessing/process.py\", line 249, in _bootstrap\n",
      "    self.run()\n",
      "  File \"/home/anand/anaconda3/lib/python3.5/multiprocessing/process.py\", line 93, in run\n",
      "    self._target(*self._args, **self._kwargs)\n",
      "  File \"/home/anand/anaconda3/lib/python3.5/site-packages/pynisher/limit_function_call.py\", line 83, in subprocess_func\n",
      "    return_value = ((func(*args, **kwargs), 0))\n",
      "  File \"/home/anand/anaconda3/lib/python3.5/site-packages/auto_sklearn-0.1.3-py3.5-linux-x86_64.egg/autosklearn/evaluation/train_evaluator.py\", line 284, in eval_holdout\n",
      "    evaluator.fit_predict_and_loss(iterative=iterative)\n",
      "  File \"/home/anand/anaconda3/lib/python3.5/site-packages/auto_sklearn-0.1.3-py3.5-linux-x86_64.egg/autosklearn/evaluation/train_evaluator.py\", line 77, in fit_predict_and_loss\n",
      "    i, train_indices=train_split, test_indices=test_split)\n",
      "  File \"/home/anand/anaconda3/lib/python3.5/site-packages/auto_sklearn-0.1.3-py3.5-linux-x86_64.egg/autosklearn/evaluation/train_evaluator.py\", line 211, in _partial_fit_and_predict\n",
      "    self.Y_train[train_indices])\n",
      "  File \"/home/anand/anaconda3/lib/python3.5/site-packages/auto_sklearn-0.1.3-py3.5-linux-x86_64.egg/autosklearn/evaluation/abstract_evaluator.py\", line 340, in _fit_and_suppress_warnings\n",
      "    model.fit(X, y)\n",
      "  File \"/home/anand/anaconda3/lib/python3.5/site-packages/auto_sklearn-0.1.3-py3.5-linux-x86_64.egg/autosklearn/pipeline/base.py\", line 88, in fit\n",
      "    X, fit_params = self.pre_transform(X, y, fit_params=fit_params)\n",
      "  File \"/home/anand/anaconda3/lib/python3.5/site-packages/auto_sklearn-0.1.3-py3.5-linux-x86_64.egg/autosklearn/pipeline/classification.py\", line 102, in pre_transform\n",
      "    X, y, fit_params=fit_params)\n",
      "  File \"/home/anand/anaconda3/lib/python3.5/site-packages/auto_sklearn-0.1.3-py3.5-linux-x86_64.egg/autosklearn/pipeline/base.py\", line 98, in pre_transform\n",
      "    X, fit_params = self._pre_transform(X, y, **fit_params)\n",
      "  File \"/home/anand/anaconda3/lib/python3.5/site-packages/sklearn/pipeline.py\", line 148, in _pre_transform\n",
      "    .transform(Xt)\n",
      "  File \"/home/anand/anaconda3/lib/python3.5/site-packages/auto_sklearn-0.1.3-py3.5-linux-x86_64.egg/autosklearn/pipeline/components/feature_preprocessing/select_rates.py\", line 72, in transform\n",
      "    \"%s removed all features.\" % self.__class__.__name__)\n",
      "ValueError: SelectRates removed all features.\n",
      "You are already timing task: index_run14\n",
      "You are already timing task: index_run14\n",
      "You are already timing task: index_run14\n",
      "You are already timing task: index_run14\n",
      "You are already timing task: index_run14\n",
      "You are already timing task: index_run14\n",
      "You are already timing task: index_run14\n",
      "You are already timing task: index_run14\n",
      "You are already timing task: index_run14\n",
      "You are already timing task: index_run14\n",
      "You are already timing task: index_run14\n",
      "You are already timing task: index_run14\n",
      "You are already timing task: index_run14\n",
      "You are already timing task: index_run14\n",
      "You are already timing task: index_run14\n",
      "You are already timing task: index_run14\n",
      "You are already timing task: index_run14\n",
      "You are already timing task: index_run14\n",
      "You are already timing task: index_run14\n",
      "You are already timing task: index_run14\n",
      "You are already timing task: index_run14\n",
      "You are already timing task: index_run14\n",
      "You are already timing task: index_run14\n",
      "You are already timing task: index_run14\n",
      "You are already timing task: index_run14\n",
      "You are already timing task: index_run14\n",
      "You are already timing task: index_run14\n",
      "You are already timing task: index_run14\n",
      "You are already timing task: index_run14\n",
      "You are already timing task: index_run14\n",
      "You are already timing task: index_run14\n",
      "You are already timing task: index_run14\n",
      "You are already timing task: index_run14\n",
      "You are already timing task: index_run14\n",
      "You are already timing task: index_run14\n",
      "Process pynisher function call:\n",
      "Traceback (most recent call last):\n",
      "  File \"/home/anand/anaconda3/lib/python3.5/multiprocessing/process.py\", line 249, in _bootstrap\n",
      "    self.run()\n",
      "  File \"/home/anand/anaconda3/lib/python3.5/multiprocessing/process.py\", line 93, in run\n",
      "    self._target(*self._args, **self._kwargs)\n",
      "  File \"/home/anand/anaconda3/lib/python3.5/site-packages/pynisher/limit_function_call.py\", line 83, in subprocess_func\n",
      "    return_value = ((func(*args, **kwargs), 0))\n",
      "  File \"/home/anand/anaconda3/lib/python3.5/site-packages/auto_sklearn-0.1.3-py3.5-linux-x86_64.egg/autosklearn/evaluation/train_evaluator.py\", line 284, in eval_holdout\n",
      "    evaluator.fit_predict_and_loss(iterative=iterative)\n",
      "  File \"/home/anand/anaconda3/lib/python3.5/site-packages/auto_sklearn-0.1.3-py3.5-linux-x86_64.egg/autosklearn/evaluation/train_evaluator.py\", line 77, in fit_predict_and_loss\n",
      "    i, train_indices=train_split, test_indices=test_split)\n",
      "  File \"/home/anand/anaconda3/lib/python3.5/site-packages/auto_sklearn-0.1.3-py3.5-linux-x86_64.egg/autosklearn/evaluation/train_evaluator.py\", line 211, in _partial_fit_and_predict\n",
      "    self.Y_train[train_indices])\n",
      "  File \"/home/anand/anaconda3/lib/python3.5/site-packages/auto_sklearn-0.1.3-py3.5-linux-x86_64.egg/autosklearn/evaluation/abstract_evaluator.py\", line 340, in _fit_and_suppress_warnings\n",
      "    model.fit(X, y)\n",
      "  File \"/home/anand/anaconda3/lib/python3.5/site-packages/auto_sklearn-0.1.3-py3.5-linux-x86_64.egg/autosklearn/pipeline/base.py\", line 88, in fit\n",
      "    X, fit_params = self.pre_transform(X, y, fit_params=fit_params)\n",
      "  File \"/home/anand/anaconda3/lib/python3.5/site-packages/auto_sklearn-0.1.3-py3.5-linux-x86_64.egg/autosklearn/pipeline/classification.py\", line 102, in pre_transform\n",
      "    X, y, fit_params=fit_params)\n",
      "  File \"/home/anand/anaconda3/lib/python3.5/site-packages/auto_sklearn-0.1.3-py3.5-linux-x86_64.egg/autosklearn/pipeline/base.py\", line 98, in pre_transform\n",
      "    X, fit_params = self._pre_transform(X, y, **fit_params)\n",
      "  File \"/home/anand/anaconda3/lib/python3.5/site-packages/sklearn/pipeline.py\", line 148, in _pre_transform\n",
      "    .transform(Xt)\n",
      "  File \"/home/anand/anaconda3/lib/python3.5/site-packages/auto_sklearn-0.1.3-py3.5-linux-x86_64.egg/autosklearn/pipeline/components/feature_preprocessing/select_rates.py\", line 72, in transform\n",
      "    \"%s removed all features.\" % self.__class__.__name__)\n",
      "ValueError: SelectRates removed all features.\n",
      "You are already timing task: index_run14\n",
      "You are already timing task: index_run14\n",
      "You are already timing task: index_run14\n",
      "You are already timing task: index_run14\n",
      "You are already timing task: index_run14\n",
      "You are already timing task: index_run14\n",
      "You are already timing task: index_run14\n",
      "You are already timing task: index_run14\n",
      "You are already timing task: index_run14\n",
      "You are already timing task: index_run14\n",
      "You are already timing task: index_run14\n",
      "You are already timing task: index_run14\n",
      "You are already timing task: index_run14\n",
      "You are already timing task: index_run14\n",
      "You are already timing task: index_run14\n",
      "You are already timing task: index_run14\n",
      "You are already timing task: index_run14\n",
      "You are already timing task: index_run14\n",
      "You are already timing task: index_run14\n",
      "You are already timing task: index_run14\n",
      "You are already timing task: index_run14\n",
      "You are already timing task: index_run14\n",
      "You are already timing task: index_run14\n",
      "You are already timing task: index_run14\n",
      "Process pynisher function call:\n",
      "Traceback (most recent call last):\n",
      "  File \"/home/anand/anaconda3/lib/python3.5/multiprocessing/process.py\", line 249, in _bootstrap\n",
      "    self.run()\n",
      "  File \"/home/anand/anaconda3/lib/python3.5/multiprocessing/process.py\", line 93, in run\n",
      "    self._target(*self._args, **self._kwargs)\n",
      "  File \"/home/anand/anaconda3/lib/python3.5/site-packages/pynisher/limit_function_call.py\", line 83, in subprocess_func\n",
      "    return_value = ((func(*args, **kwargs), 0))\n",
      "  File \"/home/anand/anaconda3/lib/python3.5/site-packages/auto_sklearn-0.1.3-py3.5-linux-x86_64.egg/autosklearn/evaluation/train_evaluator.py\", line 284, in eval_holdout\n",
      "    evaluator.fit_predict_and_loss(iterative=iterative)\n",
      "  File \"/home/anand/anaconda3/lib/python3.5/site-packages/auto_sklearn-0.1.3-py3.5-linux-x86_64.egg/autosklearn/evaluation/train_evaluator.py\", line 77, in fit_predict_and_loss\n",
      "    i, train_indices=train_split, test_indices=test_split)\n",
      "  File \"/home/anand/anaconda3/lib/python3.5/site-packages/auto_sklearn-0.1.3-py3.5-linux-x86_64.egg/autosklearn/evaluation/train_evaluator.py\", line 211, in _partial_fit_and_predict\n",
      "    self.Y_train[train_indices])\n",
      "  File \"/home/anand/anaconda3/lib/python3.5/site-packages/auto_sklearn-0.1.3-py3.5-linux-x86_64.egg/autosklearn/evaluation/abstract_evaluator.py\", line 340, in _fit_and_suppress_warnings\n",
      "    model.fit(X, y)\n",
      "  File \"/home/anand/anaconda3/lib/python3.5/site-packages/auto_sklearn-0.1.3-py3.5-linux-x86_64.egg/autosklearn/pipeline/base.py\", line 88, in fit\n",
      "    X, fit_params = self.pre_transform(X, y, fit_params=fit_params)\n",
      "  File \"/home/anand/anaconda3/lib/python3.5/site-packages/auto_sklearn-0.1.3-py3.5-linux-x86_64.egg/autosklearn/pipeline/classification.py\", line 102, in pre_transform\n",
      "    X, y, fit_params=fit_params)\n",
      "  File \"/home/anand/anaconda3/lib/python3.5/site-packages/auto_sklearn-0.1.3-py3.5-linux-x86_64.egg/autosklearn/pipeline/base.py\", line 98, in pre_transform\n",
      "    X, fit_params = self._pre_transform(X, y, **fit_params)\n",
      "  File \"/home/anand/anaconda3/lib/python3.5/site-packages/sklearn/pipeline.py\", line 148, in _pre_transform\n",
      "    .transform(Xt)\n",
      "  File \"/home/anand/anaconda3/lib/python3.5/site-packages/auto_sklearn-0.1.3-py3.5-linux-x86_64.egg/autosklearn/pipeline/components/feature_preprocessing/select_rates.py\", line 72, in transform\n",
      "    \"%s removed all features.\" % self.__class__.__name__)\n",
      "ValueError: SelectRates removed all features.\n",
      "You are already timing task: index_run14\n",
      "You are already timing task: index_run14\n",
      "You are already timing task: index_run14\n",
      "You are already timing task: index_run14\n",
      "You are already timing task: index_run14\n",
      "You are already timing task: index_run14\n",
      "You are already timing task: index_run14\n",
      "You are already timing task: index_run14\n",
      "You are already timing task: index_run14\n",
      "You are already timing task: index_run14\n",
      "You are already timing task: index_run14\n",
      "You are already timing task: index_run14\n",
      "You are already timing task: index_run14\n",
      "You are already timing task: index_run14\n",
      "You are already timing task: index_run14\n"
     ]
    },
    {
     "name": "stdout",
     "output_type": "stream",
     "text": [
      "n_components is too large: it will be set to 4\n"
     ]
    },
    {
     "name": "stderr",
     "output_type": "stream",
     "text": [
      "You are already timing task: index_run14\n",
      "You are already timing task: index_run14\n",
      "You are already timing task: index_run14\n",
      "You are already timing task: index_run14\n",
      "You are already timing task: index_run14\n",
      "You are already timing task: index_run14\n",
      "Process pynisher function call:\n",
      "You are already timing task: index_run14\n",
      "Traceback (most recent call last):\n",
      "  File \"/home/anand/anaconda3/lib/python3.5/multiprocessing/process.py\", line 249, in _bootstrap\n",
      "    self.run()\n",
      "  File \"/home/anand/anaconda3/lib/python3.5/multiprocessing/process.py\", line 93, in run\n",
      "    self._target(*self._args, **self._kwargs)\n",
      "  File \"/home/anand/anaconda3/lib/python3.5/site-packages/pynisher/limit_function_call.py\", line 83, in subprocess_func\n",
      "    return_value = ((func(*args, **kwargs), 0))\n",
      "  File \"/home/anand/anaconda3/lib/python3.5/site-packages/auto_sklearn-0.1.3-py3.5-linux-x86_64.egg/autosklearn/evaluation/train_evaluator.py\", line 284, in eval_holdout\n",
      "    evaluator.fit_predict_and_loss(iterative=iterative)\n",
      "  File \"/home/anand/anaconda3/lib/python3.5/site-packages/auto_sklearn-0.1.3-py3.5-linux-x86_64.egg/autosklearn/evaluation/train_evaluator.py\", line 77, in fit_predict_and_loss\n",
      "    i, train_indices=train_split, test_indices=test_split)\n",
      "  File \"/home/anand/anaconda3/lib/python3.5/site-packages/auto_sklearn-0.1.3-py3.5-linux-x86_64.egg/autosklearn/evaluation/train_evaluator.py\", line 211, in _partial_fit_and_predict\n",
      "    self.Y_train[train_indices])\n",
      "  File \"/home/anand/anaconda3/lib/python3.5/site-packages/auto_sklearn-0.1.3-py3.5-linux-x86_64.egg/autosklearn/evaluation/abstract_evaluator.py\", line 340, in _fit_and_suppress_warnings\n",
      "    model.fit(X, y)\n",
      "  File \"/home/anand/anaconda3/lib/python3.5/site-packages/auto_sklearn-0.1.3-py3.5-linux-x86_64.egg/autosklearn/pipeline/base.py\", line 88, in fit\n",
      "    X, fit_params = self.pre_transform(X, y, fit_params=fit_params)\n",
      "  File \"/home/anand/anaconda3/lib/python3.5/site-packages/auto_sklearn-0.1.3-py3.5-linux-x86_64.egg/autosklearn/pipeline/classification.py\", line 102, in pre_transform\n",
      "    X, y, fit_params=fit_params)\n",
      "  File \"/home/anand/anaconda3/lib/python3.5/site-packages/auto_sklearn-0.1.3-py3.5-linux-x86_64.egg/autosklearn/pipeline/base.py\", line 98, in pre_transform\n",
      "    X, fit_params = self._pre_transform(X, y, **fit_params)\n",
      "  File \"/home/anand/anaconda3/lib/python3.5/site-packages/sklearn/pipeline.py\", line 148, in _pre_transform\n",
      "    .transform(Xt)\n",
      "  File \"/home/anand/anaconda3/lib/python3.5/site-packages/auto_sklearn-0.1.3-py3.5-linux-x86_64.egg/autosklearn/pipeline/components/feature_preprocessing/select_rates.py\", line 72, in transform\n",
      "    \"%s removed all features.\" % self.__class__.__name__)\n",
      "ValueError: SelectRates removed all features.\n"
     ]
    },
    {
     "name": "stdout",
     "output_type": "stream",
     "text": [
      "n_components is too large: it will be set to 4\n"
     ]
    },
    {
     "name": "stderr",
     "output_type": "stream",
     "text": [
      "You are already timing task: index_run14\n",
      "You are already timing task: index_run14\n",
      "You are already timing task: index_run14\n",
      "You are already timing task: index_run14\n",
      "You are already timing task: index_run14\n",
      "You are already timing task: index_run14\n",
      "You are already timing task: index_run14\n",
      "You are already timing task: index_run14\n",
      "You are already timing task: index_run14\n",
      "You are already timing task: index_run14\n",
      "You are already timing task: index_run14\n",
      "You are already timing task: index_run14\n",
      "You are already timing task: index_run14\n",
      "You are already timing task: index_run14\n",
      "You are already timing task: index_run14\n",
      "You are already timing task: index_run14\n",
      "You are already timing task: index_run14\n",
      "You are already timing task: index_run14\n",
      "You are already timing task: index_run14\n",
      "You are already timing task: index_run14\n",
      "You are already timing task: index_run14\n",
      "You are already timing task: index_run14\n",
      "Process pynisher function call:\n",
      "You are already timing task: index_run14\n",
      "Traceback (most recent call last):\n",
      "  File \"/home/anand/anaconda3/lib/python3.5/multiprocessing/process.py\", line 249, in _bootstrap\n",
      "    self.run()\n",
      "  File \"/home/anand/anaconda3/lib/python3.5/multiprocessing/process.py\", line 93, in run\n",
      "    self._target(*self._args, **self._kwargs)\n",
      "  File \"/home/anand/anaconda3/lib/python3.5/site-packages/pynisher/limit_function_call.py\", line 83, in subprocess_func\n",
      "    return_value = ((func(*args, **kwargs), 0))\n",
      "  File \"/home/anand/anaconda3/lib/python3.5/site-packages/auto_sklearn-0.1.3-py3.5-linux-x86_64.egg/autosklearn/evaluation/train_evaluator.py\", line 284, in eval_holdout\n",
      "    evaluator.fit_predict_and_loss(iterative=iterative)\n",
      "  File \"/home/anand/anaconda3/lib/python3.5/site-packages/auto_sklearn-0.1.3-py3.5-linux-x86_64.egg/autosklearn/evaluation/train_evaluator.py\", line 77, in fit_predict_and_loss\n",
      "    i, train_indices=train_split, test_indices=test_split)\n",
      "  File \"/home/anand/anaconda3/lib/python3.5/site-packages/auto_sklearn-0.1.3-py3.5-linux-x86_64.egg/autosklearn/evaluation/train_evaluator.py\", line 211, in _partial_fit_and_predict\n",
      "    self.Y_train[train_indices])\n",
      "  File \"/home/anand/anaconda3/lib/python3.5/site-packages/auto_sklearn-0.1.3-py3.5-linux-x86_64.egg/autosklearn/evaluation/abstract_evaluator.py\", line 340, in _fit_and_suppress_warnings\n",
      "    model.fit(X, y)\n",
      "  File \"/home/anand/anaconda3/lib/python3.5/site-packages/auto_sklearn-0.1.3-py3.5-linux-x86_64.egg/autosklearn/pipeline/base.py\", line 88, in fit\n",
      "    X, fit_params = self.pre_transform(X, y, fit_params=fit_params)\n",
      "  File \"/home/anand/anaconda3/lib/python3.5/site-packages/auto_sklearn-0.1.3-py3.5-linux-x86_64.egg/autosklearn/pipeline/classification.py\", line 102, in pre_transform\n",
      "    X, y, fit_params=fit_params)\n",
      "  File \"/home/anand/anaconda3/lib/python3.5/site-packages/auto_sklearn-0.1.3-py3.5-linux-x86_64.egg/autosklearn/pipeline/base.py\", line 98, in pre_transform\n",
      "    X, fit_params = self._pre_transform(X, y, **fit_params)\n",
      "  File \"/home/anand/anaconda3/lib/python3.5/site-packages/sklearn/pipeline.py\", line 148, in _pre_transform\n",
      "    .transform(Xt)\n",
      "  File \"/home/anand/anaconda3/lib/python3.5/site-packages/auto_sklearn-0.1.3-py3.5-linux-x86_64.egg/autosklearn/pipeline/components/feature_preprocessing/select_rates.py\", line 72, in transform\n",
      "    \"%s removed all features.\" % self.__class__.__name__)\n",
      "ValueError: SelectRates removed all features.\n",
      "You are already timing task: index_run14\n",
      "You are already timing task: index_run14\n",
      "You are already timing task: index_run14\n",
      "You are already timing task: index_run14\n",
      "You are already timing task: index_run14\n",
      "Process pynisher function call:\n",
      "You are already timing task: index_run14\n",
      "Traceback (most recent call last):\n",
      "  File \"/home/anand/anaconda3/lib/python3.5/multiprocessing/process.py\", line 249, in _bootstrap\n",
      "    self.run()\n",
      "  File \"/home/anand/anaconda3/lib/python3.5/multiprocessing/process.py\", line 93, in run\n",
      "    self._target(*self._args, **self._kwargs)\n",
      "  File \"/home/anand/anaconda3/lib/python3.5/site-packages/pynisher/limit_function_call.py\", line 83, in subprocess_func\n",
      "    return_value = ((func(*args, **kwargs), 0))\n",
      "  File \"/home/anand/anaconda3/lib/python3.5/site-packages/auto_sklearn-0.1.3-py3.5-linux-x86_64.egg/autosklearn/evaluation/train_evaluator.py\", line 284, in eval_holdout\n",
      "    evaluator.fit_predict_and_loss(iterative=iterative)\n",
      "  File \"/home/anand/anaconda3/lib/python3.5/site-packages/auto_sklearn-0.1.3-py3.5-linux-x86_64.egg/autosklearn/evaluation/train_evaluator.py\", line 77, in fit_predict_and_loss\n",
      "    i, train_indices=train_split, test_indices=test_split)\n",
      "  File \"/home/anand/anaconda3/lib/python3.5/site-packages/auto_sklearn-0.1.3-py3.5-linux-x86_64.egg/autosklearn/evaluation/train_evaluator.py\", line 211, in _partial_fit_and_predict\n",
      "    self.Y_train[train_indices])\n",
      "  File \"/home/anand/anaconda3/lib/python3.5/site-packages/auto_sklearn-0.1.3-py3.5-linux-x86_64.egg/autosklearn/evaluation/abstract_evaluator.py\", line 340, in _fit_and_suppress_warnings\n",
      "    model.fit(X, y)\n",
      "  File \"/home/anand/anaconda3/lib/python3.5/site-packages/auto_sklearn-0.1.3-py3.5-linux-x86_64.egg/autosklearn/pipeline/base.py\", line 88, in fit\n",
      "    X, fit_params = self.pre_transform(X, y, fit_params=fit_params)\n",
      "  File \"/home/anand/anaconda3/lib/python3.5/site-packages/auto_sklearn-0.1.3-py3.5-linux-x86_64.egg/autosklearn/pipeline/classification.py\", line 102, in pre_transform\n",
      "    X, y, fit_params=fit_params)\n",
      "  File \"/home/anand/anaconda3/lib/python3.5/site-packages/auto_sklearn-0.1.3-py3.5-linux-x86_64.egg/autosklearn/pipeline/base.py\", line 98, in pre_transform\n",
      "    X, fit_params = self._pre_transform(X, y, **fit_params)\n",
      "  File \"/home/anand/anaconda3/lib/python3.5/site-packages/sklearn/pipeline.py\", line 148, in _pre_transform\n",
      "    .transform(Xt)\n",
      "  File \"/home/anand/anaconda3/lib/python3.5/site-packages/auto_sklearn-0.1.3-py3.5-linux-x86_64.egg/autosklearn/pipeline/components/feature_preprocessing/select_rates.py\", line 72, in transform\n",
      "    \"%s removed all features.\" % self.__class__.__name__)\n",
      "ValueError: SelectRates removed all features.\n",
      "You are already timing task: index_run14\n",
      "You are already timing task: index_run14\n",
      "You are already timing task: index_run14\n",
      "You are already timing task: index_run14\n",
      "You are already timing task: index_run14\n",
      "You are already timing task: index_run14\n",
      "You are already timing task: index_run14\n",
      "You are already timing task: index_run14\n",
      "You are already timing task: index_run14\n",
      "You are already timing task: index_run14\n",
      "You are already timing task: index_run14\n",
      "You are already timing task: index_run14\n"
     ]
    },
    {
     "name": "stdout",
     "output_type": "stream",
     "text": [
      "n_components is too large: it will be set to 4\n"
     ]
    },
    {
     "name": "stderr",
     "output_type": "stream",
     "text": [
      "You are already timing task: index_run14\n",
      "You are already timing task: index_run14\n",
      "You are already timing task: index_run14\n",
      "You are already timing task: index_run14\n",
      "You are already timing task: index_run14\n",
      "You are already timing task: index_run14\n",
      "You are already timing task: index_run14\n",
      "You are already timing task: index_run14\n",
      "You are already timing task: index_run14\n",
      "You are already timing task: index_run14\n",
      "You are already timing task: index_run14\n",
      "You are already timing task: index_run14\n",
      "You are already timing task: index_run14\n",
      "You are already timing task: index_run14\n",
      "You are already timing task: index_run14\n",
      "You are already timing task: index_run14\n",
      "You are already timing task: index_run14\n",
      "You are already timing task: index_run14\n",
      "You are already timing task: index_run14\n",
      "You are already timing task: index_run14\n",
      "You are already timing task: index_run14\n",
      "You are already timing task: index_run14\n",
      "You are already timing task: index_run14\n",
      "You are already timing task: index_run14\n",
      "You are already timing task: index_run14\n",
      "You are already timing task: index_run14\n",
      "You are already timing task: index_run14\n",
      "You are already timing task: index_run14\n",
      "You are already timing task: index_run14\n",
      "You are already timing task: index_run14\n",
      "You are already timing task: index_run14\n",
      "You are already timing task: index_run14\n",
      "You are already timing task: index_run14\n",
      "You are already timing task: index_run14\n",
      "You are already timing task: index_run14\n",
      "You are already timing task: index_run14\n",
      "You are already timing task: index_run14\n",
      "You are already timing task: index_run14\n",
      "You are already timing task: index_run14\n",
      "You are already timing task: index_run14\n",
      "You are already timing task: index_run14\n",
      "You are already timing task: index_run14\n",
      "You are already timing task: index_run14\n",
      "You are already timing task: index_run14\n",
      "You are already timing task: index_run14\n",
      "You are already timing task: index_run14\n",
      "You are already timing task: index_run14\n",
      "You are already timing task: index_run14\n"
     ]
    },
    {
     "name": "stdout",
     "output_type": "stream",
     "text": [
      "n_components is too large: it will be set to 4\n"
     ]
    },
    {
     "name": "stderr",
     "output_type": "stream",
     "text": [
      "You are already timing task: index_run14\n",
      "You are already timing task: index_run14\n",
      "You are already timing task: index_run14\n",
      "You are already timing task: index_run14\n",
      "You are already timing task: index_run14\n",
      "You are already timing task: index_run14\n",
      "You are already timing task: index_run14\n",
      "You are already timing task: index_run14\n",
      "You are already timing task: index_run14\n",
      "You are already timing task: index_run14\n",
      "You are already timing task: index_run14\n",
      "You are already timing task: index_run14\n"
     ]
    },
    {
     "name": "stdout",
     "output_type": "stream",
     "text": [
      "n_components is too large: it will be set to 4\n"
     ]
    },
    {
     "name": "stderr",
     "output_type": "stream",
     "text": [
      "You are already timing task: index_run14\n",
      "You are already timing task: index_run14\n",
      "You are already timing task: index_run14\n",
      "You are already timing task: index_run14\n",
      "You are already timing task: index_run14\n",
      "You are already timing task: index_run14\n",
      "You are already timing task: index_run14\n",
      "You are already timing task: index_run14\n",
      "You are already timing task: index_run14\n",
      "You are already timing task: index_run14\n",
      "You are already timing task: index_run14\n",
      "You are already timing task: index_run14\n",
      "You are already timing task: index_run14\n",
      "You are already timing task: index_run14\n",
      "You are already timing task: index_run14\n",
      "You are already timing task: index_run14\n",
      "You are already timing task: index_run14\n",
      "You are already timing task: index_run14\n",
      "You are already timing task: index_run14\n",
      "You are already timing task: index_run14\n",
      "You are already timing task: index_run14\n",
      "You are already timing task: index_run14\n",
      "You are already timing task: index_run14\n",
      "You are already timing task: index_run14\n",
      "Process pynisher function call:\n",
      "Traceback (most recent call last):\n",
      "  File \"/home/anand/anaconda3/lib/python3.5/multiprocessing/process.py\", line 249, in _bootstrap\n",
      "    self.run()\n",
      "  File \"/home/anand/anaconda3/lib/python3.5/multiprocessing/process.py\", line 93, in run\n",
      "    self._target(*self._args, **self._kwargs)\n",
      "  File \"/home/anand/anaconda3/lib/python3.5/site-packages/pynisher/limit_function_call.py\", line 83, in subprocess_func\n",
      "    return_value = ((func(*args, **kwargs), 0))\n",
      "  File \"/home/anand/anaconda3/lib/python3.5/site-packages/auto_sklearn-0.1.3-py3.5-linux-x86_64.egg/autosklearn/evaluation/train_evaluator.py\", line 284, in eval_holdout\n",
      "    evaluator.fit_predict_and_loss(iterative=iterative)\n",
      "  File \"/home/anand/anaconda3/lib/python3.5/site-packages/auto_sklearn-0.1.3-py3.5-linux-x86_64.egg/autosklearn/evaluation/train_evaluator.py\", line 77, in fit_predict_and_loss\n",
      "    i, train_indices=train_split, test_indices=test_split)\n",
      "  File \"/home/anand/anaconda3/lib/python3.5/site-packages/auto_sklearn-0.1.3-py3.5-linux-x86_64.egg/autosklearn/evaluation/train_evaluator.py\", line 211, in _partial_fit_and_predict\n",
      "    self.Y_train[train_indices])\n",
      "  File \"/home/anand/anaconda3/lib/python3.5/site-packages/auto_sklearn-0.1.3-py3.5-linux-x86_64.egg/autosklearn/evaluation/abstract_evaluator.py\", line 340, in _fit_and_suppress_warnings\n",
      "    model.fit(X, y)\n",
      "  File \"/home/anand/anaconda3/lib/python3.5/site-packages/auto_sklearn-0.1.3-py3.5-linux-x86_64.egg/autosklearn/pipeline/base.py\", line 88, in fit\n",
      "    X, fit_params = self.pre_transform(X, y, fit_params=fit_params)\n",
      "  File \"/home/anand/anaconda3/lib/python3.5/site-packages/auto_sklearn-0.1.3-py3.5-linux-x86_64.egg/autosklearn/pipeline/classification.py\", line 102, in pre_transform\n",
      "    X, y, fit_params=fit_params)\n",
      "  File \"/home/anand/anaconda3/lib/python3.5/site-packages/auto_sklearn-0.1.3-py3.5-linux-x86_64.egg/autosklearn/pipeline/base.py\", line 98, in pre_transform\n",
      "    X, fit_params = self._pre_transform(X, y, **fit_params)\n",
      "  File \"/home/anand/anaconda3/lib/python3.5/site-packages/sklearn/pipeline.py\", line 148, in _pre_transform\n",
      "    .transform(Xt)\n",
      "  File \"/home/anand/anaconda3/lib/python3.5/site-packages/auto_sklearn-0.1.3-py3.5-linux-x86_64.egg/autosklearn/pipeline/components/feature_preprocessing/select_rates.py\", line 72, in transform\n",
      "    \"%s removed all features.\" % self.__class__.__name__)\n",
      "ValueError: SelectRates removed all features.\n",
      "You are already timing task: index_run14\n",
      "You are already timing task: index_run14\n",
      "You are already timing task: index_run14\n",
      "You are already timing task: index_run14\n",
      "You are already timing task: index_run14\n",
      "You are already timing task: index_run14\n",
      "You are already timing task: index_run14\n",
      "You are already timing task: index_run14\n",
      "You are already timing task: index_run14\n"
     ]
    },
    {
     "name": "stdout",
     "output_type": "stream",
     "text": [
      "n_components is too large: it will be set to 4\n"
     ]
    },
    {
     "name": "stderr",
     "output_type": "stream",
     "text": [
      "You are already timing task: index_run14\n",
      "You are already timing task: index_run14\n",
      "You are already timing task: index_run14\n",
      "You are already timing task: index_run14\n",
      "You are already timing task: index_run14\n",
      "You are already timing task: index_run14\n",
      "You are already timing task: index_run14\n",
      "You are already timing task: index_run14\n",
      "You are already timing task: index_run14\n",
      "You are already timing task: index_run14\n",
      "You are already timing task: index_run14\n",
      "You are already timing task: index_run14\n",
      "You are already timing task: index_run14\n",
      "You are already timing task: index_run14\n",
      "You are already timing task: index_run14\n",
      "You are already timing task: index_run14\n",
      "You are already timing task: index_run14\n",
      "You are already timing task: index_run14\n",
      "You are already timing task: index_run14\n",
      "You are already timing task: index_run14\n",
      "You are already timing task: index_run14\n",
      "You are already timing task: index_run14\n",
      "You are already timing task: index_run14\n",
      "You are already timing task: index_run14\n",
      "You are already timing task: index_run14\n",
      "You are already timing task: index_run14\n",
      "You are already timing task: index_run14\n",
      "You are already timing task: index_run14\n",
      "You are already timing task: index_run14\n",
      "You are already timing task: index_run14\n",
      "You are already timing task: index_run14\n",
      "You are already timing task: index_run14\n",
      "You are already timing task: index_run14\n",
      "You are already timing task: index_run14\n",
      "You are already timing task: index_run14\n",
      "You are already timing task: index_run14\n",
      "You are already timing task: index_run14\n",
      "You are already timing task: index_run14\n",
      "You are already timing task: index_run14\n",
      "You are already timing task: index_run14\n",
      "You are already timing task: index_run14\n",
      "You are already timing task: index_run14\n",
      "You are already timing task: index_run14\n",
      "You are already timing task: index_run14\n",
      "You are already timing task: index_run14\n",
      "You are already timing task: index_run14\n",
      "You are already timing task: index_run14\n",
      "You are already timing task: index_run14\n",
      "You are already timing task: index_run14\n",
      "You are already timing task: index_run14\n",
      "You are already timing task: index_run14\n",
      "You are already timing task: index_run14\n",
      "You are already timing task: index_run14\n",
      "You are already timing task: index_run14\n"
     ]
    },
    {
     "name": "stdout",
     "output_type": "stream",
     "text": [
      "n_components is too large: it will be set to 4\n"
     ]
    },
    {
     "name": "stderr",
     "output_type": "stream",
     "text": [
      "You are already timing task: index_run14\n",
      "You are already timing task: index_run14\n",
      "You are already timing task: index_run14\n",
      "You are already timing task: index_run14\n",
      "You are already timing task: index_run14\n",
      "You are already timing task: index_run14\n",
      "You are already timing task: index_run14\n",
      "You are already timing task: index_run14\n",
      "You are already timing task: index_run14\n",
      "You are already timing task: index_run14\n",
      "You are already timing task: index_run14\n",
      "You are already timing task: index_run14\n",
      "You are already timing task: index_run14\n",
      "Process pynisher function call:\n",
      "Traceback (most recent call last):\n",
      "  File \"/home/anand/anaconda3/lib/python3.5/multiprocessing/process.py\", line 249, in _bootstrap\n",
      "    self.run()\n",
      "  File \"/home/anand/anaconda3/lib/python3.5/multiprocessing/process.py\", line 93, in run\n",
      "    self._target(*self._args, **self._kwargs)\n",
      "  File \"/home/anand/anaconda3/lib/python3.5/site-packages/pynisher/limit_function_call.py\", line 83, in subprocess_func\n",
      "    return_value = ((func(*args, **kwargs), 0))\n",
      "  File \"/home/anand/anaconda3/lib/python3.5/site-packages/auto_sklearn-0.1.3-py3.5-linux-x86_64.egg/autosklearn/evaluation/train_evaluator.py\", line 284, in eval_holdout\n",
      "    evaluator.fit_predict_and_loss(iterative=iterative)\n",
      "  File \"/home/anand/anaconda3/lib/python3.5/site-packages/auto_sklearn-0.1.3-py3.5-linux-x86_64.egg/autosklearn/evaluation/train_evaluator.py\", line 77, in fit_predict_and_loss\n",
      "    i, train_indices=train_split, test_indices=test_split)\n",
      "  File \"/home/anand/anaconda3/lib/python3.5/site-packages/auto_sklearn-0.1.3-py3.5-linux-x86_64.egg/autosklearn/evaluation/train_evaluator.py\", line 211, in _partial_fit_and_predict\n",
      "    self.Y_train[train_indices])\n",
      "  File \"/home/anand/anaconda3/lib/python3.5/site-packages/auto_sklearn-0.1.3-py3.5-linux-x86_64.egg/autosklearn/evaluation/abstract_evaluator.py\", line 340, in _fit_and_suppress_warnings\n",
      "    model.fit(X, y)\n",
      "  File \"/home/anand/anaconda3/lib/python3.5/site-packages/auto_sklearn-0.1.3-py3.5-linux-x86_64.egg/autosklearn/pipeline/base.py\", line 88, in fit\n",
      "    X, fit_params = self.pre_transform(X, y, fit_params=fit_params)\n",
      "  File \"/home/anand/anaconda3/lib/python3.5/site-packages/auto_sklearn-0.1.3-py3.5-linux-x86_64.egg/autosklearn/pipeline/classification.py\", line 102, in pre_transform\n",
      "    X, y, fit_params=fit_params)\n",
      "  File \"/home/anand/anaconda3/lib/python3.5/site-packages/auto_sklearn-0.1.3-py3.5-linux-x86_64.egg/autosklearn/pipeline/base.py\", line 98, in pre_transform\n",
      "    X, fit_params = self._pre_transform(X, y, **fit_params)\n",
      "  File \"/home/anand/anaconda3/lib/python3.5/site-packages/sklearn/pipeline.py\", line 148, in _pre_transform\n",
      "    .transform(Xt)\n",
      "  File \"/home/anand/anaconda3/lib/python3.5/site-packages/auto_sklearn-0.1.3-py3.5-linux-x86_64.egg/autosklearn/pipeline/components/feature_preprocessing/select_rates.py\", line 72, in transform\n",
      "    \"%s removed all features.\" % self.__class__.__name__)\n",
      "ValueError: SelectRates removed all features.\n",
      "You are already timing task: index_run14\n",
      "You are already timing task: index_run14\n",
      "You are already timing task: index_run14\n",
      "You are already timing task: index_run14\n",
      "You are already timing task: index_run14\n"
     ]
    },
    {
     "name": "stdout",
     "output_type": "stream",
     "text": [
      "n_components is too large: it will be set to 4\n"
     ]
    },
    {
     "name": "stderr",
     "output_type": "stream",
     "text": [
      "You are already timing task: index_run14\n",
      "You are already timing task: index_run14\n",
      "You are already timing task: index_run14\n",
      "You are already timing task: index_run14\n",
      "You are already timing task: index_run14\n",
      "You are already timing task: index_run14\n",
      "You are already timing task: index_run14\n",
      "You are already timing task: index_run14\n",
      "You are already timing task: index_run14\n",
      "You are already timing task: index_run14\n",
      "You are already timing task: index_run14\n"
     ]
    },
    {
     "name": "stdout",
     "output_type": "stream",
     "text": [
      "n_components is too large: it will be set to 4\n"
     ]
    },
    {
     "name": "stderr",
     "output_type": "stream",
     "text": [
      "You are already timing task: index_run14\n",
      "You are already timing task: index_run14\n",
      "You are already timing task: index_run14\n",
      "You are already timing task: index_run14\n",
      "You are already timing task: index_run14\n",
      "You are already timing task: index_run14\n"
     ]
    },
    {
     "name": "stdout",
     "output_type": "stream",
     "text": [
      "n_components is too large: it will be set to 4\n"
     ]
    },
    {
     "name": "stderr",
     "output_type": "stream",
     "text": [
      "You are already timing task: index_run14\n",
      "You are already timing task: index_run14\n",
      "You are already timing task: index_run14\n",
      "You are already timing task: index_run14\n",
      "You are already timing task: index_run14\n",
      "You are already timing task: index_run14\n",
      "You are already timing task: index_run14\n",
      "You are already timing task: index_run14\n",
      "You are already timing task: index_run14\n"
     ]
    },
    {
     "name": "stdout",
     "output_type": "stream",
     "text": [
      "n_components is too large: it will be set to 4\n"
     ]
    },
    {
     "name": "stderr",
     "output_type": "stream",
     "text": [
      "You are already timing task: index_run14\n",
      "You are already timing task: index_run14\n",
      "You are already timing task: index_run14\n",
      "You are already timing task: index_run14\n",
      "You are already timing task: index_run14\n",
      "You are already timing task: index_run14\n",
      "You are already timing task: index_run14\n",
      "You are already timing task: index_run14\n",
      "You are already timing task: index_run14\n",
      "You are already timing task: index_run14\n",
      "You are already timing task: index_run14\n",
      "You are already timing task: index_run14\n",
      "You are already timing task: index_run14\n",
      "You are already timing task: index_run14\n",
      "You are already timing task: index_run14\n",
      "You are already timing task: index_run14\n",
      "You are already timing task: index_run14\n",
      "You are already timing task: index_run14\n",
      "Process pynisher function call:\n",
      "Traceback (most recent call last):\n",
      "  File \"/home/anand/anaconda3/lib/python3.5/multiprocessing/process.py\", line 249, in _bootstrap\n",
      "    self.run()\n",
      "  File \"/home/anand/anaconda3/lib/python3.5/multiprocessing/process.py\", line 93, in run\n",
      "    self._target(*self._args, **self._kwargs)\n",
      "  File \"/home/anand/anaconda3/lib/python3.5/site-packages/pynisher/limit_function_call.py\", line 83, in subprocess_func\n",
      "    return_value = ((func(*args, **kwargs), 0))\n",
      "  File \"/home/anand/anaconda3/lib/python3.5/site-packages/auto_sklearn-0.1.3-py3.5-linux-x86_64.egg/autosklearn/evaluation/train_evaluator.py\", line 284, in eval_holdout\n",
      "    evaluator.fit_predict_and_loss(iterative=iterative)\n",
      "  File \"/home/anand/anaconda3/lib/python3.5/site-packages/auto_sklearn-0.1.3-py3.5-linux-x86_64.egg/autosklearn/evaluation/train_evaluator.py\", line 77, in fit_predict_and_loss\n",
      "    i, train_indices=train_split, test_indices=test_split)\n",
      "  File \"/home/anand/anaconda3/lib/python3.5/site-packages/auto_sklearn-0.1.3-py3.5-linux-x86_64.egg/autosklearn/evaluation/train_evaluator.py\", line 211, in _partial_fit_and_predict\n",
      "    self.Y_train[train_indices])\n",
      "  File \"/home/anand/anaconda3/lib/python3.5/site-packages/auto_sklearn-0.1.3-py3.5-linux-x86_64.egg/autosklearn/evaluation/abstract_evaluator.py\", line 340, in _fit_and_suppress_warnings\n",
      "    model.fit(X, y)\n",
      "  File \"/home/anand/anaconda3/lib/python3.5/site-packages/auto_sklearn-0.1.3-py3.5-linux-x86_64.egg/autosklearn/pipeline/base.py\", line 88, in fit\n",
      "    X, fit_params = self.pre_transform(X, y, fit_params=fit_params)\n",
      "  File \"/home/anand/anaconda3/lib/python3.5/site-packages/auto_sklearn-0.1.3-py3.5-linux-x86_64.egg/autosklearn/pipeline/classification.py\", line 102, in pre_transform\n",
      "    X, y, fit_params=fit_params)\n",
      "  File \"/home/anand/anaconda3/lib/python3.5/site-packages/auto_sklearn-0.1.3-py3.5-linux-x86_64.egg/autosklearn/pipeline/base.py\", line 98, in pre_transform\n",
      "    X, fit_params = self._pre_transform(X, y, **fit_params)\n",
      "  File \"/home/anand/anaconda3/lib/python3.5/site-packages/sklearn/pipeline.py\", line 148, in _pre_transform\n",
      "    .transform(Xt)\n",
      "  File \"/home/anand/anaconda3/lib/python3.5/site-packages/auto_sklearn-0.1.3-py3.5-linux-x86_64.egg/autosklearn/pipeline/components/feature_preprocessing/select_rates.py\", line 72, in transform\n",
      "    \"%s removed all features.\" % self.__class__.__name__)\n",
      "ValueError: SelectRates removed all features.\n",
      "You are already timing task: index_run14\n",
      "You are already timing task: index_run14\n"
     ]
    },
    {
     "ename": "AttributeError",
     "evalue": "'DataFrame' object has no attribute 'toarray'",
     "output_type": "error",
     "traceback": [
      "\u001b[1;31m---------------------------------------------------------------------------\u001b[0m",
      "\u001b[1;31mAttributeError\u001b[0m                            Traceback (most recent call last)",
      "\u001b[1;32m<ipython-input-1-a5c7e532e4b0>\u001b[0m in \u001b[0;36m<module>\u001b[1;34m()\u001b[0m\n\u001b[0;32m     18\u001b[0m \u001b[0mautoml\u001b[0m \u001b[1;33m=\u001b[0m \u001b[0mautosklearn\u001b[0m\u001b[1;33m.\u001b[0m\u001b[0mclassification\u001b[0m\u001b[1;33m.\u001b[0m\u001b[0mAutoSklearnClassifier\u001b[0m\u001b[1;33m(\u001b[0m\u001b[1;33m)\u001b[0m\u001b[1;33m\u001b[0m\u001b[0m\n\u001b[0;32m     19\u001b[0m \u001b[0mautoml\u001b[0m\u001b[1;33m.\u001b[0m\u001b[0mfit\u001b[0m\u001b[1;33m(\u001b[0m\u001b[0mX_train\u001b[0m\u001b[1;33m,\u001b[0m \u001b[0my_train\u001b[0m\u001b[1;33m)\u001b[0m\u001b[1;33m\u001b[0m\u001b[0m\n\u001b[1;32m---> 20\u001b[1;33m \u001b[0my_hat\u001b[0m \u001b[1;33m=\u001b[0m \u001b[0mautoml\u001b[0m\u001b[1;33m.\u001b[0m\u001b[0mpredict\u001b[0m\u001b[1;33m(\u001b[0m\u001b[0mX_test\u001b[0m\u001b[1;33m)\u001b[0m\u001b[1;33m\u001b[0m\u001b[0m\n\u001b[0m\u001b[0;32m     21\u001b[0m \u001b[0mprint\u001b[0m\u001b[1;33m(\u001b[0m\u001b[1;34m\"Accuracy score\"\u001b[0m\u001b[1;33m,\u001b[0m \u001b[0msklearn\u001b[0m\u001b[1;33m.\u001b[0m\u001b[0mmetrics\u001b[0m\u001b[1;33m.\u001b[0m\u001b[0maccuracy_score\u001b[0m\u001b[1;33m(\u001b[0m\u001b[0my_test\u001b[0m\u001b[1;33m,\u001b[0m \u001b[0my_hat\u001b[0m\u001b[1;33m)\u001b[0m\u001b[1;33m)\u001b[0m\u001b[1;33m\u001b[0m\u001b[0m\n",
      "\u001b[1;32m/home/anand/anaconda3/lib/python3.5/site-packages/auto_sklearn-0.1.3-py3.5-linux-x86_64.egg/autosklearn/estimators.py\u001b[0m in \u001b[0;36mpredict\u001b[1;34m(self, X)\u001b[0m\n\u001b[0;32m    371\u001b[0m \u001b[1;33m\u001b[0m\u001b[0m\n\u001b[0;32m    372\u001b[0m         \"\"\"\n\u001b[1;32m--> 373\u001b[1;33m         \u001b[1;32mreturn\u001b[0m \u001b[0msuper\u001b[0m\u001b[1;33m(\u001b[0m\u001b[0mAutoSklearnClassifier\u001b[0m\u001b[1;33m,\u001b[0m \u001b[0mself\u001b[0m\u001b[1;33m)\u001b[0m\u001b[1;33m.\u001b[0m\u001b[0mpredict\u001b[0m\u001b[1;33m(\u001b[0m\u001b[0mX\u001b[0m\u001b[1;33m)\u001b[0m\u001b[1;33m\u001b[0m\u001b[0m\n\u001b[0m\u001b[0;32m    374\u001b[0m \u001b[1;33m\u001b[0m\u001b[0m\n\u001b[0;32m    375\u001b[0m     \u001b[1;32mdef\u001b[0m \u001b[0mpredict_proba\u001b[0m\u001b[1;33m(\u001b[0m\u001b[0mself\u001b[0m\u001b[1;33m,\u001b[0m \u001b[0mX\u001b[0m\u001b[1;33m)\u001b[0m\u001b[1;33m:\u001b[0m\u001b[1;33m\u001b[0m\u001b[0m\n",
      "\u001b[1;32m/home/anand/anaconda3/lib/python3.5/site-packages/auto_sklearn-0.1.3-py3.5-linux-x86_64.egg/autosklearn/estimators.py\u001b[0m in \u001b[0;36mpredict\u001b[1;34m(self, X)\u001b[0m\n\u001b[0;32m     64\u001b[0m \u001b[1;33m\u001b[0m\u001b[0m\n\u001b[0;32m     65\u001b[0m     \u001b[1;32mdef\u001b[0m \u001b[0mpredict\u001b[0m\u001b[1;33m(\u001b[0m\u001b[0mself\u001b[0m\u001b[1;33m,\u001b[0m \u001b[0mX\u001b[0m\u001b[1;33m)\u001b[0m\u001b[1;33m:\u001b[0m\u001b[1;33m\u001b[0m\u001b[0m\n\u001b[1;32m---> 66\u001b[1;33m         \u001b[1;32mreturn\u001b[0m \u001b[0mself\u001b[0m\u001b[1;33m.\u001b[0m\u001b[0m_automl\u001b[0m\u001b[1;33m.\u001b[0m\u001b[0mpredict\u001b[0m\u001b[1;33m(\u001b[0m\u001b[0mX\u001b[0m\u001b[1;33m)\u001b[0m\u001b[1;33m\u001b[0m\u001b[0m\n\u001b[0m\u001b[0;32m     67\u001b[0m \u001b[1;33m\u001b[0m\u001b[0m\n\u001b[0;32m     68\u001b[0m     \u001b[1;32mdef\u001b[0m \u001b[0mscore\u001b[0m\u001b[1;33m(\u001b[0m\u001b[0mself\u001b[0m\u001b[1;33m,\u001b[0m \u001b[0mX\u001b[0m\u001b[1;33m,\u001b[0m \u001b[0my\u001b[0m\u001b[1;33m)\u001b[0m\u001b[1;33m:\u001b[0m\u001b[1;33m\u001b[0m\u001b[0m\n",
      "\u001b[1;32m/home/anand/anaconda3/lib/python3.5/site-packages/auto_sklearn-0.1.3-py3.5-linux-x86_64.egg/autosklearn/estimators.py\u001b[0m in \u001b[0;36mpredict\u001b[1;34m(self, X)\u001b[0m\n\u001b[0;32m    530\u001b[0m \u001b[1;33m\u001b[0m\u001b[0m\n\u001b[0;32m    531\u001b[0m     \u001b[1;32mdef\u001b[0m \u001b[0mpredict\u001b[0m\u001b[1;33m(\u001b[0m\u001b[0mself\u001b[0m\u001b[1;33m,\u001b[0m \u001b[0mX\u001b[0m\u001b[1;33m)\u001b[0m\u001b[1;33m:\u001b[0m\u001b[1;33m\u001b[0m\u001b[0m\n\u001b[1;32m--> 532\u001b[1;33m         \u001b[0mpredicted_probabilities\u001b[0m \u001b[1;33m=\u001b[0m \u001b[0mself\u001b[0m\u001b[1;33m.\u001b[0m\u001b[0m_automl\u001b[0m\u001b[1;33m.\u001b[0m\u001b[0mpredict\u001b[0m\u001b[1;33m(\u001b[0m\u001b[0mX\u001b[0m\u001b[1;33m)\u001b[0m\u001b[1;33m\u001b[0m\u001b[0m\n\u001b[0m\u001b[0;32m    533\u001b[0m         \u001b[1;32mif\u001b[0m \u001b[0mself\u001b[0m\u001b[1;33m.\u001b[0m\u001b[0m_n_outputs\u001b[0m \u001b[1;33m==\u001b[0m \u001b[1;36m1\u001b[0m\u001b[1;33m:\u001b[0m\u001b[1;33m\u001b[0m\u001b[0m\n\u001b[0;32m    534\u001b[0m             \u001b[0mpredicted_indexes\u001b[0m \u001b[1;33m=\u001b[0m \u001b[0mnp\u001b[0m\u001b[1;33m.\u001b[0m\u001b[0margmax\u001b[0m\u001b[1;33m(\u001b[0m\u001b[0mpredicted_probabilities\u001b[0m\u001b[1;33m,\u001b[0m \u001b[0maxis\u001b[0m\u001b[1;33m=\u001b[0m\u001b[1;36m1\u001b[0m\u001b[1;33m)\u001b[0m\u001b[1;33m\u001b[0m\u001b[0m\n",
      "\u001b[1;32m/home/anand/anaconda3/lib/python3.5/site-packages/auto_sklearn-0.1.3-py3.5-linux-x86_64.egg/autosklearn/automl.py\u001b[0m in \u001b[0;36mpredict\u001b[1;34m(self, X)\u001b[0m\n\u001b[0;32m    503\u001b[0m                     \u001b[0mprediction\u001b[0m \u001b[1;33m=\u001b[0m \u001b[0mmodel\u001b[0m\u001b[1;33m.\u001b[0m\u001b[0mpredict\u001b[0m\u001b[1;33m(\u001b[0m\u001b[0mX_\u001b[0m\u001b[1;33m)\u001b[0m\u001b[1;33m\u001b[0m\u001b[0m\n\u001b[0;32m    504\u001b[0m                 \u001b[1;32melse\u001b[0m\u001b[1;33m:\u001b[0m\u001b[1;33m\u001b[0m\u001b[0m\n\u001b[1;32m--> 505\u001b[1;33m                     \u001b[0mprediction\u001b[0m \u001b[1;33m=\u001b[0m \u001b[0mmodel\u001b[0m\u001b[1;33m.\u001b[0m\u001b[0mpredict_proba\u001b[0m\u001b[1;33m(\u001b[0m\u001b[0mX_\u001b[0m\u001b[1;33m)\u001b[0m\u001b[1;33m\u001b[0m\u001b[0m\n\u001b[0m\u001b[0;32m    506\u001b[0m \u001b[1;33m\u001b[0m\u001b[0m\n\u001b[0;32m    507\u001b[0m             \u001b[1;32mif\u001b[0m \u001b[0mlen\u001b[0m\u001b[1;33m(\u001b[0m\u001b[0mprediction\u001b[0m\u001b[1;33m.\u001b[0m\u001b[0mshape\u001b[0m\u001b[1;33m)\u001b[0m \u001b[1;33m<\u001b[0m \u001b[1;36m1\u001b[0m \u001b[1;32mor\u001b[0m \u001b[0mlen\u001b[0m\u001b[1;33m(\u001b[0m\u001b[0mX_\u001b[0m\u001b[1;33m.\u001b[0m\u001b[0mshape\u001b[0m\u001b[1;33m)\u001b[0m \u001b[1;33m<\u001b[0m \u001b[1;36m1\u001b[0m \u001b[1;32mor\u001b[0m\u001b[0;31m \u001b[0m\u001b[0;31m\\\u001b[0m\u001b[1;33m\u001b[0m\u001b[0m\n",
      "\u001b[1;32m/home/anand/anaconda3/lib/python3.5/site-packages/auto_sklearn-0.1.3-py3.5-linux-x86_64.egg/autosklearn/pipeline/classification.py\u001b[0m in \u001b[0;36mpredict_proba\u001b[1;34m(self, X, batch_size)\u001b[0m\n\u001b[0;32m    123\u001b[0m             \u001b[0mXt\u001b[0m \u001b[1;33m=\u001b[0m \u001b[0mX\u001b[0m\u001b[1;33m\u001b[0m\u001b[0m\n\u001b[0;32m    124\u001b[0m             \u001b[1;32mfor\u001b[0m \u001b[0mname\u001b[0m\u001b[1;33m,\u001b[0m \u001b[0mtransform\u001b[0m \u001b[1;32min\u001b[0m \u001b[0mself\u001b[0m\u001b[1;33m.\u001b[0m\u001b[0msteps\u001b[0m\u001b[1;33m[\u001b[0m\u001b[1;33m:\u001b[0m\u001b[1;33m-\u001b[0m\u001b[1;36m1\u001b[0m\u001b[1;33m]\u001b[0m\u001b[1;33m:\u001b[0m\u001b[1;33m\u001b[0m\u001b[0m\n\u001b[1;32m--> 125\u001b[1;33m                 \u001b[0mXt\u001b[0m \u001b[1;33m=\u001b[0m \u001b[0mtransform\u001b[0m\u001b[1;33m.\u001b[0m\u001b[0mtransform\u001b[0m\u001b[1;33m(\u001b[0m\u001b[0mXt\u001b[0m\u001b[1;33m)\u001b[0m\u001b[1;33m\u001b[0m\u001b[0m\n\u001b[0m\u001b[0;32m    126\u001b[0m \u001b[1;33m\u001b[0m\u001b[0m\n\u001b[0;32m    127\u001b[0m             \u001b[1;32mreturn\u001b[0m \u001b[0mself\u001b[0m\u001b[1;33m.\u001b[0m\u001b[0msteps\u001b[0m\u001b[1;33m[\u001b[0m\u001b[1;33m-\u001b[0m\u001b[1;36m1\u001b[0m\u001b[1;33m]\u001b[0m\u001b[1;33m[\u001b[0m\u001b[1;33m-\u001b[0m\u001b[1;36m1\u001b[0m\u001b[1;33m]\u001b[0m\u001b[1;33m.\u001b[0m\u001b[0mpredict_proba\u001b[0m\u001b[1;33m(\u001b[0m\u001b[0mXt\u001b[0m\u001b[1;33m)\u001b[0m\u001b[1;33m\u001b[0m\u001b[0m\n",
      "\u001b[1;32m/home/anand/anaconda3/lib/python3.5/site-packages/auto_sklearn-0.1.3-py3.5-linux-x86_64.egg/autosklearn/pipeline/components/data_preprocessing/one_hot_encoding/one_hot_encoding.py\u001b[0m in \u001b[0;36mtransform\u001b[1;34m(self, X)\u001b[0m\n\u001b[0;32m     53\u001b[0m             \u001b[1;32mreturn\u001b[0m \u001b[0mX\u001b[0m\u001b[1;33m\u001b[0m\u001b[0m\n\u001b[0;32m     54\u001b[0m         \u001b[1;32melse\u001b[0m\u001b[1;33m:\u001b[0m\u001b[1;33m\u001b[0m\u001b[0m\n\u001b[1;32m---> 55\u001b[1;33m             \u001b[1;32mreturn\u001b[0m \u001b[0mX\u001b[0m\u001b[1;33m.\u001b[0m\u001b[0mtoarray\u001b[0m\u001b[1;33m(\u001b[0m\u001b[1;33m)\u001b[0m\u001b[1;33m\u001b[0m\u001b[0m\n\u001b[0m\u001b[0;32m     56\u001b[0m \u001b[1;33m\u001b[0m\u001b[0m\n\u001b[0;32m     57\u001b[0m     \u001b[1;33m@\u001b[0m\u001b[0mstaticmethod\u001b[0m\u001b[1;33m\u001b[0m\u001b[0m\n",
      "\u001b[1;32m/home/anand/anaconda3/lib/python3.5/site-packages/pandas/core/generic.py\u001b[0m in \u001b[0;36m__getattr__\u001b[1;34m(self, name)\u001b[0m\n\u001b[0;32m   2358\u001b[0m                 \u001b[1;32mreturn\u001b[0m \u001b[0mself\u001b[0m\u001b[1;33m[\u001b[0m\u001b[0mname\u001b[0m\u001b[1;33m]\u001b[0m\u001b[1;33m\u001b[0m\u001b[0m\n\u001b[0;32m   2359\u001b[0m             raise AttributeError(\"'%s' object has no attribute '%s'\" %\n\u001b[1;32m-> 2360\u001b[1;33m                                  (type(self).__name__, name))\n\u001b[0m\u001b[0;32m   2361\u001b[0m \u001b[1;33m\u001b[0m\u001b[0m\n\u001b[0;32m   2362\u001b[0m     \u001b[1;32mdef\u001b[0m \u001b[0m__setattr__\u001b[0m\u001b[1;33m(\u001b[0m\u001b[0mself\u001b[0m\u001b[1;33m,\u001b[0m \u001b[0mname\u001b[0m\u001b[1;33m,\u001b[0m \u001b[0mvalue\u001b[0m\u001b[1;33m)\u001b[0m\u001b[1;33m:\u001b[0m\u001b[1;33m\u001b[0m\u001b[0m\n",
      "\u001b[1;31mAttributeError\u001b[0m: 'DataFrame' object has no attribute 'toarray'"
     ]
    }
   ],
   "source": [
    "import autosklearn.classification\n",
    "import sklearn.cross_validation\n",
    "from sklearn import datasets\n",
    "import sklearn.metrics\n",
    "\n",
    "import pandas as pd\n",
    "import numpy as np\n",
    "# Load the diabetes dataset\n",
    "diabetes = datasets.load_iris()\n",
    "\n",
    "# digits = sklearn.datasets.load_digits()\n",
    "# X = digits.data\n",
    "# y = digits.target\n",
    "X = pd.DataFrame(data=np.c_[diabetes['data']], columns=diabetes['feature_names'])\n",
    "y = diabetes.target\n",
    "X_train, X_test, y_train, y_test = \\\n",
    "    sklearn.cross_validation.train_test_split(X, y, random_state=1)\n",
    "\n",
    "automl = autosklearn.classification.AutoSklearnClassifier()\n",
    "automl.fit(X_train, y_train)\n",
    "y_hat = automl.predict(X_test)\n",
    "print(\"Accuracy score\", sklearn.metrics.accuracy_score(y_test, y_hat))\n"
   ]
  },
  {
   "cell_type": "code",
   "execution_count": null,
   "metadata": {
    "ExecuteTime": {
     "end_time": "2017-02-25T20:06:56.850689",
     "start_time": "2017-02-25T13:36:52.258Z"
    },
    "collapsed": true
   },
   "outputs": [],
   "source": [
    "from sklearn.externals import joblib\n",
    "joblib.dump(automl, '../models/automl_learnt_model.pkl')"
   ]
  }
 ],
 "metadata": {
  "kernelspec": {
   "display_name": "Python 3",
   "language": "python",
   "name": "python3"
  },
  "language_info": {
   "codemirror_mode": {
    "name": "ipython",
    "version": 3
   },
   "file_extension": ".py",
   "mimetype": "text/x-python",
   "name": "python",
   "nbconvert_exporter": "python",
   "pygments_lexer": "ipython3",
   "version": "3.5.2"
  }
 },
 "nbformat": 4,
 "nbformat_minor": 0
}
