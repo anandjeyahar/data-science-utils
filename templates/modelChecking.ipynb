{
 "cells": [
  {
   "cell_type": "code",
   "execution_count": 1,
   "metadata": {
    "ExecuteTime": {
     "end_time": "2017-12-07T08:57:28.085540Z",
     "start_time": "2017-12-07T08:57:27.094944Z"
    }
   },
   "outputs": [
    {
     "name": "stderr",
     "output_type": "stream",
     "text": [
      "/home/anand/playspace/data-science-utils/.eggs/statsmodels-0.8.0-py3.6-linux-x86_64.egg/statsmodels/compat/pandas.py:56: FutureWarning: The pandas.core.datetools module is deprecated and will be removed in a future version. Please use the pandas.tseries module instead.\n",
      "  from pandas.core import datetools\n",
      "/home/anand/anaconda3/envs/analytics/lib/python3.6/site-packages/sklearn/cross_validation.py:41: DeprecationWarning: This module was deprecated in version 0.18 in favor of the model_selection module into which all the refactored classes and functions are moved. Also note that the interface of the new CV iterators are different from that of this module. This module will be removed in 0.20.\n",
      "  \"This module will be removed in 0.20.\", DeprecationWarning)\n"
     ]
    },
    {
     "ename": "SyntaxError",
     "evalue": "keyword can't be an expression (statsutils.py, line 62)",
     "output_type": "error",
     "traceback": [
      "Traceback \u001b[0;36m(most recent call last)\u001b[0m:\n",
      "  File \u001b[1;32m\"/home/anand/.local/lib/python3.6/site-packages/IPython/core/interactiveshell.py\"\u001b[0m, line \u001b[1;32m2910\u001b[0m, in \u001b[1;35mrun_code\u001b[0m\n    exec(code_obj, self.user_global_ns, self.user_ns)\n",
      "  File \u001b[1;32m\"<ipython-input-1-a00e442214c6>\"\u001b[0m, line \u001b[1;32m2\u001b[0m, in \u001b[1;35m<module>\u001b[0m\n    from datascienceutils import clusteringModels as cm\n",
      "  File \u001b[1;32m\"<frozen importlib._bootstrap>\"\u001b[0m, line \u001b[1;32m971\u001b[0m, in \u001b[1;35m_find_and_load\u001b[0m\n",
      "  File \u001b[1;32m\"<frozen importlib._bootstrap>\"\u001b[0m, line \u001b[1;32m955\u001b[0m, in \u001b[1;35m_find_and_load_unlocked\u001b[0m\n",
      "  File \u001b[1;32m\"<frozen importlib._bootstrap>\"\u001b[0m, line \u001b[1;32m656\u001b[0m, in \u001b[1;35m_load_unlocked\u001b[0m\n",
      "  File \u001b[1;32m\"<frozen importlib._bootstrap>\"\u001b[0m, line \u001b[1;32m626\u001b[0m, in \u001b[1;35m_load_backward_compatible\u001b[0m\n",
      "  File \u001b[1;32m\"/home/anand/anaconda3/envs/analytics/lib/python3.6/site-packages/datascienceutils-1.2.25-py3.6.egg/datascienceutils/__init__.py\"\u001b[0m, line \u001b[1;32m2\u001b[0m, in \u001b[1;35m<module>\u001b[0m\n    from . import analyze\n",
      "  File \u001b[1;32m\"<frozen importlib._bootstrap>\"\u001b[0m, line \u001b[1;32m971\u001b[0m, in \u001b[1;35m_find_and_load\u001b[0m\n",
      "  File \u001b[1;32m\"<frozen importlib._bootstrap>\"\u001b[0m, line \u001b[1;32m955\u001b[0m, in \u001b[1;35m_find_and_load_unlocked\u001b[0m\n",
      "  File \u001b[1;32m\"<frozen importlib._bootstrap>\"\u001b[0m, line \u001b[1;32m656\u001b[0m, in \u001b[1;35m_load_unlocked\u001b[0m\n",
      "  File \u001b[1;32m\"<frozen importlib._bootstrap>\"\u001b[0m, line \u001b[1;32m626\u001b[0m, in \u001b[1;35m_load_backward_compatible\u001b[0m\n",
      "  File \u001b[1;32m\"/home/anand/anaconda3/envs/analytics/lib/python3.6/site-packages/datascienceutils-1.2.25-py3.6.egg/datascienceutils/analyze.py\"\u001b[0m, line \u001b[1;32m16\u001b[0m, in \u001b[1;35m<module>\u001b[0m\n    from . import statsutils as su\n",
      "  File \u001b[1;32m\"<frozen importlib._bootstrap>\"\u001b[0m, line \u001b[1;32m971\u001b[0m, in \u001b[1;35m_find_and_load\u001b[0m\n",
      "  File \u001b[1;32m\"<frozen importlib._bootstrap>\"\u001b[0m, line \u001b[1;32m951\u001b[0m, in \u001b[1;35m_find_and_load_unlocked\u001b[0m\n",
      "  File \u001b[1;32m\"<frozen importlib._bootstrap>\"\u001b[0m, line \u001b[1;32m894\u001b[0m, in \u001b[1;35m_find_spec\u001b[0m\n",
      "  File \u001b[1;32m\"<frozen importlib._bootstrap_external>\"\u001b[0m, line \u001b[1;32m1157\u001b[0m, in \u001b[1;35mfind_spec\u001b[0m\n",
      "  File \u001b[1;32m\"<frozen importlib._bootstrap_external>\"\u001b[0m, line \u001b[1;32m1131\u001b[0m, in \u001b[1;35m_get_spec\u001b[0m\n",
      "  File \u001b[1;32m\"<frozen importlib._bootstrap_external>\"\u001b[0m, line \u001b[1;32m1112\u001b[0m, in \u001b[1;35m_legacy_get_spec\u001b[0m\n",
      "  File \u001b[1;32m\"<frozen importlib._bootstrap>\"\u001b[0m, line \u001b[1;32m441\u001b[0m, in \u001b[1;35mspec_from_loader\u001b[0m\n",
      "\u001b[0;36m  File \u001b[0;32m\"<frozen importlib._bootstrap_external>\"\u001b[0;36m, line \u001b[0;32m544\u001b[0;36m, in \u001b[0;35mspec_from_file_location\u001b[0;36m\u001b[0m\n",
      "\u001b[0;36m  File \u001b[0;32m\"/home/anand/anaconda3/envs/analytics/lib/python3.6/site-packages/datascienceutils-1.2.25-py3.6.egg/datascienceutils/statsutils.py\"\u001b[0;36m, line \u001b[0;32m62\u001b[0m\n\u001b[0;31mSyntaxError\u001b[0m\u001b[0;31m:\u001b[0m keyword can't be an expression\n"
     ]
    }
   ],
   "source": [
    "# Custom libraries\n",
    "from datascienceutils import clusteringModels as cm\n",
    "from datascienceutils import analyze\n",
    "from datascienceutils import plotter\n",
    "from datascienceutils import sklearnUtils as sku\n",
    "\n",
    "# Standard libraries\n",
    "import json\n",
    "%matplotlib inline\n",
    "import datetime\n",
    "import numpy as np\n",
    "import pandas as pd\n",
    "\n",
    "from bokeh.plotting import figure, show, output_file, output_notebook, ColumnDataSource\n",
    "from bokeh.charts import Histogram\n",
    "import bokeh\n",
    "output_notebook()\n"
   ]
  },
  {
   "cell_type": "code",
   "execution_count": null,
   "metadata": {
    "ExecuteTime": {
     "end_time": "2017-12-07T08:57:28.086397Z",
     "start_time": "2017-12-07T08:57:27.095Z"
    }
   },
   "outputs": [],
   "source": [
    "from sklearn import datasets\n",
    "# Load the diabetes dataset\n",
    "diabetes = datasets.load_diabetes()\n",
    "# Use only one feature\n",
    "diabetes_X = diabetes.data[:, np.newaxis, 2]\n",
    "\n",
    "# Split the data into training/testing sets\n",
    "diabetes_X_train = diabetes_X[:-20]\n",
    "diabetes_X_test = diabetes_X[-20:]\n",
    "\n",
    "# Split the targets into training/testing sets\n",
    "diabetes_y_train = diabetes.target[:-20]\n",
    "diabetes_y_test = diabetes.target[-20:]"
   ]
  },
  {
   "cell_type": "code",
   "execution_count": null,
   "metadata": {
    "ExecuteTime": {
     "end_time": "2017-12-07T08:57:28.087189Z",
     "start_time": "2017-12-07T08:57:27.096Z"
    }
   },
   "outputs": [],
   "source": [
    "CHECK_DISTS = ['norm', 'expon', 'logistic', 'cosine', 'cauchy',]\n",
    "\n",
    "def distribution_tests(series, test_type='ks', dist_type=None):\n",
    "    from scipy import stats\n",
    "    if not dist_type:\n",
    "        ks_test_results = pd.DataFrame(columns=['distribution', 'statistic', 'p-value'])\n",
    "        for distribution in CHECK_DISTS:\n",
    "            if test_type=='ks':\n",
    "                print(\"Kolmogrov - Smirnov test with distribution %s\"%distribution)\n",
    "                try:\n",
    "                    stat, pval = stats.kstest(series, distribution)\n",
    "                except Exception:\n",
    "                    print(\"Error for dist: %s\"%distribution)\n",
    "                    continue\n",
    "                print(stat, pval)\n",
    "                ks_test_results.append({'distribution': distribution,\n",
    "                                        'statistic':stat,\n",
    "                                        'p-value':pval},ignore_index=True)\n",
    "            elif test_type =='wald':\n",
    "                print(\"Wald test with distribution %s\"%distribution)\n",
    "                print(lm.wald_test(series, distribution))\n",
    "            else:\n",
    "                raise \"Unknown distribution similarity test type\"\n",
    "        print(ks_test_results)\n",
    "    else:\n",
    "        print(stats.kstest(series, dist_type))\n",
    "distribution_tests(diabetes_X[0])"
   ]
  },
  {
   "cell_type": "code",
   "execution_count": null,
   "metadata": {
    "ExecuteTime": {
     "end_time": "2017-12-07T08:57:28.088092Z",
     "start_time": "2017-12-07T08:57:27.098Z"
    }
   },
   "outputs": [],
   "source": [
    "from datascienceutils import statsutils as su\n",
    "su.distribution_tests(diabetes_X[0],)"
   ]
  },
  {
   "cell_type": "code",
   "execution_count": null,
   "metadata": {
    "ExecuteTime": {
     "end_time": "2017-12-07T08:57:28.088851Z",
     "start_time": "2017-12-07T08:57:27.100Z"
    }
   },
   "outputs": [],
   "source": [
    "plotter.show(plotter.lineplot(pd.DataFrame(diabetes_X[0], columns=['0'])))"
   ]
  },
  {
   "cell_type": "code",
   "execution_count": null,
   "metadata": {
    "ExecuteTime": {
     "end_time": "2017-12-07T08:57:28.089552Z",
     "start_time": "2017-12-07T08:57:27.102Z"
    }
   },
   "outputs": [],
   "source": [
    "from sklearn.externals import joblib\n",
    "\n",
    "import os\n",
    "import glob\n",
    "files = glob.glob('../models/*.pkl')\n",
    "\n",
    "print(files)"
   ]
  },
  {
   "cell_type": "code",
   "execution_count": null,
   "metadata": {
    "ExecuteTime": {
     "end_time": "2017-12-07T08:57:28.090195Z",
     "start_time": "2017-12-07T08:57:27.103Z"
    }
   },
   "outputs": [],
   "source": [
    "from datascienceutils import settings\n",
    "settings.MODELS_BASE_PATH='../models'\n",
    "models = dict()\n",
    "for i,file in enumerate(files):\n",
    "    model = file.split('/')[-1][:-4]\n",
    "    models[i] = sku.load_model(model)\n",
    "    "
   ]
  },
  {
   "cell_type": "code",
   "execution_count": null,
   "metadata": {
    "ExecuteTime": {
     "end_time": "2017-12-07T08:57:28.090850Z",
     "start_time": "2017-12-07T08:57:27.105Z"
    }
   },
   "outputs": [],
   "source": [
    "models.items()"
   ]
  },
  {
   "cell_type": "code",
   "execution_count": null,
   "metadata": {
    "ExecuteTime": {
     "end_time": "2017-12-07T08:57:28.091540Z",
     "start_time": "2017-12-07T08:57:27.107Z"
    }
   },
   "outputs": [],
   "source": [
    "res = list()\n",
    "input_data = diabetes_X_test\n",
    "for k,(model, metadata) in models.items():\n",
    "       \n",
    "    res.append(model.predict(diabetes_X_test))\n",
    "    model_info = metadata\n",
    "    model_info.update({'model_class': 'regression'})\n",
    "    model_info.update({'output_metadata': {'dist':'norm'}})    # Declare predictions to belong to normal distribution\n",
    "    if model_info['model_class'] == 'regression':\n",
    "        predictions = model.predict(input_data)\n",
    "        # Check the predictions are type of continuous variables (float or int)\n",
    "        # parse and translate output_metadata to choice of tests\n",
    "        dist = model_info['output_metadata']['dist']\n",
    "        print(su.distribution_similarity(predictions, dist_type=dist))\n",
    "\n",
    "    \n"
   ]
  },
  {
   "cell_type": "code",
   "execution_count": null,
   "metadata": {
    "ExecuteTime": {
     "end_time": "2017-12-07T08:57:28.092180Z",
     "start_time": "2017-12-07T08:57:27.108Z"
    }
   },
   "outputs": [],
   "source": [
    "print(res)"
   ]
  }
 ],
 "metadata": {
  "kernelspec": {
   "display_name": "Python 3",
   "language": "python",
   "name": "python3"
  },
  "language_info": {
   "codemirror_mode": {
    "name": "ipython",
    "version": 3
   },
   "file_extension": ".py",
   "mimetype": "text/x-python",
   "name": "python",
   "nbconvert_exporter": "python",
   "pygments_lexer": "ipython3",
   "version": "3.6.3"
  }
 },
 "nbformat": 4,
 "nbformat_minor": 2
}
