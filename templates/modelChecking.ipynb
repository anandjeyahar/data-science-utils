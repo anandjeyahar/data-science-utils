{
 "cells": [
  {
   "cell_type": "code",
   "execution_count": null,
   "metadata": {
    "ExecuteTime": {
     "start_time": "2017-12-01T06:53:35.185Z"
    }
   },
   "outputs": [],
   "source": [
    "# Custom libraries\n",
    "from datascienceutils import clusteringModels as cm\n",
    "from datascienceutils import analyze\n",
    "from datascienceutils import plotter\n",
    "from datascienceutils import sklearnUtils as sku\n",
    "\n",
    "# Standard libraries\n",
    "import json\n",
    "%matplotlib inline\n",
    "import datetime\n",
    "import numpy as np\n",
    "import pandas as pd\n",
    "\n",
    "from bokeh.plotting import figure, show, output_file, output_notebook, ColumnDataSource\n",
    "from bokeh.charts import Histogram\n",
    "import bokeh\n",
    "output_notebook()\n"
   ]
  },
  {
   "cell_type": "code",
   "execution_count": null,
   "metadata": {
    "ExecuteTime": {
     "start_time": "2017-12-01T06:53:35.188Z"
    }
   },
   "outputs": [],
   "source": [
    "from sklearn import datasets\n",
    "# Load the diabetes dataset\n",
    "diabetes = datasets.load_diabetes()\n",
    "# Use only one feature\n",
    "diabetes_X = diabetes.data[:, np.newaxis, 2]\n",
    "\n",
    "# Split the data into training/testing sets\n",
    "diabetes_X_train = diabetes_X[:-20]\n",
    "diabetes_X_test = diabetes_X[-20:]\n",
    "\n",
    "# Split the targets into training/testing sets\n",
    "diabetes_y_train = diabetes.target[:-20]\n",
    "diabetes_y_test = diabetes.target[-20:]"
   ]
  },
  {
   "cell_type": "code",
   "execution_count": null,
   "metadata": {
    "ExecuteTime": {
     "start_time": "2017-12-01T06:53:35.190Z"
    }
   },
   "outputs": [],
   "source": [
    "CHECK_DISTS = ['norm', 'expon', 'logistic', 'cosine', 'cauchy',]\n",
    "\n",
    "def distribution_tests(series, test_type='ks', dist_type=None):\n",
    "    from scipy import stats\n",
    "    if not dist_type:\n",
    "        ks_test_results = pd.DataFrame(columns=['distribution', 'statistic', 'p-value'])\n",
    "        for distribution in CHECK_DISTS:\n",
    "            if test_type=='ks':\n",
    "                print(\"Kolmogrov - Smirnov test with distribution %s\"%distribution)\n",
    "                try:\n",
    "                    stat, pval = stats.kstest(series, distribution)\n",
    "                except Exception:\n",
    "                    print(\"Error for dist: %s\"%distribution)\n",
    "                    continue\n",
    "                print(stat, pval)\n",
    "                ks_test_results.append({'distribution': distribution,\n",
    "                                        'statistic':stat,\n",
    "                                        'p-value':pval},ignore_index=True)\n",
    "            elif test_type =='wald':\n",
    "                print(\"Wald test with distribution %s\"%distribution)\n",
    "                print(lm.wald_test(series, distribution))\n",
    "            else:\n",
    "                raise \"Unknown distribution similarity test type\"\n",
    "        print(ks_test_results)\n",
    "    else:\n",
    "        print(stats.kstest(series, dist_type))\n",
    "distribution_tests(diabetes_X[0])"
   ]
  },
  {
   "cell_type": "code",
   "execution_count": null,
   "metadata": {
    "ExecuteTime": {
     "start_time": "2017-12-01T06:53:35.193Z"
    }
   },
   "outputs": [],
   "source": [
    "from datascienceutils import statsutils as su\n",
    "su.distribution_tests(diabetes_X[0],)"
   ]
  },
  {
   "cell_type": "code",
   "execution_count": null,
   "metadata": {
    "ExecuteTime": {
     "start_time": "2017-12-01T06:53:35.196Z"
    }
   },
   "outputs": [],
   "source": [
    "from sklearn.externals import joblib\n",
    "\n",
    "import os\n",
    "import glob\n",
    "files = glob.glob('../models/*.pkl')\n",
    "\n",
    "print(files)"
   ]
  },
  {
   "cell_type": "code",
   "execution_count": null,
   "metadata": {
    "ExecuteTime": {
     "start_time": "2017-12-01T06:53:35.198Z"
    }
   },
   "outputs": [],
   "source": [
    "from datascienceutils import settings\n",
    "settings.MODELS_BASE_PATH='../models'\n",
    "models = dict()\n",
    "for i,file in enumerate(files):\n",
    "    model = file.split('/')[-1][:-4]\n",
    "    models[i] = sku.load_model(model)\n",
    "    "
   ]
  },
  {
   "cell_type": "code",
   "execution_count": null,
   "metadata": {
    "ExecuteTime": {
     "start_time": "2017-12-01T06:53:35.200Z"
    }
   },
   "outputs": [],
   "source": [
    "models.items()"
   ]
  },
  {
   "cell_type": "code",
   "execution_count": null,
   "metadata": {
    "ExecuteTime": {
     "start_time": "2017-12-01T06:53:35.202Z"
    }
   },
   "outputs": [],
   "source": [
    "res = list()\n",
    "for k,(model, metadata) in models.items():\n",
    "    print(metadata)\n",
    "    res.append(model.predict(diabetes_X_test))\n",
    "    if metadata['output_type'] == 'float':\n",
    "        assert map(lambda x: isinstance(x, float), m)\n",
    "    if metadata['output_metadata']:\n",
    "        pass\n",
    "    if metadata['input_metadata']:\n",
    "        pass\n",
    "    \n"
   ]
  },
  {
   "cell_type": "code",
   "execution_count": null,
   "metadata": {
    "ExecuteTime": {
     "start_time": "2017-12-01T06:53:35.204Z"
    }
   },
   "outputs": [],
   "source": [
    "print(res)"
   ]
  }
 ],
 "metadata": {
  "kernelspec": {
   "display_name": "Python 3",
   "language": "python",
   "name": "python3"
  },
  "language_info": {
   "codemirror_mode": {
    "name": "ipython",
    "version": 3
   },
   "file_extension": ".py",
   "mimetype": "text/x-python",
   "name": "python",
   "nbconvert_exporter": "python",
   "pygments_lexer": "ipython3",
   "version": "3.6.3"
  }
 },
 "nbformat": 4,
 "nbformat_minor": 2
}
